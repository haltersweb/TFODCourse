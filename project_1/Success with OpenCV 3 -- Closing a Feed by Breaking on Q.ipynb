{
 "cells": [
  {
   "cell_type": "markdown",
   "id": "edfcf8f6",
   "metadata": {},
   "source": [
    "# Success closing live feed by breaking on \"q\"\n",
    "* Listen for the \"q\" key while feed is happening\n",
    "* The Py process shown in the dock is just the kernal that's already running\n",
    "* Seems OK to keep the py process in the dock\n",
    "* Py being an alias is OK on venv\n",
    "* Re-opening keeps the same Py alias open (rather than starting a second one)\n",
    "* I am able to keep working in Jupyter kernel as long as I don't Force Close.\n",
    "* code block won't resolve until process is ended with a key press\n",
    "\n",
    "## Understanding waitKey\n",
    "\n",
    "* waitKey(1) is used here.  Some suggest using waitKey(10).  If I ever run into issues, I will try that.\n",
    "* waitKey(0) won't work here because the code needs to continue on in order to test for \"q\"\n",
    "* once \"q\" keypress is recognized, break the while loop and release the camera capture\n",
    "* waitKey(1) must be used after destroyWindow() / destroyAllWindows() to complete closing\n",
    "* waitKey(ms) waits for defined milliseconds before moving on\n",
    "\n",
    "## Documentation\n",
    "[Top 5 inevitable methods for beginners in OpenCV using Python](https://medium.com/analytics-vidhya/top-5-inevitable-methods-for-beginners-in-opencv-using-python-9ff8e7ddb5ae)"
   ]
  },
  {
   "cell_type": "code",
   "execution_count": 1,
   "id": "b33a0996",
   "metadata": {},
   "outputs": [],
   "source": [
    "import cv2"
   ]
  },
  {
   "cell_type": "code",
   "execution_count": 3,
   "id": "8f84a6f8",
   "metadata": {},
   "outputs": [
    {
     "data": {
      "text/plain": [
       "-1"
      ]
     },
     "execution_count": 3,
     "metadata": {},
     "output_type": "execute_result"
    }
   ],
   "source": [
    "cap = cv2.VideoCapture(2)\n",
    "while cap.isOpened():\n",
    "\n",
    "    # read camera feed\n",
    "    ret, frame = cap.read() # read frame from camera\n",
    "\n",
    "    # show frame on screen\n",
    "    cv2.imshow('Camera Feed', frame)\n",
    "\n",
    "    # break gracefully\n",
    "    if cv2.waitKey(1) & 0xFF == ord('q'):\n",
    "        break\n",
    "\n",
    "# release the camera\n",
    "cap.release() # release the camera\n",
    "\n",
    "# close the video frame window\n",
    "cv2.waitKey(1) # gotta' always wait first\n",
    "cv2.destroyAllWindows() # close all windows\n",
    "cv2.waitKey(1) # window won't close unless you wait"
   ]
  },
  {
   "cell_type": "markdown",
   "id": "66d51a44",
   "metadata": {},
   "source": [
    "### (Failed) Hypothesis:  \n",
    "\n",
    "Could I do this instead?\n",
    "```\n",
    "    cv2.waitKey(1)\n",
    "    if 0xFF == ord('q'):\n",
    "        break\n",
    "```\n",
    "\n",
    "NOPE!  WaitKey() needs to be run as part of the if statement.\n",
    "\n",
    "Try to run the code below.  **It won't work.**"
   ]
  },
  {
   "cell_type": "code",
   "execution_count": null,
   "id": "da2284d8",
   "metadata": {},
   "outputs": [],
   "source": [
    "cap = cv2.VideoCapture(0)\n",
    "while cap.isOpened():\n",
    "\n",
    "    # read camera feed\n",
    "    ret, frame = cap.read() # read frame from camera\n",
    "\n",
    "    # show frame on screen\n",
    "    cv2.imshow('Camera Feed', frame)\n",
    "\n",
    "    # break gracefully\n",
    "    cv2.waitKey(1)\n",
    "    if 0xFF == ord('q'):\n",
    "        break\n",
    "\n",
    "# release the camera\n",
    "cap.release() # release the camera\n",
    "\n",
    "# close the video frame window\n",
    "cv2.waitKey(1) # gotta' always wait first\n",
    "cv2.destroyAllWindows() # close all windows\n",
    "cv2.waitKey(1) # window won't close unless you wait"
   ]
  },
  {
   "cell_type": "code",
   "execution_count": null,
   "id": "652fa268",
   "metadata": {},
   "outputs": [],
   "source": []
  }
 ],
 "metadata": {
  "kernelspec": {
   "display_name": "Python 3 (ipykernel)",
   "language": "python",
   "name": "python3"
  },
  "language_info": {
   "codemirror_mode": {
    "name": "ipython",
    "version": 3
   },
   "file_extension": ".py",
   "mimetype": "text/x-python",
   "name": "python",
   "nbconvert_exporter": "python",
   "pygments_lexer": "ipython3",
   "version": "3.9.13"
  }
 },
 "nbformat": 4,
 "nbformat_minor": 5
}
