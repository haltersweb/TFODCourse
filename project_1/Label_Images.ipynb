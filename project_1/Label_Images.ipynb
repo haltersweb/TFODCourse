{
 "cells": [
  {
   "cell_type": "markdown",
   "id": "f5da4c24",
   "metadata": {},
   "source": [
    "# Labeling Images\n",
    "## 1. Import Dependencies\n",
    "\n",
    "* __os__ (operating system) -- great for file paths compatible with linux, mac, windows\n",
    "\n",
    "### Import dependencies"
   ]
  },
  {
   "cell_type": "code",
   "execution_count": 5,
   "id": "770913cb",
   "metadata": {},
   "outputs": [],
   "source": [
    "import os"
   ]
  },
  {
   "cell_type": "markdown",
   "id": "58aa75f4",
   "metadata": {},
   "source": [
    "## 2. Install LabelImg Python Application\n",
    "\n",
    "### Install application dependencies\n",
    "\n",
    "* pyqt5\n",
    "* lxml"
   ]
  },
  {
   "cell_type": "code",
   "execution_count": 1,
   "id": "d98aa9c7",
   "metadata": {},
   "outputs": [
    {
     "name": "stdout",
     "output_type": "stream",
     "text": [
      "Collecting pyqt5\n",
      "  Downloading PyQt5-5.15.7-cp37-abi3-macosx_10_13_x86_64.whl (7.0 MB)\n",
      "\u001b[2K     \u001b[90m━━━━━━━━━━━━━━━━━━━━━━━━━━━━━━━━━━━━━━━━\u001b[0m \u001b[32m7.0/7.0 MB\u001b[0m \u001b[31m33.7 MB/s\u001b[0m eta \u001b[36m0:00:00\u001b[0m00:01\u001b[0m00:01\u001b[0m\n",
      "\u001b[?25hRequirement already satisfied: lxml in /Users/ahalte200/Library/CloudStorage/OneDrive-Comcast/Mac Desktop/Git_Repositories/TFODCourse/lib/python3.9/site-packages (4.9.1)\n",
      "Collecting PyQt5-sip<13,>=12.11\n",
      "  Downloading PyQt5_sip-12.11.0-cp39-cp39-macosx_10_9_universal2.whl (142 kB)\n",
      "\u001b[2K     \u001b[90m━━━━━━━━━━━━━━━━━━━━━━━━━━━━━━━━━━━━━━━\u001b[0m \u001b[32m142.5/142.5 kB\u001b[0m \u001b[31m5.9 MB/s\u001b[0m eta \u001b[36m0:00:00\u001b[0m\n",
      "\u001b[?25hCollecting PyQt5-Qt5>=5.15.0\n",
      "  Downloading PyQt5_Qt5-5.15.2-py3-none-macosx_10_13_intel.whl (40.5 MB)\n",
      "\u001b[2K     \u001b[90m━━━━━━━━━━━━━━━━━━━━━━━━━━━━━━━━━━━━━━━━\u001b[0m \u001b[32m40.5/40.5 MB\u001b[0m \u001b[31m42.0 MB/s\u001b[0m eta \u001b[36m0:00:00\u001b[0m00:01\u001b[0m00:01\u001b[0m\n",
      "\u001b[?25hInstalling collected packages: PyQt5-Qt5, PyQt5-sip, pyqt5\n",
      "Successfully installed PyQt5-Qt5-5.15.2 PyQt5-sip-12.11.0 pyqt5-5.15.7\n"
     ]
    }
   ],
   "source": [
    "!pip install --upgrade pyqt5 lxml"
   ]
  },
  {
   "cell_type": "markdown",
   "id": "dfcfbe82",
   "metadata": {},
   "source": [
    "### Clone application\n",
    "\n",
    "from https://github.com/heartexlabs/labelImg"
   ]
  },
  {
   "cell_type": "code",
   "execution_count": 6,
   "id": "a94421ed",
   "metadata": {},
   "outputs": [
    {
     "name": "stdout",
     "output_type": "stream",
     "text": [
      "../LabelImg\n"
     ]
    }
   ],
   "source": [
    "#make path string for Label Image application:\n",
    "# putting directly into the TFODCourse folder (..)\n",
    "LABELIMG_PATH = os.path.join('..', 'LabelImg')\n",
    "print(LABELIMG_PATH)"
   ]
  },
  {
   "cell_type": "code",
   "execution_count": 7,
   "id": "8a7a3e32",
   "metadata": {},
   "outputs": [
    {
     "name": "stdout",
     "output_type": "stream",
     "text": [
      "Cloning into '../LabelImg'...\n",
      "remote: Enumerating objects: 2090, done.\u001b[K\n",
      "remote: Counting objects: 100% (104/104), done.\u001b[K\n",
      "remote: Compressing objects: 100% (68/68), done.\u001b[K\n",
      "remote: Total 2090 (delta 43), reused 67 (delta 33), pack-reused 1986\u001b[K\n",
      "Receiving objects: 100% (2090/2090), 232.91 MiB | 67.39 MiB/s, done.\n",
      "Resolving deltas: 100% (1229/1229), done.\n"
     ]
    }
   ],
   "source": [
    "# if directory doesn't exist make it\n",
    "if not os.path.exists(LABELIMG_PATH):\n",
    "    # clone application in directory\n",
    "    !mkdir {LABELIMG_PATH}\n",
    "    !git clone https://github.com/heartexlabs/labelImg.git {LABELIMG_PATH}"
   ]
  },
  {
   "cell_type": "markdown",
   "id": "4a6784cd",
   "metadata": {},
   "source": [
    "### Final installation steps per OS\n",
    "\n",
    "Final steps based on OS found in the Readme instructions on https://github.com/heartexlabs/labelImg"
   ]
  },
  {
   "cell_type": "code",
   "execution_count": 8,
   "id": "e9ba6199",
   "metadata": {},
   "outputs": [
    {
     "name": "stdout",
     "output_type": "stream",
     "text": [
      "pyrcc5 -o libs/resources.py resources.qrc\r\n"
     ]
    }
   ],
   "source": [
    "if os.name == 'posix':\n",
    "    !cd {LABELIMG_PATH} && make qt5py3\n",
    "elif os.name == 'nt':\n",
    "    !cd {LABELIMG_PATH} && pyrcc5 -o libs/resources.py resources.qrc"
   ]
  },
  {
   "cell_type": "markdown",
   "id": "330adc91",
   "metadata": {},
   "source": [
    "## Open LabelImg Application with Python\n",
    "The cell below will stay running `[*]` while LabelImg is open"
   ]
  },
  {
   "cell_type": "code",
   "execution_count": 11,
   "id": "a09adc0e",
   "metadata": {},
   "outputs": [
    {
     "name": "stdout",
     "output_type": "stream",
     "text": [
      "Traceback (most recent call last):\r\n",
      "  File \"/Users/ahalte200/Library/CloudStorage/OneDrive-Comcast/Mac Desktop/Git_Repositories/TFODCourse/LabelImg/labelImg.py\", line 1359, in open_dir_dialog\r\n",
      "    self.import_dir_images(target_dir_path)\r\n",
      "  File \"/Users/ahalte200/Library/CloudStorage/OneDrive-Comcast/Mac Desktop/Git_Repositories/TFODCourse/LabelImg/labelImg.py\", line 1374, in import_dir_images\r\n",
      "    self.open_next_image()\r\n",
      "  File \"/Users/ahalte200/Library/CloudStorage/OneDrive-Comcast/Mac Desktop/Git_Repositories/TFODCourse/LabelImg/labelImg.py\", line 1429, in open_next_image\r\n",
      "    self.change_save_dir_dialog()\r\n",
      "  File \"/Users/ahalte200/Library/CloudStorage/OneDrive-Comcast/Mac Desktop/Git_Repositories/TFODCourse/LabelImg/labelImg.py\", line 1309, in change_save_dir_dialog\r\n",
      "    self.show_bounding_box_from_annotation_file(self.file_path)\r\n",
      "  File \"/Users/ahalte200/Library/CloudStorage/OneDrive-Comcast/Mac Desktop/Git_Repositories/TFODCourse/LabelImg/labelImg.py\", line 1182, in show_bounding_box_from_annotation_file\r\n",
      "    basename = os.path.basename(os.path.splitext(file_path)[0])\r\n",
      "  File \"/Users/ahalte200/.pyenv/versions/3.9.13/lib/python3.9/posixpath.py\", line 118, in splitext\r\n",
      "    p = os.fspath(p)\r\n",
      "TypeError: expected str, bytes or os.PathLike object, not NoneType\r\n"
     ]
    }
   ],
   "source": [
    "!cd {LABELIMG_PATH} && python labelImg.py"
   ]
  },
  {
   "cell_type": "markdown",
   "id": "9cf454e1",
   "metadata": {},
   "source": [
    "Move images to training and testing partition"
   ]
  }
 ],
 "metadata": {
  "kernelspec": {
   "display_name": "TFODCourse",
   "language": "python",
   "name": "tfodcourse"
  },
  "language_info": {
   "codemirror_mode": {
    "name": "ipython",
    "version": 3
   },
   "file_extension": ".py",
   "mimetype": "text/x-python",
   "name": "python",
   "nbconvert_exporter": "python",
   "pygments_lexer": "ipython3",
   "version": "3.9.13"
  }
 },
 "nbformat": 4,
 "nbformat_minor": 5
}
