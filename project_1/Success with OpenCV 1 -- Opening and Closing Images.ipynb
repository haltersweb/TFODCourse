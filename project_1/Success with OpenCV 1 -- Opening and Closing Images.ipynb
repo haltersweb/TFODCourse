{
 "cells": [
  {
   "cell_type": "markdown",
   "id": "35e5c6b0",
   "metadata": {},
   "source": [
    "# Success closing images without key break\n",
    "\n",
    "* Open images using cv2\n",
    "* Close image frame(s):\n",
    "    * after certain time OR\n",
    "    * manually\n",
    "* The Py process shown in the dock is just the kernal that's already running\n",
    "* Seems OK to keep the py process in the dock\n",
    "* Py being an alias is OK on venv\n",
    "* Re-opening keeps the same Py alias open (rather than starting a second one)\n",
    "* I am able to keep working in Jupyter kernel as long as I don't Force Close.\n",
    "* This solution doesn't use key break\n",
    "\n",
    "## Understanding waitKey\n",
    "\n",
    "* waitKey(ms) waits for defined milliseconds before moving on\n",
    "* waitKey(1) must be used after destroyWindow() / destroyAllWindows() to complete closing\n",
    "* Note: waitKey(0) (not used here) keeps waiting without moving on to the next command line\n",
    "\n",
    "## Documentation\n",
    "[Top 5 inevitable methods for beginners in OpenCV using Python](https://medium.com/analytics-vidhya/top-5-inevitable-methods-for-beginners-in-opencv-using-python-9ff8e7ddb5ae)"
   ]
  },
  {
   "cell_type": "code",
   "execution_count": 1,
   "id": "45b2ce47",
   "metadata": {},
   "outputs": [],
   "source": [
    "import cv2"
   ]
  },
  {
   "cell_type": "code",
   "execution_count": 2,
   "id": "02acc171",
   "metadata": {},
   "outputs": [],
   "source": [
    "def show_img(autoclose = False): # if pass True then autoclose after 5000 ms, else keep open\n",
    "    my_img = cv2.imread('plant.jpeg', 0)\n",
    "    cv2.imshow('foo', my_img) # show the plant image in \"foo\" frame\n",
    "    cv2.imshow('bar', my_img) # show the plant image in \"bar\" frame\n",
    "    cv2.waitKey(5000) # wait 5 seconds\n",
    "    if(autoclose):\n",
    "        cv2.destroyAllWindows() #close all frames\n",
    "        cv2.waitKey(1)"
   ]
  },
  {
   "cell_type": "code",
   "execution_count": 5,
   "id": "f34d3ee0",
   "metadata": {},
   "outputs": [],
   "source": [
    "show_img(True) # show both images and autoclose them"
   ]
  },
  {
   "cell_type": "code",
   "execution_count": 6,
   "id": "3fa9e775",
   "metadata": {},
   "outputs": [],
   "source": [
    "show_img() # show both images and keep them open"
   ]
  },
  {
   "cell_type": "code",
   "execution_count": 58,
   "id": "a568b35a",
   "metadata": {},
   "outputs": [
    {
     "data": {
      "text/plain": [
       "-1"
      ]
     },
     "execution_count": 58,
     "metadata": {},
     "output_type": "execute_result"
    }
   ],
   "source": [
    "# destroy the foo frame\n",
    "cv2.destroyWindow('foo')\n",
    "cv2.waitKey(1)"
   ]
  },
  {
   "cell_type": "code",
   "execution_count": 59,
   "id": "d52574c2",
   "metadata": {},
   "outputs": [
    {
     "data": {
      "text/plain": [
       "-1"
      ]
     },
     "execution_count": 59,
     "metadata": {},
     "output_type": "execute_result"
    }
   ],
   "source": [
    "# destroy the bar frame\n",
    "cv2.destroyWindow('bar')\n",
    "cv2.waitKey(1)"
   ]
  },
  {
   "cell_type": "code",
   "execution_count": 4,
   "id": "6fdbb86f",
   "metadata": {},
   "outputs": [
    {
     "name": "stdout",
     "output_type": "stream",
     "text": [
      "hello world\n"
     ]
    }
   ],
   "source": [
    "print(\"hello world\")"
   ]
  },
  {
   "cell_type": "code",
   "execution_count": null,
   "id": "fcf223d9",
   "metadata": {},
   "outputs": [],
   "source": []
  }
 ],
 "metadata": {
  "kernelspec": {
   "display_name": "Python 3 (ipykernel)",
   "language": "python",
   "name": "python3"
  },
  "language_info": {
   "codemirror_mode": {
    "name": "ipython",
    "version": 3
   },
   "file_extension": ".py",
   "mimetype": "text/x-python",
   "name": "python",
   "nbconvert_exporter": "python",
   "pygments_lexer": "ipython3",
   "version": "3.9.13"
  }
 },
 "nbformat": 4,
 "nbformat_minor": 5
}
