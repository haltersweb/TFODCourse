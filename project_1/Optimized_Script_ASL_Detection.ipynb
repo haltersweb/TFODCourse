{
 "cells": [
  {
   "cell_type": "markdown",
   "id": "3a4f32a8",
   "metadata": {},
   "source": [
    "# ASL Detection\n",
    "\n",
    "(optimized the script from Sign_Language_Detection_with_Action_Recognition.ipynb)"
   ]
  },
  {
   "cell_type": "markdown",
   "id": "bdbe927e",
   "metadata": {},
   "source": [
    "## 1. Install / import dependencies"
   ]
  },
  {
   "cell_type": "code",
   "execution_count": 1,
   "id": "953d49c1",
   "metadata": {},
   "outputs": [
    {
     "name": "stdout",
     "output_type": "stream",
     "text": [
      "Requirement already satisfied: tensorflow in /Users/ahalte200/Git_Repositories_Other/TFODCourse/lib/python3.9/site-packages (2.9.2)\n",
      "Requirement already satisfied: opencv-python in /Users/ahalte200/Git_Repositories_Other/TFODCourse/lib/python3.9/site-packages (4.6.0.66)\n",
      "Requirement already satisfied: mediapipe in /Users/ahalte200/Git_Repositories_Other/TFODCourse/lib/python3.9/site-packages (0.8.11)\n",
      "Requirement already satisfied: sklearn in /Users/ahalte200/Git_Repositories_Other/TFODCourse/lib/python3.9/site-packages (0.0)\n",
      "Requirement already satisfied: matplotlib in /Users/ahalte200/Git_Repositories_Other/TFODCourse/lib/python3.9/site-packages (3.5.3)\n",
      "Requirement already satisfied: termcolor>=1.1.0 in /Users/ahalte200/Git_Repositories_Other/TFODCourse/lib/python3.9/site-packages (from tensorflow) (1.1.0)\n",
      "Requirement already satisfied: gast<=0.4.0,>=0.2.1 in /Users/ahalte200/Git_Repositories_Other/TFODCourse/lib/python3.9/site-packages (from tensorflow) (0.4.0)\n",
      "Requirement already satisfied: protobuf<3.20,>=3.9.2 in /Users/ahalte200/Git_Repositories_Other/TFODCourse/lib/python3.9/site-packages (from tensorflow) (3.19.4)\n",
      "Requirement already satisfied: tensorflow-io-gcs-filesystem>=0.23.1 in /Users/ahalte200/Git_Repositories_Other/TFODCourse/lib/python3.9/site-packages (from tensorflow) (0.27.0)\n",
      "Requirement already satisfied: typing-extensions>=3.6.6 in /Users/ahalte200/Git_Repositories_Other/TFODCourse/lib/python3.9/site-packages (from tensorflow) (4.3.0)\n",
      "Requirement already satisfied: google-pasta>=0.1.1 in /Users/ahalte200/Git_Repositories_Other/TFODCourse/lib/python3.9/site-packages (from tensorflow) (0.2.0)\n",
      "Requirement already satisfied: tensorboard<2.10,>=2.9 in /Users/ahalte200/Git_Repositories_Other/TFODCourse/lib/python3.9/site-packages (from tensorflow) (2.9.1)\n",
      "Requirement already satisfied: packaging in /Users/ahalte200/Git_Repositories_Other/TFODCourse/lib/python3.9/site-packages (from tensorflow) (21.3)\n",
      "Requirement already satisfied: grpcio<2.0,>=1.24.3 in /Users/ahalte200/Git_Repositories_Other/TFODCourse/lib/python3.9/site-packages (from tensorflow) (1.48.1)\n",
      "Requirement already satisfied: h5py>=2.9.0 in /Users/ahalte200/Git_Repositories_Other/TFODCourse/lib/python3.9/site-packages (from tensorflow) (3.7.0)\n",
      "Requirement already satisfied: flatbuffers<2,>=1.12 in /Users/ahalte200/Git_Repositories_Other/TFODCourse/lib/python3.9/site-packages (from tensorflow) (1.12)\n",
      "Requirement already satisfied: opt-einsum>=2.3.2 in /Users/ahalte200/Git_Repositories_Other/TFODCourse/lib/python3.9/site-packages (from tensorflow) (3.3.0)\n",
      "Requirement already satisfied: wrapt>=1.11.0 in /Users/ahalte200/Git_Repositories_Other/TFODCourse/lib/python3.9/site-packages (from tensorflow) (1.14.1)\n",
      "Requirement already satisfied: numpy>=1.20 in /Users/ahalte200/Git_Repositories_Other/TFODCourse/lib/python3.9/site-packages (from tensorflow) (1.22.4)\n",
      "Requirement already satisfied: astunparse>=1.6.0 in /Users/ahalte200/Git_Repositories_Other/TFODCourse/lib/python3.9/site-packages (from tensorflow) (1.6.3)\n",
      "Requirement already satisfied: six>=1.12.0 in /Users/ahalte200/Git_Repositories_Other/TFODCourse/lib/python3.9/site-packages (from tensorflow) (1.16.0)\n",
      "Requirement already satisfied: absl-py>=1.0.0 in /Users/ahalte200/Git_Repositories_Other/TFODCourse/lib/python3.9/site-packages (from tensorflow) (1.2.0)\n",
      "Requirement already satisfied: libclang>=13.0.0 in /Users/ahalte200/Git_Repositories_Other/TFODCourse/lib/python3.9/site-packages (from tensorflow) (14.0.6)\n",
      "Requirement already satisfied: tensorflow-estimator<2.10.0,>=2.9.0rc0 in /Users/ahalte200/Git_Repositories_Other/TFODCourse/lib/python3.9/site-packages (from tensorflow) (2.9.0)\n",
      "Requirement already satisfied: keras-preprocessing>=1.1.1 in /Users/ahalte200/Git_Repositories_Other/TFODCourse/lib/python3.9/site-packages (from tensorflow) (1.1.2)\n",
      "Requirement already satisfied: keras<2.10.0,>=2.9.0rc0 in /Users/ahalte200/Git_Repositories_Other/TFODCourse/lib/python3.9/site-packages (from tensorflow) (2.9.0)\n",
      "Requirement already satisfied: setuptools in /Users/ahalte200/Git_Repositories_Other/TFODCourse/lib/python3.9/site-packages (from tensorflow) (58.1.0)\n",
      "Requirement already satisfied: attrs>=19.1.0 in /Users/ahalte200/Git_Repositories_Other/TFODCourse/lib/python3.9/site-packages (from mediapipe) (22.1.0)\n",
      "Requirement already satisfied: opencv-contrib-python in /Users/ahalte200/Git_Repositories_Other/TFODCourse/lib/python3.9/site-packages (from mediapipe) (4.6.0.66)\n",
      "Requirement already satisfied: scikit-learn in /Users/ahalte200/Git_Repositories_Other/TFODCourse/lib/python3.9/site-packages (from sklearn) (1.1.2)\n",
      "Requirement already satisfied: pillow>=6.2.0 in /Users/ahalte200/Git_Repositories_Other/TFODCourse/lib/python3.9/site-packages (from matplotlib) (9.2.0)\n",
      "Requirement already satisfied: python-dateutil>=2.7 in /Users/ahalte200/Git_Repositories_Other/TFODCourse/lib/python3.9/site-packages (from matplotlib) (2.8.2)\n",
      "Requirement already satisfied: fonttools>=4.22.0 in /Users/ahalte200/Git_Repositories_Other/TFODCourse/lib/python3.9/site-packages (from matplotlib) (4.37.1)\n",
      "Requirement already satisfied: kiwisolver>=1.0.1 in /Users/ahalte200/Git_Repositories_Other/TFODCourse/lib/python3.9/site-packages (from matplotlib) (1.4.4)\n",
      "Requirement already satisfied: cycler>=0.10 in /Users/ahalte200/Git_Repositories_Other/TFODCourse/lib/python3.9/site-packages (from matplotlib) (0.11.0)\n",
      "Requirement already satisfied: pyparsing>=2.2.1 in /Users/ahalte200/Git_Repositories_Other/TFODCourse/lib/python3.9/site-packages (from matplotlib) (2.4.7)\n",
      "Requirement already satisfied: wheel<1.0,>=0.23.0 in /Users/ahalte200/Git_Repositories_Other/TFODCourse/lib/python3.9/site-packages (from astunparse>=1.6.0->tensorflow) (0.37.1)\n",
      "Requirement already satisfied: markdown>=2.6.8 in /Users/ahalte200/Git_Repositories_Other/TFODCourse/lib/python3.9/site-packages (from tensorboard<2.10,>=2.9->tensorflow) (3.4.1)\n",
      "Requirement already satisfied: werkzeug>=1.0.1 in /Users/ahalte200/Git_Repositories_Other/TFODCourse/lib/python3.9/site-packages (from tensorboard<2.10,>=2.9->tensorflow) (2.2.2)\n",
      "Requirement already satisfied: google-auth<3,>=1.6.3 in /Users/ahalte200/Git_Repositories_Other/TFODCourse/lib/python3.9/site-packages (from tensorboard<2.10,>=2.9->tensorflow) (2.11.0)\n",
      "Requirement already satisfied: google-auth-oauthlib<0.5,>=0.4.1 in /Users/ahalte200/Git_Repositories_Other/TFODCourse/lib/python3.9/site-packages (from tensorboard<2.10,>=2.9->tensorflow) (0.4.6)\n",
      "Requirement already satisfied: tensorboard-plugin-wit>=1.6.0 in /Users/ahalte200/Git_Repositories_Other/TFODCourse/lib/python3.9/site-packages (from tensorboard<2.10,>=2.9->tensorflow) (1.8.1)\n",
      "Requirement already satisfied: tensorboard-data-server<0.7.0,>=0.6.0 in /Users/ahalte200/Git_Repositories_Other/TFODCourse/lib/python3.9/site-packages (from tensorboard<2.10,>=2.9->tensorflow) (0.6.1)\n",
      "Requirement already satisfied: requests<3,>=2.21.0 in /Users/ahalte200/Git_Repositories_Other/TFODCourse/lib/python3.9/site-packages (from tensorboard<2.10,>=2.9->tensorflow) (2.28.1)\n",
      "Requirement already satisfied: scipy>=1.3.2 in /Users/ahalte200/Git_Repositories_Other/TFODCourse/lib/python3.9/site-packages (from scikit-learn->sklearn) (1.9.1)\n",
      "Requirement already satisfied: threadpoolctl>=2.0.0 in /Users/ahalte200/Git_Repositories_Other/TFODCourse/lib/python3.9/site-packages (from scikit-learn->sklearn) (3.1.0)\n",
      "Requirement already satisfied: joblib>=1.0.0 in /Users/ahalte200/Git_Repositories_Other/TFODCourse/lib/python3.9/site-packages (from scikit-learn->sklearn) (1.1.0)\n",
      "Requirement already satisfied: pyasn1-modules>=0.2.1 in /Users/ahalte200/Git_Repositories_Other/TFODCourse/lib/python3.9/site-packages (from google-auth<3,>=1.6.3->tensorboard<2.10,>=2.9->tensorflow) (0.2.8)\n",
      "Requirement already satisfied: rsa<5,>=3.1.4 in /Users/ahalte200/Git_Repositories_Other/TFODCourse/lib/python3.9/site-packages (from google-auth<3,>=1.6.3->tensorboard<2.10,>=2.9->tensorflow) (4.9)\n",
      "Requirement already satisfied: cachetools<6.0,>=2.0.0 in /Users/ahalte200/Git_Repositories_Other/TFODCourse/lib/python3.9/site-packages (from google-auth<3,>=1.6.3->tensorboard<2.10,>=2.9->tensorflow) (5.2.0)\n",
      "Requirement already satisfied: requests-oauthlib>=0.7.0 in /Users/ahalte200/Git_Repositories_Other/TFODCourse/lib/python3.9/site-packages (from google-auth-oauthlib<0.5,>=0.4.1->tensorboard<2.10,>=2.9->tensorflow) (1.3.1)\n"
     ]
    },
    {
     "name": "stdout",
     "output_type": "stream",
     "text": [
      "Requirement already satisfied: importlib-metadata>=4.4 in /Users/ahalte200/Git_Repositories_Other/TFODCourse/lib/python3.9/site-packages (from markdown>=2.6.8->tensorboard<2.10,>=2.9->tensorflow) (4.12.0)\n",
      "Requirement already satisfied: certifi>=2017.4.17 in /Users/ahalte200/Git_Repositories_Other/TFODCourse/lib/python3.9/site-packages (from requests<3,>=2.21.0->tensorboard<2.10,>=2.9->tensorflow) (2022.6.15.1)\n",
      "Requirement already satisfied: idna<4,>=2.5 in /Users/ahalte200/Git_Repositories_Other/TFODCourse/lib/python3.9/site-packages (from requests<3,>=2.21.0->tensorboard<2.10,>=2.9->tensorflow) (3.3)\n",
      "Requirement already satisfied: urllib3<1.27,>=1.21.1 in /Users/ahalte200/Git_Repositories_Other/TFODCourse/lib/python3.9/site-packages (from requests<3,>=2.21.0->tensorboard<2.10,>=2.9->tensorflow) (1.26.12)\n",
      "Requirement already satisfied: charset-normalizer<3,>=2 in /Users/ahalte200/Git_Repositories_Other/TFODCourse/lib/python3.9/site-packages (from requests<3,>=2.21.0->tensorboard<2.10,>=2.9->tensorflow) (2.1.1)\n",
      "Requirement already satisfied: MarkupSafe>=2.1.1 in /Users/ahalte200/Git_Repositories_Other/TFODCourse/lib/python3.9/site-packages (from werkzeug>=1.0.1->tensorboard<2.10,>=2.9->tensorflow) (2.1.1)\n",
      "Requirement already satisfied: zipp>=0.5 in /Users/ahalte200/Git_Repositories_Other/TFODCourse/lib/python3.9/site-packages (from importlib-metadata>=4.4->markdown>=2.6.8->tensorboard<2.10,>=2.9->tensorflow) (3.8.1)\n",
      "Requirement already satisfied: pyasn1<0.5.0,>=0.4.6 in /Users/ahalte200/Git_Repositories_Other/TFODCourse/lib/python3.9/site-packages (from pyasn1-modules>=0.2.1->google-auth<3,>=1.6.3->tensorboard<2.10,>=2.9->tensorflow) (0.4.8)\n",
      "Requirement already satisfied: oauthlib>=3.0.0 in /Users/ahalte200/Git_Repositories_Other/TFODCourse/lib/python3.9/site-packages (from requests-oauthlib>=0.7.0->google-auth-oauthlib<0.5,>=0.4.1->tensorboard<2.10,>=2.9->tensorflow) (3.2.1)\n"
     ]
    }
   ],
   "source": [
    "!pip install tensorflow opencv-python mediapipe sklearn matplotlib\n",
    "# not installing tensorflow-gpu since I'm not using GPU"
   ]
  },
  {
   "cell_type": "code",
   "execution_count": 2,
   "id": "632204d8",
   "metadata": {},
   "outputs": [],
   "source": [
    "import cv2\n",
    "import numpy as np\n",
    "import os\n",
    "from matplotlib import pyplot as plt\n",
    "import time\n",
    "import mediapipe as mp"
   ]
  },
  {
   "cell_type": "markdown",
   "id": "9d369207",
   "metadata": {},
   "source": [
    "## 2. Find and draw keypoints using MediaPipe (MP) holistic"
   ]
  },
  {
   "cell_type": "code",
   "execution_count": 3,
   "id": "c445112e",
   "metadata": {},
   "outputs": [],
   "source": [
    "mp_holistic = mp.solutions.holistic # holistic model\n",
    "mp_drawing = mp.solutions.drawing_utils # drawing utilities"
   ]
  },
  {
   "cell_type": "code",
   "execution_count": 4,
   "id": "66ac9321",
   "metadata": {},
   "outputs": [],
   "source": [
    "# mediapipe_detection(image, model) will find the mediapipe landmarks for an image\n",
    "# image: the image from the feed we will be scrutinizing\n",
    "# model: the MP detection model\n",
    "\n",
    "def mediapipe_detection(image, model):\n",
    "    # convert color from BGR (cv) to RGB (for mp detection)\n",
    "    image = cv2.cvtColor(image, cv2.COLOR_BGR2RGB)\n",
    "    # make image unwriteable to save memory\n",
    "    image.flags.writeable = False\n",
    "    # make prediction using the MP detection model\n",
    "    results = model.process(image)\n",
    "    # make image writeable again\n",
    "    image.flags.writeable = True\n",
    "    # convert image back to BGR\n",
    "    image = cv2.cvtColor(image, cv2.COLOR_RGB2BGR)\n",
    "    return image, results"
   ]
  },
  {
   "cell_type": "code",
   "execution_count": 30,
   "id": "12a34e7c",
   "metadata": {},
   "outputs": [],
   "source": [
    "# draw_landmarks(image, results) will draw the landmark points over the live image\n",
    "# image: the image from the feed we will be drawing on top of\n",
    "# results: the landmark list we found with mediapipe_detection()\n",
    "\n",
    "def draw_landmarks(image, results):\n",
    "    # draw face landmarks & connections\n",
    "    # no longer use FACE_CONNECTIONS.  Rather, use FACEMESH_TESSELATION\n",
    "    mp_drawing.draw_landmarks(image, results.face_landmarks, mp_holistic.FACEMESH_TESSELATION, \n",
    "                             mp_drawing.DrawingSpec(color=(80,110,10), thickness=1, circle_radius=3), \n",
    "                             mp_drawing.DrawingSpec(color=(80,256,121), thickness=1, circle_radius=1)\n",
    "                             )\n",
    "    # draw pose landmarks & connections\n",
    "    mp_drawing.draw_landmarks(image, results.pose_landmarks, mp_holistic.POSE_CONNECTIONS,\n",
    "                             mp_drawing.DrawingSpec(color=(80,22,10), thickness=2, circle_radius=4), \n",
    "                             mp_drawing.DrawingSpec(color=(255,170,75), thickness=2, circle_radius=2)\n",
    "                             )\n",
    "    # draw left hand landmarks & connections\n",
    "    mp_drawing.draw_landmarks(image, results.left_hand_landmarks, mp_holistic.HAND_CONNECTIONS, \n",
    "                             mp_drawing.DrawingSpec(color=(121,22,76), thickness=2, circle_radius=4), \n",
    "                             mp_drawing.DrawingSpec(color=(121,44,250), thickness=2, circle_radius=2)\n",
    "                             )\n",
    "    # draw right hand landmarks & connections\n",
    "    mp_drawing.draw_landmarks(image, results.right_hand_landmarks, mp_holistic.HAND_CONNECTIONS, \n",
    "                             mp_drawing.DrawingSpec(color=(245,117,66), thickness=2, circle_radius=4), \n",
    "                             mp_drawing.DrawingSpec(color=(245,66,230), thickness=2, circle_radius=2)\n",
    "                             )\n",
    "    "
   ]
  },
  {
   "cell_type": "markdown",
   "id": "548faa53",
   "metadata": {},
   "source": [
    "### try a live demonstration of media pipe"
   ]
  },
  {
   "cell_type": "code",
   "execution_count": 31,
   "id": "84359e15",
   "metadata": {},
   "outputs": [],
   "source": [
    "# Use this code to view a live demo of media pipe landmarks mapped to subject\n",
    "\n",
    "cap = cv2.VideoCapture(0) # 2 is for logitech (near right USB-C port)\n",
    "# set the mediapipe model\n",
    "with mp_holistic.Holistic(min_detection_confidence = 0.5, min_tracking_confidence = 0.5) as holistic:\n",
    "    while cap.isOpened():\n",
    "        #read feed\n",
    "        ret, frame = cap.read()\n",
    "        #make detection\n",
    "        image, results = mediapipe_detection(frame, holistic)\n",
    "        #draw landmarks and connections\n",
    "        draw_landmarks(image, results)\n",
    "        # show to screen\n",
    "        cv2.imshow('OpenCV Feed', image)\n",
    "        #break gracefully\n",
    "        if cv2.waitKey(10) & 0xFF == ord('q'):\n",
    "            break\n",
    "    # end the video capture setting\n",
    "    cap.release()\n",
    "    cv2.waitKey(1)\n",
    "    # close the video capture window(s)\n",
    "    cv2.destroyAllWindows()\n",
    "    cv2.waitKey(1)"
   ]
  },
  {
   "cell_type": "markdown",
   "id": "aefd96ea",
   "metadata": {},
   "source": [
    "## 3. Extract keypoint values"
   ]
  },
  {
   "cell_type": "code",
   "execution_count": 35,
   "id": "7551521e",
   "metadata": {},
   "outputs": [],
   "source": [
    "# save the number of mp landmarks for:\n",
    "# facemesh, pose, left hand, right hand\n",
    "# numbers found in MP documentation\n",
    "\n",
    "num_mp_lmks = {\n",
    "    'facemesh' : {'num' : 468, 'dim' : 3}, # dim: x,y,z\n",
    "    'pose' : {'num' : 33, 'dim' : 4}, # dim: x,y,z,visibility\n",
    "    'hand' : {'num' : 21, 'dim' : 3} # dim: x,y,z\n",
    "}\n",
    "# add total by multiplying number of landmarks w/ their dimensions\n",
    "for v in num_mp_lmks.values():\n",
    "    v['total'] = (v['num'] * v['dim'])"
   ]
  },
  {
   "cell_type": "code",
   "execution_count": 33,
   "id": "1a6349a7",
   "metadata": {},
   "outputs": [],
   "source": [
    "# extract_keypoints(results)\n",
    "# returns a single array with every single keypoint value in a frame\n",
    "#results are the media pipe detection results\n",
    "\n",
    "def extract_keypoints(results):\n",
    "    pose = np.array([[res.x, res.y, res.z, res.visibility]\\\n",
    "        for res in results.pose_landmarks.landmark]).flatten()\\\n",
    "        if results.pose_landmarks\\\n",
    "        else np.zeros(num_mp_lmks['pose']['total'])\n",
    "\n",
    "    face = np.array([[res.x, res.y, res.z]\\\n",
    "            for res in results.face_landmarks.landmark]).flatten()\\\n",
    "            if results.face_landmarks\\\n",
    "            else np.zeros(num_mp_lmks['face']['total'])\n",
    "\n",
    "    lhand = np.array([[res.x, res.y, res.z]\\\n",
    "            for res in results.pose_landmarks.landmark]).flatten()\\\n",
    "            if results.left_hand_landmarks\\\n",
    "            else np.zeros(num_mp_lmks['hand']['total'])\n",
    "\n",
    "    rhand = np.array([[res.x, res.y, res.z]\\\n",
    "            for res in results.pose_landmarks.landmark]).flatten()\\\n",
    "            if results.right_hand_landmarks\\\n",
    "            else np.zeros(num_mp_lmks['hand']['total'])\n",
    "\n",
    "    return np.concatenate([pose, face, lhand, rhand])"
   ]
  },
  {
   "cell_type": "markdown",
   "id": "382646c4",
   "metadata": {},
   "source": [
    "## 4. Set up folders for collection"
   ]
  },
  {
   "cell_type": "code",
   "execution_count": 39,
   "id": "40364956",
   "metadata": {},
   "outputs": [],
   "source": [
    "#path definitions:\n",
    "\n",
    "# path for exported data, numpy arrays\n",
    "DATA_PATH = os.path.join('ASL', 'MP_Data')\n",
    "\n",
    "# actions that we try to detect\n",
    "actions = np.array(['hello', 'thanks', 'iloveyou'])\n",
    "\n",
    "# 25 videos worth of data per action\n",
    "num_sequences = 25\n",
    "\n",
    "#videos will be 30 frames in length\n",
    "sequence_length = 30"
   ]
  },
  {
   "cell_type": "code",
   "execution_count": 41,
   "id": "45c104ea",
   "metadata": {},
   "outputs": [],
   "source": [
    "# create folders\n",
    "    # 1 folder per action\n",
    "        # 1 folder per sequence\n",
    "            # 30 frames worth of data will be saved in each sequence folder\n",
    "\n",
    "for action in actions:\n",
    "    for sequence in range(num_sequences):\n",
    "        try:\n",
    "            os.makedirs(os.path.join(DATA_PATH, action, str(sequence)))\n",
    "        except:\n",
    "            pass"
   ]
  },
  {
   "cell_type": "markdown",
   "id": "81a97df7",
   "metadata": {},
   "source": [
    "## 5. Collect keypoint values for training and testing"
   ]
  },
  {
   "cell_type": "code",
   "execution_count": null,
   "id": "18b387bb",
   "metadata": {},
   "outputs": [],
   "source": []
  },
  {
   "cell_type": "code",
   "execution_count": null,
   "id": "b6be9d07",
   "metadata": {},
   "outputs": [],
   "source": []
  },
  {
   "cell_type": "code",
   "execution_count": null,
   "id": "984ba30c",
   "metadata": {},
   "outputs": [],
   "source": []
  },
  {
   "cell_type": "code",
   "execution_count": null,
   "id": "2656ec49",
   "metadata": {},
   "outputs": [],
   "source": []
  },
  {
   "cell_type": "code",
   "execution_count": null,
   "id": "09411e80",
   "metadata": {},
   "outputs": [],
   "source": []
  }
 ],
 "metadata": {
  "kernelspec": {
   "display_name": "TFODCourse",
   "language": "python",
   "name": "tfodcourse"
  },
  "language_info": {
   "codemirror_mode": {
    "name": "ipython",
    "version": 3
   },
   "file_extension": ".py",
   "mimetype": "text/x-python",
   "name": "python",
   "nbconvert_exporter": "python",
   "pygments_lexer": "ipython3",
   "version": "3.9.13"
  }
 },
 "nbformat": 4,
 "nbformat_minor": 5
}
