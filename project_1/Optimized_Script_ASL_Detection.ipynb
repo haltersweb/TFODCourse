{
 "cells": [
  {
   "cell_type": "markdown",
   "id": "0649abe7",
   "metadata": {},
   "source": [
    "# ASL Detection\n",
    "\n",
    "(optimized the script from Sign_Language_Detection_with_Action_Recognition.ipynb)"
   ]
  },
  {
   "cell_type": "markdown",
   "id": "4ed0bbdd",
   "metadata": {},
   "source": [
    "## 1. Install / import dependencies"
   ]
  },
  {
   "cell_type": "code",
   "execution_count": null,
   "id": "0ce5301f",
   "metadata": {},
   "outputs": [],
   "source": [
    "!pip install tensorflow opencv-python mediapipe sklearn matplotlib\n",
    "# not installing tensorflow-gpu since I'm not using GPU"
   ]
  },
  {
   "cell_type": "code",
   "execution_count": 3,
   "id": "5514d196",
   "metadata": {},
   "outputs": [],
   "source": [
    "import cv2\n",
    "import numpy as np\n",
    "import os\n",
    "from matplotlib import pyplot as plt\n",
    "import time\n",
    "import mediapipe as mp"
   ]
  },
  {
   "cell_type": "markdown",
   "id": "dc930d85",
   "metadata": {},
   "source": [
    "## 2. Find and draw keypoints using MediaPipe (MP) holistic"
   ]
  },
  {
   "cell_type": "code",
   "execution_count": 4,
   "id": "5a306ac8",
   "metadata": {},
   "outputs": [],
   "source": [
    "mp_holistic = mp.solutions.holistic # holistic model\n",
    "mp_drawing = mp.solutions.drawing_utils # drawing utilities"
   ]
  },
  {
   "cell_type": "code",
   "execution_count": 5,
   "id": "a80a9783",
   "metadata": {},
   "outputs": [],
   "source": [
    "# mediapipe_detection(image, model) will find the mediapipe landmarks for an image\n",
    "# image: the image from the feed we will be scrutinizing\n",
    "# model: the MP detection model\n",
    "\n",
    "def mediapipe_detection(image, model):\n",
    "    # convert color from BGR (cv) to RGB (for mp detection)\n",
    "    image = cv2.cvtColor(image, cv2.COLOR_BGR2RGB)\n",
    "    # make image unwriteable to save memory\n",
    "    image.flags.writeable = False\n",
    "    # make prediction using the MP detection model\n",
    "    results = model.process(image)\n",
    "    # make image writeable again\n",
    "    image.flags.writeable = True\n",
    "    # convert image back to BGR\n",
    "    image = cv2.cvtColor(image, cv2.COLOR_RGB2BGR)\n",
    "    return image, results"
   ]
  },
  {
   "cell_type": "code",
   "execution_count": 6,
   "id": "abb63296",
   "metadata": {},
   "outputs": [],
   "source": [
    "# draw_landmarks(image, results) will draw the landmark points over the live image\n",
    "# image: the image from the feed we will be drawing on top of\n",
    "# results: the landmark list we found with mediapipe_detection()\n",
    "\n",
    "def draw_landmarks(image, results):\n",
    "    # draw face landmarks & connections\n",
    "    # no longer use FACE_CONNECTIONS.  Rather, use FACEMESH_TESSELATION\n",
    "    mp_drawing.draw_landmarks(image, results.face_landmarks, mp_holistic.FACEMESH_TESSELATION, \n",
    "                             mp_drawing.DrawingSpec(color=(80,110,10), thickness=1, circle_radius=3), \n",
    "                             mp_drawing.DrawingSpec(color=(80,256,121), thickness=1, circle_radius=1)\n",
    "                             )\n",
    "    # draw pose landmarks & connections\n",
    "    mp_drawing.draw_landmarks(image, results.pose_landmarks, mp_holistic.POSE_CONNECTIONS,\n",
    "                             mp_drawing.DrawingSpec(color=(80,22,10), thickness=2, circle_radius=4), \n",
    "                             mp_drawing.DrawingSpec(color=(255,170,75), thickness=2, circle_radius=2)\n",
    "                             )\n",
    "    # draw left hand landmarks & connections\n",
    "    mp_drawing.draw_landmarks(image, results.left_hand_landmarks, mp_holistic.HAND_CONNECTIONS, \n",
    "                             mp_drawing.DrawingSpec(color=(121,22,76), thickness=2, circle_radius=4), \n",
    "                             mp_drawing.DrawingSpec(color=(121,44,250), thickness=2, circle_radius=2)\n",
    "                             )\n",
    "    # draw right hand landmarks & connections\n",
    "    mp_drawing.draw_landmarks(image, results.right_hand_landmarks, mp_holistic.HAND_CONNECTIONS, \n",
    "                             mp_drawing.DrawingSpec(color=(245,117,66), thickness=2, circle_radius=4), \n",
    "                             mp_drawing.DrawingSpec(color=(245,66,230), thickness=2, circle_radius=2)\n",
    "                             )\n",
    "    "
   ]
  },
  {
   "cell_type": "markdown",
   "id": "c247b754",
   "metadata": {},
   "source": [
    "### try a live demonstration of media pipe"
   ]
  },
  {
   "cell_type": "code",
   "execution_count": null,
   "id": "27be1ef7",
   "metadata": {},
   "outputs": [],
   "source": [
    "# Use this code to view a live demo of media pipe landmarks mapped to subject\n",
    "\n",
    "cap = cv2.VideoCapture(2) # 2 is for logitech (near right USB-C port)\n",
    "# set the mediapipe model\n",
    "with mp_holistic.Holistic(min_detection_confidence = 0.5, min_tracking_confidence = 0.5) as holistic:\n",
    "    while cap.isOpened():\n",
    "        #read feed\n",
    "        ret, frame = cap.read()\n",
    "        #make detection\n",
    "        image, results = mediapipe_detection(frame, holistic)\n",
    "        #draw landmarks and connections\n",
    "        draw_landmarks(image, results)\n",
    "        # show to screen\n",
    "        cv2.imshow('OpenCV Feed', image)\n",
    "        #break gracefully\n",
    "        if cv2.waitKey(10) & 0xFF == ord('q'):\n",
    "            break\n",
    "    # end the video capture setting\n",
    "    cap.release()\n",
    "    cv2.waitKey(1)\n",
    "    # close the video capture window(s)\n",
    "    cv2.destroyAllWindows()\n",
    "    cv2.waitKey(1)"
   ]
  },
  {
   "cell_type": "markdown",
   "id": "324d8586",
   "metadata": {},
   "source": [
    "## 3. Extract keypoint values"
   ]
  },
  {
   "cell_type": "code",
   "execution_count": 7,
   "id": "4f4bceb4",
   "metadata": {},
   "outputs": [],
   "source": [
    "# save the number of mp landmarks for:\n",
    "# facemesh, pose, left hand, right hand\n",
    "# numbers found in MP documentation\n",
    "num_mp_lmks = {\n",
    "    'face' : {'num' : 468, 'dim' : 3}, # dim: x,y,z\n",
    "    'pose' : {'num' : 33, 'dim' : 4}, # dim: x,y,z,visibility\n",
    "    'hand' : {'num' : 21, 'dim' : 3} # dim: x,y,z\n",
    "}\n",
    "# add total by multiplying number of landmarks w/ their dimensions\n",
    "for v in num_mp_lmks.values():\n",
    "    v['total'] = (v['num'] * v['dim'])"
   ]
  },
  {
   "cell_type": "code",
   "execution_count": 8,
   "id": "8d33325c",
   "metadata": {},
   "outputs": [],
   "source": [
    "# extract_keypoints(results)\n",
    "# returns a single array with every single keypoint value in a frame\n",
    "#results are the media pipe detection results\n",
    "\n",
    "def extract_keypoints(results):\n",
    "    if results.pose_landmarks:\n",
    "        pose = np.array([[res.x, res.y, res.z, res.visibility]\\\n",
    "            for res in results.pose_landmarks.landmark]).flatten()\n",
    "    else:\n",
    "        pose = np.zeros(num_mp_lmks['pose']['total'])\n",
    "    \n",
    "    if results.face_landmarks:\n",
    "        face = np.array([[res.x, res.y, res.z]\\\n",
    "            for res in results.face_landmarks.landmark]).flatten()\n",
    "    else:\n",
    "        face = np.zeros(num_mp_lmks['face']['total'])\n",
    "\n",
    "    if results.left_hand_landmarks:\n",
    "        lhand = np.array([[res.x, res.y, res.z]\\\n",
    "            for res in results.left_hand_landmarks.landmark]).flatten()\n",
    "    else:\n",
    "        lhand = np.zeros(num_mp_lmks['hand']['total'])\n",
    "\n",
    "    if results.right_hand_landmarks:\n",
    "        rhand = np.array([[res.x, res.y, res.z]\\\n",
    "            for res in results.right_hand_landmarks.landmark]).flatten()\n",
    "    else:\n",
    "        rhand = np.zeros(num_mp_lmks['hand']['total'])\n",
    "\n",
    "    return np.concatenate([pose, face, lhand, rhand])"
   ]
  },
  {
   "cell_type": "markdown",
   "id": "dccbe0be",
   "metadata": {},
   "source": [
    "## 4. Set up paths and folders\n",
    "\n",
    "### paths"
   ]
  },
  {
   "cell_type": "code",
   "execution_count": 9,
   "id": "92d376e2",
   "metadata": {},
   "outputs": [],
   "source": [
    "#path definitions:\n",
    "\n",
    "# path for exported data, numpy arrays\n",
    "DATA_PATH = os.path.join('ASL', 'MP_Data')\n",
    "\n",
    "# actions that we try to detect\n",
    "actions = np.array(['hello', 'thanks', 'iloveyou'])\n",
    "\n",
    "# 25 videos worth of data per action\n",
    "num_sequences = 25\n",
    "\n",
    "#videos will be 30 frames in length\n",
    "sequence_length = 30"
   ]
  },
  {
   "cell_type": "markdown",
   "id": "ee95a615",
   "metadata": {},
   "source": [
    "### create data folders"
   ]
  },
  {
   "cell_type": "code",
   "execution_count": 8,
   "id": "2200b794",
   "metadata": {},
   "outputs": [],
   "source": [
    "# create folders\n",
    "    # 1 folder per action\n",
    "        # 1 folder per sequence\n",
    "            # 30 frames worth of data will be saved in each sequence folder\n",
    "\n",
    "for action in actions:\n",
    "    for sequence in range(num_sequences):\n",
    "        try:\n",
    "            os.makedirs(os.path.join(DATA_PATH, action, str(sequence)))\n",
    "        except:\n",
    "            pass"
   ]
  },
  {
   "cell_type": "markdown",
   "id": "c81a69cc",
   "metadata": {},
   "source": [
    "## 5. Collect keypoint values for training and testing"
   ]
  },
  {
   "cell_type": "code",
   "execution_count": 11,
   "id": "1a3fb3eb",
   "metadata": {},
   "outputs": [],
   "source": [
    "cap = cv2.VideoCapture(2) # 2 is for logitech (near right USB-C port)\n",
    "# set the mediapipe model\n",
    "with mp_holistic.Holistic(min_detection_confidence = 0.5, min_tracking_confidence = 0.5) as holistic:\n",
    "    # loop through actions\n",
    "    for action in actions:\n",
    "        # loop through sequences (aka videos)\n",
    "        for sequence in range(num_sequences):\n",
    "            # loop through video length (aka sequence length)\n",
    "            for frame_num in range(sequence_length):\n",
    "                \n",
    "                #read feed\n",
    "                ret, frame = cap.read()\n",
    "                \n",
    "                #make detection\n",
    "                image, results = mediapipe_detection(frame, holistic)\n",
    "                \n",
    "                #draw landmarks and connections\n",
    "                draw_landmarks(image, results)\n",
    "                \n",
    "                #collection pauses and messaging\n",
    "                if frame_num == 0:\n",
    "                    cv2.putText(image, ('STARTING {} IN 2 SECONDS!'.format(action)),\n",
    "                                (120,200), cv2.FONT_HERSHEY_SIMPLEX, 2, (0,150,0), 2, cv2.LINE_AA)\n",
    "                    cv2.putText(image, ('Collecting frames for {} Video Number {}'.format(action, sequence)),\n",
    "                                (30,30), cv2.FONT_HERSHEY_SIMPLEX, 1, (0,0,150), 1, cv2.LINE_AA)\n",
    "                    # show to screen\n",
    "                    cv2.imshow('OpenCV Feed', image)\n",
    "                    cv2.waitKey(2000)\n",
    "                else:\n",
    "                    cv2.putText(image, ('Collecting frames for {} Video Number {}'.format(action, sequence)),\n",
    "                                (30,30), cv2.FONT_HERSHEY_SIMPLEX, 1, (0,0,150), 1, cv2.LINE_AA)\n",
    "                    # show to screen\n",
    "                    cv2.imshow('OpenCV Feed', image)\n",
    "                \n",
    "                #export keypoints\n",
    "                keypoints = extract_keypoints(results)\n",
    "                npy_path = os.path.join(DATA_PATH, action, str(sequence), str(frame_num))\n",
    "                np.save(npy_path, keypoints)\n",
    "                \n",
    "                #break gracefully\n",
    "                if cv2.waitKey(10) & 0xFF == ord('q'):\n",
    "                    break\n",
    "                # end video capture\n",
    "    cap.release()\n",
    "    cv2.waitKey(1)\n",
    "    # close the video capture window(s)\n",
    "    cv2.destroyAllWindows()\n",
    "    cv2.waitKey(1)"
   ]
  },
  {
   "cell_type": "code",
   "execution_count": 12,
   "id": "3b3a5370",
   "metadata": {},
   "outputs": [
    {
     "data": {
      "text/plain": [
       "-1"
      ]
     },
     "execution_count": 12,
     "metadata": {},
     "output_type": "execute_result"
    }
   ],
   "source": [
    "# use this if you need to clear cv2 windows\n",
    "\n",
    "cap.release()\n",
    "cv2.waitKey(1)\n",
    "# close the video capture window(s)\n",
    "cv2.destroyAllWindows()\n",
    "cv2.waitKey(1)"
   ]
  },
  {
   "cell_type": "markdown",
   "id": "09118563",
   "metadata": {},
   "source": [
    "## 6. Pre-process data and create labels and features"
   ]
  },
  {
   "cell_type": "code",
   "execution_count": 10,
   "id": "a2b9a9d9",
   "metadata": {},
   "outputs": [],
   "source": [
    "# import dependencies\n",
    "from sklearn.model_selection import train_test_split\n",
    "#helps us split up data for testing and training\n",
    "\n",
    "from tensorflow.keras.utils import to_categorical\n",
    "# to convert an np array of values to np array of 0s, 1s"
   ]
  },
  {
   "cell_type": "code",
   "execution_count": 11,
   "id": "d671406f",
   "metadata": {},
   "outputs": [],
   "source": [
    "label_map = {label : num for num, label in enumerate(actions)}"
   ]
  },
  {
   "cell_type": "code",
   "execution_count": 13,
   "id": "65f9747a",
   "metadata": {},
   "outputs": [],
   "source": [
    "# bring in the saved data\n",
    "sequences, labels = [],[] #empty arrays. Think of sequences as x-data, label as y-data\n",
    "for action in actions:\n",
    "    for seq in range(num_sequences):\n",
    "        window = [] # all of the frames for this sequence\n",
    "        for frame_num in range(sequence_length):\n",
    "            result = np.load(os.path.join(DATA_PATH, action, str(seq), '{}.npy'.format(frame_num)))\n",
    "            window.append(result)\n",
    "        sequences.append(window)\n",
    "        labels.append(label_map[action])"
   ]
  },
  {
   "cell_type": "markdown",
   "id": "09661b12",
   "metadata": {},
   "source": [
    "### define X and y"
   ]
  },
  {
   "cell_type": "code",
   "execution_count": 14,
   "id": "71198a8f",
   "metadata": {},
   "outputs": [],
   "source": [
    "X = np.array(sequences) # make a numpy array from sequences\n",
    "y = to_categorical(labels).astype(int) # labels as binary flag array"
   ]
  },
  {
   "cell_type": "markdown",
   "id": "8a6f1142",
   "metadata": {},
   "source": [
    "### split data into test / train (randomly)"
   ]
  },
  {
   "cell_type": "code",
   "execution_count": 17,
   "id": "8163ba40",
   "metadata": {},
   "outputs": [],
   "source": [
    "# randomly split data into testing and training\n",
    "X_train, X_test, y_train, y_test = train_test_split(X, y, test_size=0.06) #6% will be test data\n"
   ]
  },
  {
   "cell_type": "markdown",
   "id": "1bbe7456",
   "metadata": {},
   "source": [
    "## 7. Build and train LSTM neural network\n",
    "\n",
    "### import packages"
   ]
  },
  {
   "cell_type": "code",
   "execution_count": 18,
   "id": "1c929ec4",
   "metadata": {},
   "outputs": [],
   "source": [
    "# import required packages\n",
    "from tensorflow.keras.models import Sequential\n",
    "from tensorflow.keras.layers import LSTM, Dense\n",
    "from tensorflow.keras.callbacks import TensorBoard"
   ]
  },
  {
   "cell_type": "markdown",
   "id": "54d9e1b3",
   "metadata": {},
   "source": [
    "### set up log to view with TensorBoard"
   ]
  },
  {
   "cell_type": "code",
   "execution_count": 19,
   "id": "408a5337",
   "metadata": {},
   "outputs": [],
   "source": [
    "# set up the log path to then view the log with TensorBoard\n",
    "LOG_DIR = os.path.join('ASL', 'logs')\n",
    "tb_callback = TensorBoard(log_dir = LOG_DIR)"
   ]
  },
  {
   "cell_type": "markdown",
   "id": "11b7a833",
   "metadata": {},
   "source": [
    "### build or rebuild the model\n",
    "This is the model's shape\n",
    "When [loading a model](#load_model) from disk, make sure to:\n",
    "1. run this model rebuild first\n",
    "2. [compile](#compile_model) the model\n",
    "3. then you can load [load the model](#load_model)"
   ]
  },
  {
   "cell_type": "code",
   "execution_count": 20,
   "id": "b0f1efdc",
   "metadata": {},
   "outputs": [
    {
     "name": "stderr",
     "output_type": "stream",
     "text": [
      "2022-09-15 22:52:30.146171: I tensorflow/core/platform/cpu_feature_guard.cc:193] This TensorFlow binary is optimized with oneAPI Deep Neural Network Library (oneDNN) to use the following CPU instructions in performance-critical operations:  AVX2 FMA\n",
      "To enable them in other operations, rebuild TensorFlow with the appropriate compiler flags.\n"
     ]
    }
   ],
   "source": [
    "# instantiate the Sequential API model\n",
    "model = Sequential()\n",
    "\n",
    "##### NEED TO EDIT THIS SO THAT I CAN DEFINE NUMBER OF SEQUENCES AND NUMBER OF FRAMES VIA VARIABLES #####\n",
    "# creating the LSTM layers\n",
    "# 1st layer: 64 LSTM units, return sequence (True) so next layer can use it\n",
    "# shape of each sequence (video) is 30 frames by 1662 keypoints (30,1662)\n",
    "model.add(LSTM(64, return_sequences=True, activation='relu', input_shape=(30,1662)))\n",
    "\n",
    "# 2nd layer: 128 LSTM units\n",
    "model.add(LSTM(128, return_sequences=True, activation='relu'))\n",
    "\n",
    "#3rd layer: 64 LSTM units, won't be returning the sequence\n",
    "model.add(LSTM(64, return_sequences=False, activation='relu'))\n",
    "\n",
    "# creating the Dense layers\n",
    "# 1st layer: 64 Densly connected Neural Network neurons\n",
    "model.add(Dense(64, activation='relu'))\n",
    "\n",
    "#2nd layer: 32 Dense NN neurons\n",
    "model.add(Dense(32, activation='relu'))\n",
    "\n",
    "# create the Actions layer\n",
    "# 3 neural network units (actions.shape = (3,) and so actions.shape[0] = 3)\n",
    "# choosing softmax because all three values in the model will add up to 1\n",
    "model.add(Dense(actions.shape[0], activation='softmax'))"
   ]
  },
  {
   "cell_type": "markdown",
   "id": "7991c375",
   "metadata": {},
   "source": [
    "<a id=\"compile_model\"></a>\n",
    "### compile the model\n",
    "After you have defined the model's shape, you will need to compile the model.\n",
    "\n",
    "When [loading a model](#load_model) from disk, make sure to:\n",
    "1. run the [model rebuild](#model_rebuild) first\n",
    "2. Run this model compiler\n",
    "3. then you can load [load the model](#load_model)"
   ]
  },
  {
   "cell_type": "code",
   "execution_count": 21,
   "id": "b1b03067",
   "metadata": {},
   "outputs": [],
   "source": [
    "model.compile(optimizer='Adam', loss='categorical_crossentropy', metrics=['categorical_accuracy'])\n"
   ]
  },
  {
   "cell_type": "markdown",
   "id": "91aa5a0e",
   "metadata": {},
   "source": [
    "### train the model"
   ]
  },
  {
   "cell_type": "code",
   "execution_count": null,
   "id": "541cf3af",
   "metadata": {},
   "outputs": [],
   "source": [
    "model.fit(X_train, y_train, epochs=2000, callbacks=[tb_callback])"
   ]
  },
  {
   "cell_type": "markdown",
   "id": "af6387f3",
   "metadata": {},
   "source": [
    "### view the model summary"
   ]
  },
  {
   "cell_type": "code",
   "execution_count": null,
   "id": "37eb2017",
   "metadata": {},
   "outputs": [],
   "source": [
    "model.summary()"
   ]
  },
  {
   "cell_type": "markdown",
   "id": "12009864",
   "metadata": {},
   "source": [
    "## ## 8. Make predictions\n",
    "Make __predictions__ on __x_test__ and __compare__ them to the __correct answers__ in __y_test__"
   ]
  },
  {
   "cell_type": "code",
   "execution_count": null,
   "id": "483242a5",
   "metadata": {},
   "outputs": [],
   "source": [
    "# X_test is our test data\n",
    "# y_test is the correct labels for X_test\n",
    "\n",
    "# use the model to predict what our test data is\n",
    "prediction_results = model.predict(X_test)"
   ]
  },
  {
   "cell_type": "code",
   "execution_count": null,
   "id": "5a1b6d5b",
   "metadata": {},
   "outputs": [],
   "source": [
    "# view the prediction results\n",
    "for i in range(len(prediction_results)):\n",
    "    print(actions[np.argmax(prediction_results[i])])"
   ]
  },
  {
   "cell_type": "code",
   "execution_count": null,
   "id": "c0804323",
   "metadata": {},
   "outputs": [],
   "source": [
    "# remind ourselves of the actions\n",
    "actions"
   ]
  },
  {
   "cell_type": "code",
   "execution_count": null,
   "id": "9fac05ec",
   "metadata": {},
   "outputs": [],
   "source": [
    "# match our predictions with the actual labels:\n",
    "y_test"
   ]
  },
  {
   "cell_type": "markdown",
   "id": "62156b15",
   "metadata": {},
   "source": [
    "## 9. Save weights (aka the model)"
   ]
  },
  {
   "cell_type": "code",
   "execution_count": null,
   "id": "eb6d4c1b",
   "metadata": {},
   "outputs": [],
   "source": [
    "# save the model I trained\n",
    "model_name = 'model_2'\n",
    "model.save(os.path.join('ASL', '{}.h5'.format(model_name)))"
   ]
  },
  {
   "cell_type": "code",
   "execution_count": null,
   "id": "8012754d",
   "metadata": {},
   "outputs": [],
   "source": [
    "# now I can delete the model\n",
    "del model"
   ]
  },
  {
   "cell_type": "markdown",
   "id": "d058f0ed",
   "metadata": {},
   "source": [
    "<a id=\"load_model\"></a>\n",
    "### loading a saved model:\n",
    "Make sure to follow these steps in order\n",
    "1. run the [model rebuild](#model_rebuild)\n",
    "2. [compile](#compile) the data\n",
    "3. reload the saved model"
   ]
  },
  {
   "cell_type": "code",
   "execution_count": null,
   "id": "0aa3e471",
   "metadata": {},
   "outputs": [],
   "source": [
    "saved_model_name = 'my_first_action_model'\n",
    "model.load_weights(os.path.join('ASL', '{}.h5'.format(saved_model_name)))"
   ]
  },
  {
   "cell_type": "code",
   "execution_count": null,
   "id": "72eb954d",
   "metadata": {},
   "outputs": [],
   "source": [
    "# check that it was successfully loaded:\n",
    "model"
   ]
  },
  {
   "cell_type": "markdown",
   "id": "c12282bb",
   "metadata": {},
   "source": [
    "## 10. Evaluation using confusion matrix and accuracy"
   ]
  },
  {
   "cell_type": "code",
   "execution_count": 3,
   "id": "f83cc359",
   "metadata": {},
   "outputs": [],
   "source": [
    "### TBD ###"
   ]
  },
  {
   "cell_type": "markdown",
   "id": "01c7a233",
   "metadata": {},
   "source": [
    "## 11. Test in Real Time"
   ]
  },
  {
   "cell_type": "code",
   "execution_count": null,
   "id": "90b94bba",
   "metadata": {},
   "outputs": [],
   "source": [
    "# 1. Three new detection variables\n",
    "sequence = [] #to collect our 30 frames. Once we get 30 frames we will start predicting\n",
    "sentence = [] #concatenate our history of detections together\n",
    "threshold = 0.5 #render results only if above a certain threshold\n",
    "\n",
    "cap = cv2.VideoCapture(2) # 2 is for logitech (near right USB-C port)\n",
    "# set the mediapipe model\n",
    "with mp_holistic.Holistic(min_detection_confidence = 0.5, min_tracking_confidence = 0.5) as holistic:\n",
    "    while cap.isOpened():\n",
    "        \n",
    "        #read feed\n",
    "        ret, frame = cap.read()\n",
    "        \n",
    "        #make detection\n",
    "        image, results = mediapipe_detection(frame, holistic)\n",
    "        \n",
    "        #draw landmarks and connections\n",
    "        draw_landmarks(image, results)\n",
    "        \n",
    "        # 2. Prediction logic\n",
    "        keypoints = extract_keypoints(results)\n",
    "        sequence.append(keypoints)\n",
    "        sequence = sequence[-30:]\n",
    "        \n",
    "        if len(sequence) == 30:\n",
    "            res = model.predict(np.expand_dims(sequence, axis=0))[0]\n",
    "            predictions.append(np.argmax(res))\n",
    "            \n",
    "        # 3. Vis logic\n",
    "        if res[np.argmax(res)] > threshold: # checking if result is above our threshold\n",
    "            if len(sentence) > 0: \n",
    "                if actions[np.argmax(res)] != sentence[-1]:\n",
    "                    sentence.append(actions[np.argmax(res)])\n",
    "            else:\n",
    "                sentence.append(actions[np.argmax(res)])\n",
    "\n",
    "                    \n",
    "        if len(sentence) > 5:\n",
    "            sentence = sentence[-5:]\n",
    "            \n",
    "        cv2.rectangle(image, (0,0), (640,40), (245, 17, 16), -1)\n",
    "        cv2.putText(image, ' {}'.format(sentence[-1]), (3,30),\n",
    "                   cv2.FONT_HERSHEY_SIMPLEX, 1, (255, 255, 255), 2, cv2.LINE_AA)\n",
    "        \n",
    "        \n",
    "        # show to screen\n",
    "        cv2.imshow('OpenCV Feed', image)\n",
    "        \n",
    "        #break gracefully\n",
    "        if cv2.waitKey(10) & 0xFF == ord('q'):\n",
    "            break\n",
    "            \n",
    "    # end the video capture setting\n",
    "    cap.release()\n",
    "    cv2.waitKey(1)\n",
    "    # close the video capture window(s)\n",
    "    cv2.destroyAllWindows()\n",
    "    cv2.waitKey(1)"
   ]
  },
  {
   "cell_type": "code",
   "execution_count": null,
   "id": "d9359a45",
   "metadata": {},
   "outputs": [],
   "source": []
  },
  {
   "cell_type": "code",
   "execution_count": null,
   "id": "1e57ca7c",
   "metadata": {},
   "outputs": [],
   "source": []
  },
  {
   "cell_type": "code",
   "execution_count": null,
   "id": "df18a5d9",
   "metadata": {},
   "outputs": [],
   "source": []
  },
  {
   "cell_type": "code",
   "execution_count": null,
   "id": "21b7894e",
   "metadata": {},
   "outputs": [],
   "source": []
  },
  {
   "cell_type": "code",
   "execution_count": null,
   "id": "59663fd1",
   "metadata": {},
   "outputs": [],
   "source": []
  }
 ],
 "metadata": {
  "kernelspec": {
   "display_name": "TFODCourse",
   "language": "python",
   "name": "tfodcourse"
  },
  "language_info": {
   "codemirror_mode": {
    "name": "ipython",
    "version": 3
   },
   "file_extension": ".py",
   "mimetype": "text/x-python",
   "name": "python",
   "nbconvert_exporter": "python",
   "pygments_lexer": "ipython3",
   "version": "3.9.13"
  }
 },
 "nbformat": 4,
 "nbformat_minor": 5
}
