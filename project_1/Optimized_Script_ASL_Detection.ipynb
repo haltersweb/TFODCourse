{
 "cells": [
  {
   "cell_type": "markdown",
   "id": "0649abe7",
   "metadata": {},
   "source": [
    "# ASL Detection\n",
    "\n",
    "(optimized the script from Sign_Language_Detection_with_Action_Recognition.ipynb)"
   ]
  },
  {
   "cell_type": "markdown",
   "id": "4ed0bbdd",
   "metadata": {},
   "source": [
    "## 1. Install / import dependencies\n",
    "\n",
    "### install\n",
    "\n",
    "<span style=\"color: red;\">Only run this when you first set up your environment</span>"
   ]
  },
  {
   "cell_type": "code",
   "execution_count": null,
   "id": "0ce5301f",
   "metadata": {},
   "outputs": [],
   "source": [
    "!pip install tensorflow opencv-python mediapipe sklearn matplotlib\n",
    "# not installing tensorflow-gpu since I'm not using GPU"
   ]
  },
  {
   "cell_type": "markdown",
   "id": "33127627",
   "metadata": {},
   "source": [
    "### import"
   ]
  },
  {
   "cell_type": "code",
   "execution_count": 1,
   "id": "5514d196",
   "metadata": {},
   "outputs": [],
   "source": [
    "import cv2\n",
    "import numpy as np\n",
    "import os\n",
    "from matplotlib import pyplot as plt\n",
    "import time\n",
    "import mediapipe as mp"
   ]
  },
  {
   "cell_type": "markdown",
   "id": "dc930d85",
   "metadata": {},
   "source": [
    "## 2. Find and draw keypoints using MediaPipe (MP) holistic"
   ]
  },
  {
   "cell_type": "markdown",
   "id": "afb4992e",
   "metadata": {},
   "source": [
    "### shortcuts to some MP methods\n",
    "* holistic model method\n",
    "* drawing utilities"
   ]
  },
  {
   "cell_type": "code",
   "execution_count": 2,
   "id": "5a306ac8",
   "metadata": {},
   "outputs": [],
   "source": [
    "mp_holistic = mp.solutions.holistic # holistic model\n",
    "mp_drawing = mp.solutions.drawing_utils # drawing utilities"
   ]
  },
  {
   "cell_type": "markdown",
   "id": "ad1c4c02",
   "metadata": {},
   "source": [
    "### define mediapipe_detection()\n",
    "A function to find the MP landmarks on an image"
   ]
  },
  {
   "cell_type": "code",
   "execution_count": 3,
   "id": "a80a9783",
   "metadata": {},
   "outputs": [],
   "source": [
    "# mediapipe_detection(image, model) will find the mediapipe landmarks for an image\n",
    "# image: the image from the feed we will be scrutinizing\n",
    "# model: the MP detection model\n",
    "\n",
    "def mediapipe_detection(image, model):\n",
    "    # convert color from BGR (cv) to RGB (for mp detection)\n",
    "    image = cv2.cvtColor(image, cv2.COLOR_BGR2RGB)\n",
    "    # make image unwriteable to save memory\n",
    "    image.flags.writeable = False\n",
    "    # make prediction using the MP detection model\n",
    "    results = model.process(image)\n",
    "    # make image writeable again\n",
    "    image.flags.writeable = True\n",
    "    # convert image back to BGR\n",
    "    image = cv2.cvtColor(image, cv2.COLOR_RGB2BGR)\n",
    "    return image, results"
   ]
  },
  {
   "cell_type": "markdown",
   "id": "1bbb0699",
   "metadata": {},
   "source": [
    "### define draw_landmarks()\n",
    "A function that will draw the MP landmarks over an image"
   ]
  },
  {
   "cell_type": "code",
   "execution_count": 4,
   "id": "abb63296",
   "metadata": {},
   "outputs": [],
   "source": [
    "# draw_landmarks(image, results) will draw the landmark points over the live image\n",
    "# image: the image from the feed we will be drawing on top of\n",
    "# results: the landmark list we found with mediapipe_detection()\n",
    "\n",
    "def draw_landmarks(image, results):\n",
    "    # draw face landmarks & connections\n",
    "    # no longer use FACE_CONNECTIONS.  Rather, use FACEMESH_TESSELATION\n",
    "    mp_drawing.draw_landmarks(image, results.face_landmarks, mp_holistic.FACEMESH_TESSELATION, \n",
    "                             mp_drawing.DrawingSpec(color=(80,110,10), thickness=1, circle_radius=3), \n",
    "                             mp_drawing.DrawingSpec(color=(80,256,121), thickness=1, circle_radius=1)\n",
    "                             )\n",
    "    # draw pose landmarks & connections\n",
    "    mp_drawing.draw_landmarks(image, results.pose_landmarks, mp_holistic.POSE_CONNECTIONS,\n",
    "                             mp_drawing.DrawingSpec(color=(80,22,10), thickness=2, circle_radius=4), \n",
    "                             mp_drawing.DrawingSpec(color=(255,170,75), thickness=2, circle_radius=2)\n",
    "                             )\n",
    "    # draw left hand landmarks & connections\n",
    "    mp_drawing.draw_landmarks(image, results.left_hand_landmarks, mp_holistic.HAND_CONNECTIONS, \n",
    "                             mp_drawing.DrawingSpec(color=(121,22,76), thickness=2, circle_radius=4), \n",
    "                             mp_drawing.DrawingSpec(color=(121,44,250), thickness=2, circle_radius=2)\n",
    "                             )\n",
    "    # draw right hand landmarks & connections\n",
    "    mp_drawing.draw_landmarks(image, results.right_hand_landmarks, mp_holistic.HAND_CONNECTIONS, \n",
    "                             mp_drawing.DrawingSpec(color=(245,117,66), thickness=2, circle_radius=4), \n",
    "                             mp_drawing.DrawingSpec(color=(245,66,230), thickness=2, circle_radius=2)\n",
    "                             )\n",
    "    "
   ]
  },
  {
   "cell_type": "markdown",
   "id": "c247b754",
   "metadata": {},
   "source": [
    "### try a live demonstration of media pipe\n",
    "\n",
    "<span style=\"color: red;\">Change the VideoCapture number 0, 1, or 2.  0 is usually the built-in camera, 1, 2 are for peripherals.</span>"
   ]
  },
  {
   "cell_type": "code",
   "execution_count": null,
   "id": "27be1ef7",
   "metadata": {},
   "outputs": [],
   "source": [
    "# Use this code to view a live demo of media pipe landmarks mapped to subject\n",
    "\n",
    "cap = cv2.VideoCapture(0) # 0, 1, 2\n",
    "# set the mediapipe model\n",
    "with mp_holistic.Holistic(min_detection_confidence = 0.5, min_tracking_confidence = 0.5) as holistic:\n",
    "    while cap.isOpened():\n",
    "        #read feed\n",
    "        ret, frame = cap.read()\n",
    "        #make detection\n",
    "        image, results = mediapipe_detection(frame, holistic)\n",
    "        #draw landmarks and connections\n",
    "        draw_landmarks(image, results)\n",
    "        # show to screen\n",
    "        cv2.imshow('OpenCV Feed', image)\n",
    "        #break gracefully\n",
    "        if cv2.waitKey(10) & 0xFF == ord('q'):\n",
    "            break\n",
    "    # end the video capture setting\n",
    "    cap.release()\n",
    "    cv2.waitKey(1)\n",
    "    # close the video capture window(s)\n",
    "    cv2.destroyAllWindows()\n",
    "    cv2.waitKey(1)"
   ]
  },
  {
   "cell_type": "markdown",
   "id": "324d8586",
   "metadata": {},
   "source": [
    "## 3. Extract keypoint values\n",
    "### save number of landmarks and dimensions for each body set\n",
    "\n",
    "<span style=\"color: red;\">Check the validity of these numbers periodically, since Google may change them.</span>"
   ]
  },
  {
   "cell_type": "code",
   "execution_count": 5,
   "id": "4f4bceb4",
   "metadata": {},
   "outputs": [],
   "source": [
    "# save the number of mp landmarks for:\n",
    "# facemesh, pose, left hand, right hand\n",
    "# numbers found in MP documentation\n",
    "num_mp_lmks = {\n",
    "    'face' : {'num' : 468, 'dim' : 3}, # dim: x,y,z\n",
    "    'pose' : {'num' : 33, 'dim' : 4}, # dim: x,y,z,visibility\n",
    "    'hand' : {'num' : 21, 'dim' : 3} # dim: x,y,z\n",
    "}"
   ]
  },
  {
   "cell_type": "markdown",
   "id": "01918259",
   "metadata": {},
   "source": [
    "### calculate total number of keypoints for each body set"
   ]
  },
  {
   "cell_type": "code",
   "execution_count": 6,
   "id": "c43807fb",
   "metadata": {},
   "outputs": [
    {
     "data": {
      "text/plain": [
       "{'face': {'num': 468, 'dim': 3, 'total': 1404},\n",
       " 'pose': {'num': 33, 'dim': 4, 'total': 132},\n",
       " 'hand': {'num': 21, 'dim': 3, 'total': 63}}"
      ]
     },
     "execution_count": 6,
     "metadata": {},
     "output_type": "execute_result"
    }
   ],
   "source": [
    "# add total by multiplying number of landmarks w/ their dimensions\n",
    "for v in num_mp_lmks.values():\n",
    "    v['total'] = (v['num'] * v['dim'])\n",
    "num_mp_lmks"
   ]
  },
  {
   "cell_type": "markdown",
   "id": "5694c96a",
   "metadata": {},
   "source": [
    "### calculate final total of all keypoints"
   ]
  },
  {
   "cell_type": "code",
   "execution_count": 7,
   "id": "899f0a07",
   "metadata": {},
   "outputs": [
    {
     "data": {
      "text/plain": [
       "1662"
      ]
     },
     "execution_count": 7,
     "metadata": {},
     "output_type": "execute_result"
    }
   ],
   "source": [
    "num_keypoints =  0\n",
    "for k, v in num_mp_lmks.items():\n",
    "    num_keypoints += v['total']\n",
    "    if k == 'hand':\n",
    "        num_keypoints += v['total'] # add a 2nd hand\n",
    "num_keypoints"
   ]
  },
  {
   "cell_type": "markdown",
   "id": "af35e02a",
   "metadata": {},
   "source": [
    "### define extract_keypoints()\n",
    "This will extract every single keypoint in a video frame"
   ]
  },
  {
   "cell_type": "code",
   "execution_count": 8,
   "id": "8d33325c",
   "metadata": {},
   "outputs": [],
   "source": [
    "# extract_keypoints(results)\n",
    "# returns a single array with every single keypoint value in a frame\n",
    "#results are the media pipe detection results\n",
    "\n",
    "def extract_keypoints(results):\n",
    "    if results.pose_landmarks:\n",
    "        pose = np.array([[res.x, res.y, res.z, res.visibility]\\\n",
    "            for res in results.pose_landmarks.landmark]).flatten()\n",
    "    else:\n",
    "        pose = np.zeros(num_mp_lmks['pose']['total'])\n",
    "    \n",
    "    if results.face_landmarks:\n",
    "        face = np.array([[res.x, res.y, res.z]\\\n",
    "            for res in results.face_landmarks.landmark]).flatten()\n",
    "    else:\n",
    "        face = np.zeros(num_mp_lmks['face']['total'])\n",
    "\n",
    "    if results.left_hand_landmarks:\n",
    "        lhand = np.array([[res.x, res.y, res.z]\\\n",
    "            for res in results.left_hand_landmarks.landmark]).flatten()\n",
    "    else:\n",
    "        lhand = np.zeros(num_mp_lmks['hand']['total'])\n",
    "\n",
    "    if results.right_hand_landmarks:\n",
    "        rhand = np.array([[res.x, res.y, res.z]\\\n",
    "            for res in results.right_hand_landmarks.landmark]).flatten()\n",
    "    else:\n",
    "        rhand = np.zeros(num_mp_lmks['hand']['total'])\n",
    "\n",
    "    return np.concatenate([pose, face, lhand, rhand])"
   ]
  },
  {
   "cell_type": "markdown",
   "id": "dccbe0be",
   "metadata": {},
   "source": [
    "## 4. Set up data collection settings and directories\n",
    "\n",
    "### path to save testing/training data\n",
    "\n",
    "<span style=\"color: red;\">Set up the correct path</span>"
   ]
  },
  {
   "cell_type": "code",
   "execution_count": 9,
   "id": "92d376e2",
   "metadata": {},
   "outputs": [],
   "source": [
    "#path definitions:\n",
    "\n",
    "# path for exported data, numpy arrays\n",
    "DATA_PATH = os.path.join('ASL', 'MP_Data')"
   ]
  },
  {
   "cell_type": "markdown",
   "id": "f694990d",
   "metadata": {},
   "source": [
    "### labels\n",
    "\n",
    "<span style=\"color: red;\">Edit the labels</span>"
   ]
  },
  {
   "cell_type": "code",
   "execution_count": 10,
   "id": "d5f14c3e",
   "metadata": {},
   "outputs": [
    {
     "data": {
      "text/plain": [
       "array(['hello', 'thanks', 'iloveyou', 'neutral', 'not_hotdog'],\n",
       "      dtype='<U10')"
      ]
     },
     "execution_count": 10,
     "metadata": {},
     "output_type": "execute_result"
    }
   ],
   "source": [
    "# ASL actions that we try to detect\n",
    "actions = np.array([\n",
    "    'hello',\n",
    "    'thanks',\n",
    "    'iloveyou',\n",
    "    'neutral',\n",
    "    'not_hotdog'\n",
    "])\n",
    "actions"
   ]
  },
  {
   "cell_type": "markdown",
   "id": "f6cb8e3f",
   "metadata": {},
   "source": [
    "### number of videos per label\n",
    "\n",
    "<span style=\"color: red;\">Edit this number</span>"
   ]
  },
  {
   "cell_type": "code",
   "execution_count": 11,
   "id": "f98925db",
   "metadata": {},
   "outputs": [],
   "source": [
    "# 30 videos worth of data per action\n",
    "num_sequences = 30"
   ]
  },
  {
   "cell_type": "markdown",
   "id": "144cd149",
   "metadata": {},
   "source": [
    "### number of frames per video\n",
    "\n",
    "<span style=\"color: red;\">Edit this number</span>"
   ]
  },
  {
   "cell_type": "code",
   "execution_count": 12,
   "id": "cba2ce41",
   "metadata": {},
   "outputs": [],
   "source": [
    "#video sequences will be 15 frames in length\n",
    "sequence_length = 15"
   ]
  },
  {
   "cell_type": "markdown",
   "id": "ee95a615",
   "metadata": {},
   "source": [
    "### create data folders\n",
    "\n",
    "<span style=\"color: red;\">Run this depending on above changes</span>"
   ]
  },
  {
   "cell_type": "code",
   "execution_count": null,
   "id": "2200b794",
   "metadata": {},
   "outputs": [],
   "source": [
    "# create folders\n",
    "    # 1 folder per action\n",
    "        # 1 folder per sequence\n",
    "            # 30 frames worth of data will be saved in each sequence folder\n",
    "\n",
    "for action in actions:\n",
    "    for sequence in range(num_sequences):\n",
    "        try:\n",
    "            os.makedirs(os.path.join(DATA_PATH, action, str(sequence)))\n",
    "        except:\n",
    "            pass"
   ]
  },
  {
   "cell_type": "markdown",
   "id": "c81a69cc",
   "metadata": {},
   "source": [
    "## 5. Collect keypoint values for training and testing\n",
    "\n",
    "<span style=\"color: red;\">Run this when you need to collect data</span>\n",
    "\n",
    "<span style=\"color: red;\">Change the VideoCapture number 0, 1, or 2.  0 is usually the built-in camera, 1, 2 are for peripherals.</span>"
   ]
  },
  {
   "cell_type": "code",
   "execution_count": null,
   "id": "1a3fb3eb",
   "metadata": {},
   "outputs": [],
   "source": [
    "cap = cv2.VideoCapture(0) # 0, 1, 2\n",
    "# set the mediapipe model\n",
    "with mp_holistic.Holistic(min_detection_confidence = 0.5, min_tracking_confidence = 0.5) as holistic:\n",
    "    # loop through actions\n",
    "    for action in actions:\n",
    "        # loop through sequences (aka videos)\n",
    "        for sequence in range(num_sequences):\n",
    "            # loop through video length (aka sequence length)\n",
    "            for frame_num in range(sequence_length):\n",
    "                \n",
    "                #read feed\n",
    "                ret, frame = cap.read()\n",
    "                \n",
    "                #make detection\n",
    "                image, results = mediapipe_detection(frame, holistic)\n",
    "                \n",
    "                #draw landmarks and connections\n",
    "                draw_landmarks(image, results)\n",
    "                \n",
    "                #collection pauses and messaging\n",
    "                if frame_num == 0:\n",
    "                    if sequence == 0:\n",
    "                        cv2.putText(image, ('GET SET FOR {}'.format(action)),\n",
    "                                    (120,200), cv2.FONT_HERSHEY_SIMPLEX, 2.5, (150,0,0), 4, cv2.LINE_AA)\n",
    "                        # show to screen\n",
    "                        cv2.imshow('OpenCV Feed', image)\n",
    "                        cv2.waitKey(2000)\n",
    "                    else:\n",
    "                        cv2.putText(image, ('STARTING {} IN 2 SECONDS!'.format(action)),\n",
    "                                    (120,200), cv2.FONT_HERSHEY_SIMPLEX, 2, (0,150,0), 2, cv2.LINE_AA)\n",
    "                    cv2.putText(image, ('Collecting frames for {} Video Number {}'.format(action, sequence)),\n",
    "                                (30,30), cv2.FONT_HERSHEY_SIMPLEX, 1, (0,0,150), 1, cv2.LINE_AA)\n",
    "                    # show to screen\n",
    "                    cv2.imshow('OpenCV Feed', image)\n",
    "                    cv2.waitKey(2000)\n",
    "                else:\n",
    "                    cv2.putText(image, ('Collecting frames for {} Video Number {}'.format(action, sequence)),\n",
    "                                (30,30), cv2.FONT_HERSHEY_SIMPLEX, 1, (0,0,150), 1, cv2.LINE_AA)\n",
    "                    # show to screen\n",
    "                    cv2.imshow('OpenCV Feed', image)\n",
    "                \n",
    "                #export keypoints\n",
    "                keypoints = extract_keypoints(results)\n",
    "                npy_path = os.path.join(DATA_PATH, action, str(sequence), str(frame_num))\n",
    "                np.save(npy_path, keypoints)\n",
    "                \n",
    "                #break gracefully\n",
    "                if cv2.waitKey(10) & 0xFF == ord('q'):\n",
    "                    break\n",
    "                # end video capture\n",
    "    cap.release()\n",
    "    cv2.waitKey(1)\n",
    "    # close the video capture window(s)\n",
    "    cv2.destroyAllWindows()\n",
    "    cv2.waitKey(1)"
   ]
  },
  {
   "cell_type": "markdown",
   "id": "1d35c18e",
   "metadata": {},
   "source": [
    "### for releasing camera and closing windows\n",
    "\n",
    "<span style=\"color: red;\">Use the following just as needed</span>"
   ]
  },
  {
   "cell_type": "code",
   "execution_count": null,
   "id": "3b3a5370",
   "metadata": {},
   "outputs": [],
   "source": [
    "# use this if you need to clear cv2 windows\n",
    "\n",
    "cap.release()\n",
    "cv2.waitKey(1)\n",
    "# close the video capture window(s)\n",
    "cv2.destroyAllWindows()\n",
    "cv2.waitKey(1)"
   ]
  },
  {
   "cell_type": "markdown",
   "id": "09118563",
   "metadata": {},
   "source": [
    "## 6. Pre-process data and create labels and features\n",
    "\n",
    "### import"
   ]
  },
  {
   "cell_type": "code",
   "execution_count": 13,
   "id": "a2b9a9d9",
   "metadata": {},
   "outputs": [],
   "source": [
    "# import dependencies\n",
    "from sklearn.model_selection import train_test_split\n",
    "#helps us split up data for testing and training\n",
    "\n",
    "from tensorflow.keras.utils import to_categorical\n",
    "# to convert an np array of values to np array of 0s, 1s"
   ]
  },
  {
   "cell_type": "markdown",
   "id": "ec2ab6c0",
   "metadata": {},
   "source": [
    "### create label map"
   ]
  },
  {
   "cell_type": "code",
   "execution_count": 14,
   "id": "d671406f",
   "metadata": {},
   "outputs": [
    {
     "data": {
      "text/plain": [
       "{'hello': 0, 'thanks': 1, 'iloveyou': 2, 'neutral': 3, 'not_hotdog': 4}"
      ]
     },
     "execution_count": 14,
     "metadata": {},
     "output_type": "execute_result"
    }
   ],
   "source": [
    "label_map = {label : num for num, label in enumerate(actions)}\n",
    "label_map"
   ]
  },
  {
   "cell_type": "markdown",
   "id": "950cc5ab",
   "metadata": {},
   "source": [
    "### define data and label arrays\n",
    "* the __sequences array__ holds the __MP data__ for __each video__\n",
    "* the __label array__ holds the __correct labels__ for __each video__"
   ]
  },
  {
   "cell_type": "code",
   "execution_count": 15,
   "id": "65f9747a",
   "metadata": {},
   "outputs": [],
   "source": [
    "sequences, labels = [],[] #empty arrays. Think of sequences as x-data, label as y-data"
   ]
  },
  {
   "cell_type": "markdown",
   "id": "6d5c7b98",
   "metadata": {},
   "source": [
    "### fetch the data and labels"
   ]
  },
  {
   "cell_type": "code",
   "execution_count": 16,
   "id": "ee5954e3",
   "metadata": {},
   "outputs": [],
   "source": [
    "# bring in the saved data from disk\n",
    "for action in actions:\n",
    "    for seq in range(num_sequences):\n",
    "        seq_data = [] # MP data for all of the frames for this sequence\n",
    "        for frame_num in range(sequence_length):\n",
    "            result = np.load(os.path.join(DATA_PATH, action, str(seq), '{}.npy'.format(frame_num)))\n",
    "            seq_data.append(result)\n",
    "        sequences.append(seq_data)\n",
    "        labels.append(label_map[action])"
   ]
  },
  {
   "cell_type": "markdown",
   "id": "09661b12",
   "metadata": {},
   "source": [
    "### define X and y\n",
    "* X axis is the sequences data (as a numpy array)\n",
    "* y axis is the correct labels (as a numpy array)"
   ]
  },
  {
   "cell_type": "code",
   "execution_count": 17,
   "id": "71198a8f",
   "metadata": {},
   "outputs": [],
   "source": [
    "X = np.array(sequences) # make a numpy array from sequences\n",
    "y = to_categorical(labels).astype(int) # labels as binary flag array"
   ]
  },
  {
   "cell_type": "markdown",
   "id": "8a6f1142",
   "metadata": {},
   "source": [
    "### split data / labels into train / test\n",
    "* splitting is done randomly\n",
    "* each time you run you will get a new grouping\n",
    "\n",
    "<span style=\"color: red;\">Decide what percentage you want to be training data</span>"
   ]
  },
  {
   "cell_type": "code",
   "execution_count": 18,
   "id": "8163ba40",
   "metadata": {},
   "outputs": [],
   "source": [
    "# randomly split data into testing and training\n",
    "X_train, X_test, y_train, y_test = train_test_split(X, y, test_size=0.05) #5% will be test data"
   ]
  },
  {
   "cell_type": "markdown",
   "id": "1bbe7456",
   "metadata": {},
   "source": [
    "## 7. Build and train LSTM neural network\n",
    "\n",
    "### import packages"
   ]
  },
  {
   "cell_type": "code",
   "execution_count": 19,
   "id": "1c929ec4",
   "metadata": {},
   "outputs": [],
   "source": [
    "# import required packages\n",
    "from tensorflow.keras.models import Sequential\n",
    "from tensorflow.keras.layers import LSTM, Dense\n",
    "from tensorflow.keras.callbacks import TensorBoard"
   ]
  },
  {
   "cell_type": "markdown",
   "id": "54d9e1b3",
   "metadata": {},
   "source": [
    "### set up log to view with TensorBoard\n",
    "\n",
    "<span style=\"color: red;\">Set up the correct path</span>"
   ]
  },
  {
   "cell_type": "code",
   "execution_count": 20,
   "id": "408a5337",
   "metadata": {},
   "outputs": [],
   "source": [
    "# set up the log path to then view the log with TensorBoard\n",
    "LOG_DIR = os.path.join('ASL', 'logs')\n",
    "tb_callback = TensorBoard(log_dir = LOG_DIR)"
   ]
  },
  {
   "cell_type": "markdown",
   "id": "11b7a833",
   "metadata": {},
   "source": [
    "### build or rebuild the model\n",
    "This is the model's shape\n",
    "When [loading a model](#load_model) from disk, make sure to:\n",
    "1. run this model rebuild first\n",
    "2. [compile](#compile_model) the model\n",
    "3. then you can load [load the model](#load_model)"
   ]
  },
  {
   "cell_type": "code",
   "execution_count": 21,
   "id": "b0f1efdc",
   "metadata": {},
   "outputs": [
    {
     "name": "stderr",
     "output_type": "stream",
     "text": [
      "2022-09-17 22:56:47.008310: I tensorflow/core/platform/cpu_feature_guard.cc:193] This TensorFlow binary is optimized with oneAPI Deep Neural Network Library (oneDNN) to use the following CPU instructions in performance-critical operations:  AVX2 FMA\n",
      "To enable them in other operations, rebuild TensorFlow with the appropriate compiler flags.\n"
     ]
    }
   ],
   "source": [
    "# instantiate the Sequential API model\n",
    "model = Sequential()\n",
    "\n",
    "##### NEED TO EDIT THIS SO THAT I CAN DEFINE NUMBER OF SEQUENCES AND NUMBER OF FRAMES VIA VARIABLES #####\n",
    "# creating the LSTM layers\n",
    "# 1st layer: 64 LSTM units, return sequence (True) so next layer can use it\n",
    "# shape of each sequence (video) is 30 frames (sequence_length) by 1662 keypoints (num_keypoints)\n",
    "model.add(LSTM(64, return_sequences=True, activation='relu', input_shape=(sequence_length, num_keypoints)))\n",
    "\n",
    "# 2nd layer: 128 LSTM units\n",
    "model.add(LSTM(128, return_sequences=True, activation='relu'))\n",
    "\n",
    "#3rd layer: 64 LSTM units, won't be returning the sequence\n",
    "model.add(LSTM(64, return_sequences=False, activation='relu'))\n",
    "\n",
    "# creating the Dense layers\n",
    "# 1st layer: 64 Densly connected Neural Network neurons\n",
    "model.add(Dense(64, activation='relu'))\n",
    "\n",
    "#2nd layer: 32 Dense NN neurons\n",
    "model.add(Dense(32, activation='relu'))\n",
    "\n",
    "# create the Actions layer\n",
    "# 3 neural network units (actions.shape = (3,) and so actions.shape[0] = 3)\n",
    "# choosing softmax because all three values in the model will add up to 1\n",
    "model.add(Dense(actions.shape[0], activation='softmax'))"
   ]
  },
  {
   "cell_type": "markdown",
   "id": "7991c375",
   "metadata": {},
   "source": [
    "<a id=\"compile_model\"></a>\n",
    "### compile the model\n",
    "After you have defined the model's shape, you will need to compile the model.\n",
    "\n",
    "When [loading a model](#load_model) from disk, make sure to:\n",
    "1. run the [model rebuild](#model_rebuild) first\n",
    "2. Run this model compiler\n",
    "3. then you can load [load the model](#load_model)"
   ]
  },
  {
   "cell_type": "code",
   "execution_count": 22,
   "id": "b1b03067",
   "metadata": {},
   "outputs": [],
   "source": [
    "model.compile(optimizer='Adam', loss='categorical_crossentropy', metrics=['categorical_accuracy'])"
   ]
  },
  {
   "cell_type": "markdown",
   "id": "91aa5a0e",
   "metadata": {},
   "source": [
    "### train the model\n",
    "\n",
    "<span style=\"color: red;\">WARNING: THIS WILL REWRITE YOUR DATA. Edit the number of epochs</span>"
   ]
  },
  {
   "cell_type": "code",
   "execution_count": null,
   "id": "541cf3af",
   "metadata": {},
   "outputs": [],
   "source": [
    "model.fit(X_train, y_train, epochs=1000, callbacks=[tb_callback])"
   ]
  },
  {
   "cell_type": "markdown",
   "id": "af6387f3",
   "metadata": {},
   "source": [
    "### view the model summary"
   ]
  },
  {
   "cell_type": "code",
   "execution_count": 23,
   "id": "37eb2017",
   "metadata": {},
   "outputs": [
    {
     "name": "stdout",
     "output_type": "stream",
     "text": [
      "Model: \"sequential\"\n",
      "_________________________________________________________________\n",
      " Layer (type)                Output Shape              Param #   \n",
      "=================================================================\n",
      " lstm (LSTM)                 (None, 15, 64)            442112    \n",
      "                                                                 \n",
      " lstm_1 (LSTM)               (None, 15, 128)           98816     \n",
      "                                                                 \n",
      " lstm_2 (LSTM)               (None, 64)                49408     \n",
      "                                                                 \n",
      " dense (Dense)               (None, 64)                4160      \n",
      "                                                                 \n",
      " dense_1 (Dense)             (None, 32)                2080      \n",
      "                                                                 \n",
      " dense_2 (Dense)             (None, 5)                 165       \n",
      "                                                                 \n",
      "=================================================================\n",
      "Total params: 596,741\n",
      "Trainable params: 596,741\n",
      "Non-trainable params: 0\n",
      "_________________________________________________________________\n"
     ]
    }
   ],
   "source": [
    "model.summary()"
   ]
  },
  {
   "cell_type": "markdown",
   "id": "12009864",
   "metadata": {},
   "source": [
    "## 8. Make predictions\n",
    "Make __predictions__ on __x_test__ and __compare__ them to the __correct answers__ in __y_test__\n",
    "### run a prediction on some data"
   ]
  },
  {
   "cell_type": "code",
   "execution_count": 25,
   "id": "483242a5",
   "metadata": {},
   "outputs": [
    {
     "name": "stdout",
     "output_type": "stream",
     "text": [
      "1/1 [==============================] - 0s 328ms/step\n"
     ]
    }
   ],
   "source": [
    "# X_test is our test data\n",
    "# y_test is the correct labels for X_test\n",
    "\n",
    "# use the model to predict what our test data is\n",
    "prediction_results = model.predict(X_test)"
   ]
  },
  {
   "cell_type": "markdown",
   "id": "1c89a832",
   "metadata": {},
   "source": [
    "### view the predictions"
   ]
  },
  {
   "cell_type": "code",
   "execution_count": 26,
   "id": "5a1b6d5b",
   "metadata": {},
   "outputs": [
    {
     "name": "stdout",
     "output_type": "stream",
     "text": [
      "not_hotdog\n",
      "iloveyou\n",
      "thanks\n",
      "neutral\n",
      "neutral\n",
      "hello\n",
      "hello\n",
      "neutral\n"
     ]
    }
   ],
   "source": [
    "# view the prediction results\n",
    "for i in range(len(prediction_results)):\n",
    "    print(actions[np.argmax(prediction_results[i])])"
   ]
  },
  {
   "cell_type": "markdown",
   "id": "233a378a",
   "metadata": {},
   "source": [
    "### view the actual labels"
   ]
  },
  {
   "cell_type": "code",
   "execution_count": 27,
   "id": "9fac05ec",
   "metadata": {},
   "outputs": [
    {
     "data": {
      "text/plain": [
       "array([[0, 0, 0, 0, 1],\n",
       "       [0, 0, 1, 0, 0],\n",
       "       [0, 0, 0, 0, 1],\n",
       "       [0, 0, 0, 1, 0],\n",
       "       [0, 0, 0, 1, 0],\n",
       "       [1, 0, 0, 0, 0],\n",
       "       [1, 0, 0, 0, 0],\n",
       "       [0, 0, 0, 1, 0]])"
      ]
     },
     "execution_count": 27,
     "metadata": {},
     "output_type": "execute_result"
    }
   ],
   "source": [
    "# match our predictions with the actual labels:\n",
    "y_test"
   ]
  },
  {
   "cell_type": "markdown",
   "id": "b757fd5a",
   "metadata": {},
   "source": [
    "### let's remind ourselves of our labels"
   ]
  },
  {
   "cell_type": "code",
   "execution_count": 28,
   "id": "c0804323",
   "metadata": {},
   "outputs": [
    {
     "data": {
      "text/plain": [
       "array(['hello', 'thanks', 'iloveyou', 'neutral', 'not_hotdog'],\n",
       "      dtype='<U10')"
      ]
     },
     "execution_count": 28,
     "metadata": {},
     "output_type": "execute_result"
    }
   ],
   "source": [
    "# remind ourselves of the actions\n",
    "actions"
   ]
  },
  {
   "cell_type": "markdown",
   "id": "62156b15",
   "metadata": {},
   "source": [
    "## 9. Save your model (aka \"weights\")\n",
    "\n",
    "### save to disk\n",
    "\n",
    "* <span style=\"color: red;\">Name your model</span>\n",
    "\n",
    "* <span style=\"color: red;\">Define your file path</span>"
   ]
  },
  {
   "cell_type": "code",
   "execution_count": null,
   "id": "eb6d4c1b",
   "metadata": {},
   "outputs": [],
   "source": [
    "# save the model I trained\n",
    "model_name = 'TBD'\n",
    "model.save(os.path.join('ASL', '{}.h5'.format(model_name)))"
   ]
  },
  {
   "cell_type": "markdown",
   "id": "e8ad63cc",
   "metadata": {},
   "source": [
    "### delete your model\n",
    "\n",
    "<span style=\"color: red;\">You should do this first before you re-train or load another model</span>"
   ]
  },
  {
   "cell_type": "code",
   "execution_count": null,
   "id": "8012754d",
   "metadata": {},
   "outputs": [],
   "source": [
    "# now I can delete the model\n",
    "del model\n",
    "\n",
    "# check that it was successfully deleted:\n",
    "model"
   ]
  },
  {
   "cell_type": "markdown",
   "id": "d058f0ed",
   "metadata": {},
   "source": [
    "<a id=\"load_model\"></a>\n",
    "### loading a saved model:\n",
    "\n",
    "<span style=\"color: red;\">Make sure to follow these steps in order</span>\n",
    "\n",
    "1. run the [model rebuild](#model_rebuild)\n",
    "2. [compile](#compile) the data\n",
    "3. reload the saved model\n",
    "\n",
    "* <span style=\"color: red;\">Set saved model name</span>\n",
    "\n",
    "* <span style=\"color: red;\">Define the model's file path</span>"
   ]
  },
  {
   "cell_type": "code",
   "execution_count": 24,
   "id": "0aa3e471",
   "metadata": {},
   "outputs": [
    {
     "data": {
      "text/plain": [
       "<keras.engine.sequential.Sequential at 0x14b508880>"
      ]
     },
     "execution_count": 24,
     "metadata": {},
     "output_type": "execute_result"
    }
   ],
   "source": [
    "saved_model_name = 'model_3'\n",
    "model.load_weights(os.path.join('ASL', '{}.h5'.format(saved_model_name)))\n",
    "\n",
    "# check that it was successfully loaded:\n",
    "model"
   ]
  },
  {
   "cell_type": "markdown",
   "id": "c12282bb",
   "metadata": {},
   "source": [
    "## 10. Evaluation using confusion matrix and accuracy"
   ]
  },
  {
   "cell_type": "code",
   "execution_count": null,
   "id": "f83cc359",
   "metadata": {},
   "outputs": [],
   "source": [
    "### TBD ###"
   ]
  },
  {
   "cell_type": "markdown",
   "id": "01c7a233",
   "metadata": {},
   "source": [
    "## 11. Test in Real Time\n",
    "\n",
    "<span style=\"color: red;\">Change the VideoCapture number 0, 1, or 2.  0 is usually the built-in camera, 1, 2 are for peripherals.</span>"
   ]
  },
  {
   "cell_type": "code",
   "execution_count": null,
   "id": "2c5dd38c",
   "metadata": {},
   "outputs": [],
   "source": [
    "np.expand_dims(X_test[0], axis=0)"
   ]
  },
  {
   "cell_type": "code",
   "execution_count": null,
   "id": "85d1000a",
   "metadata": {},
   "outputs": [],
   "source": [
    "model.predict(np.expand_dims(X_test[0], axis=0))"
   ]
  },
  {
   "cell_type": "code",
   "execution_count": null,
   "id": "90b94bba",
   "metadata": {},
   "outputs": [
    {
     "name": "stdout",
     "output_type": "stream",
     "text": [
      "[/Users/build/sandbox/BuildRepos/Sol-Windows-1/External/VirtualMonitor-macOS/MersiveRelayCam/RelayPlugin/VtcComLib/VtcComLib.cpp] initializer()\n",
      "[/Users/build/sandbox/BuildRepos/Sol-Windows-1/External/VirtualMonitor-macOS/MersiveRelayCam/RelayPlugin/avCam/avCam/avCamLib.mm] initializer()\n",
      "\t09-17-2022  22:59:31.053 @@@@===RelayStream:: set kCMIOStreamPropertyFormatDescription sub=2vuy w=1280 h=720\n",
      "\t09-17-2022  22:59:31.799 LocalCamera::passResolution set resolution to 1280x720\n",
      "\t09-17-2022  22:59:31.575 Local Camera start, ret=0\n"
     ]
    },
    {
     "name": "stderr",
     "output_type": "stream",
     "text": [
      "INFO: Created TensorFlow Lite XNNPACK delegate for CPU.\n"
     ]
    }
   ],
   "source": [
    "# 1. Three new detection variables\n",
    "sequence = [] #to collect our sequence_length number of frames. Once we get sequence_length number of frames we will start predicting\n",
    "sentence = [] #concatenate our history of detections together\n",
    "threshold = 0.5 #render results only if above a certain threshold\n",
    "\n",
    "cap = cv2.VideoCapture(0) # 2 is for logitech (near right USB-C port)\n",
    "# set the mediapipe model\n",
    "with mp_holistic.Holistic(min_detection_confidence = 0.5, min_tracking_confidence = 0.5) as holistic:\n",
    "    while cap.isOpened():\n",
    "        \n",
    "        #read feed\n",
    "        ret, frame = cap.read()\n",
    "        \n",
    "        #make detection\n",
    "        image, results = mediapipe_detection(frame, holistic)\n",
    "        \n",
    "        #draw landmarks and connections\n",
    "        draw_landmarks(image, results)\n",
    "        \n",
    "        # 2. Prediction logic\n",
    "        keypoints = extract_keypoints(results)\n",
    "        sequence.append(keypoints)\n",
    "        sequence = sequence[(-1*sequence_length):]\n",
    "        \n",
    "        if len(sequence) == sequence_length:\n",
    "            res = model.predict(np.expand_dims(sequence, axis=0))[0]\n",
    "            predictions.append(np.argmax(res))\n",
    "            \n",
    "            # 3. Vis logic\n",
    "            if res[np.argmax(res)] > threshold: # checking if result is above our threshold\n",
    "                if len(sentence) > 0: \n",
    "                    if actions[np.argmax(res)] != sentence[-1]:\n",
    "                        sentence.append(actions[np.argmax(res)])\n",
    "                else:\n",
    "                    sentence.append(actions[np.argmax(res)])\n",
    "\n",
    "\n",
    "            if len(sentence) > 5:\n",
    "                sentence = sentence[-5:]\n",
    "            \n",
    "        cv2.rectangle(image, (0,0), (640,40), (245, 17, 16), -1)\n",
    "        cv2.putText(image, ' {}'.format(sentence[-1]), (3,30),\n",
    "                   cv2.FONT_HERSHEY_SIMPLEX, 1, (255, 255, 255), 2, cv2.LINE_AA)\n",
    "        \n",
    "        \n",
    "        # show to screen\n",
    "        cv2.imshow('OpenCV Feed', image)\n",
    "        \n",
    "        #break gracefully\n",
    "        if cv2.waitKey(10) & 0xFF == ord('q'):\n",
    "            break\n",
    "            \n",
    "    # end the video capture setting\n",
    "    cap.release()\n",
    "    cv2.waitKey(1)\n",
    "    # close the video capture window(s)\n",
    "    cv2.destroyAllWindows()\n",
    "    cv2.waitKey(1)"
   ]
  },
  {
   "cell_type": "code",
   "execution_count": null,
   "id": "53b16c90",
   "metadata": {},
   "outputs": [],
   "source": [
    "# end the video capture setting\n",
    "cap.release()\n",
    "cv2.waitKey(1)\n",
    "# close the video capture window(s)\n",
    "cv2.destroyAllWindows()\n",
    "cv2.waitKey(1)"
   ]
  },
  {
   "cell_type": "code",
   "execution_count": null,
   "id": "eafc816e",
   "metadata": {},
   "outputs": [],
   "source": [
    "model"
   ]
  },
  {
   "cell_type": "code",
   "execution_count": null,
   "id": "47054d5a",
   "metadata": {},
   "outputs": [],
   "source": []
  }
 ],
 "metadata": {
  "kernelspec": {
   "display_name": "TFODCourse",
   "language": "python",
   "name": "tfodcourse"
  },
  "language_info": {
   "codemirror_mode": {
    "name": "ipython",
    "version": 3
   },
   "file_extension": ".py",
   "mimetype": "text/x-python",
   "name": "python",
   "nbconvert_exporter": "python",
   "pygments_lexer": "ipython3",
   "version": "3.9.13"
  }
 },
 "nbformat": 4,
 "nbformat_minor": 5
}
