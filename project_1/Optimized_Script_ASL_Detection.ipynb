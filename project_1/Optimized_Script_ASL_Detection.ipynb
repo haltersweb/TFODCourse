{
 "cells": [
  {
   "cell_type": "markdown",
   "id": "0649abe7",
   "metadata": {},
   "source": [
    "# ASL Detection\n",
    "\n",
    "(optimized the script from Sign_Language_Detection_with_Action_Recognition.ipynb)"
   ]
  },
  {
   "cell_type": "markdown",
   "id": "4ed0bbdd",
   "metadata": {},
   "source": [
    "## 1. Install / import dependencies\n",
    "\n",
    "### install\n",
    "\n",
    "<span style=\"color: red;\">Only run this when you first set up your environment</span>"
   ]
  },
  {
   "cell_type": "code",
   "execution_count": null,
   "id": "0ce5301f",
   "metadata": {},
   "outputs": [],
   "source": [
    "!pip install tensorflow opencv-python mediapipe sklearn matplotlib\n",
    "# not installing tensorflow-gpu since I'm not using GPU"
   ]
  },
  {
   "cell_type": "markdown",
   "id": "33127627",
   "metadata": {},
   "source": [
    "### import"
   ]
  },
  {
   "cell_type": "code",
   "execution_count": 1,
   "id": "5514d196",
   "metadata": {},
   "outputs": [],
   "source": [
    "import cv2\n",
    "import numpy as np\n",
    "import os\n",
    "from matplotlib import pyplot as plt\n",
    "import time\n",
    "import mediapipe as mp"
   ]
  },
  {
   "cell_type": "markdown",
   "id": "dc930d85",
   "metadata": {},
   "source": [
    "## 2. Find and draw keypoints using MediaPipe (MP) holistic"
   ]
  },
  {
   "cell_type": "markdown",
   "id": "afb4992e",
   "metadata": {},
   "source": [
    "### shortcuts to some MP methods\n",
    "* holistic model method\n",
    "* drawing utilities"
   ]
  },
  {
   "cell_type": "code",
   "execution_count": 2,
   "id": "5a306ac8",
   "metadata": {},
   "outputs": [],
   "source": [
    "mp_holistic = mp.solutions.holistic # holistic model\n",
    "mp_drawing = mp.solutions.drawing_utils # drawing utilities"
   ]
  },
  {
   "cell_type": "markdown",
   "id": "ad1c4c02",
   "metadata": {},
   "source": [
    "### define mediapipe_detection()\n",
    "A function to find the MP landmarks on an image"
   ]
  },
  {
   "cell_type": "code",
   "execution_count": 3,
   "id": "a80a9783",
   "metadata": {},
   "outputs": [],
   "source": [
    "# mediapipe_detection(image, model) will find the mediapipe landmarks for an image\n",
    "# image: the image from the feed we will be scrutinizing\n",
    "# model: the MP detection model\n",
    "\n",
    "def mediapipe_detection(image, model):\n",
    "    # convert color from BGR (cv) to RGB (for mp detection)\n",
    "    image = cv2.cvtColor(image, cv2.COLOR_BGR2RGB)\n",
    "    # make image unwriteable to save memory\n",
    "    image.flags.writeable = False\n",
    "    # make prediction using the MP detection model\n",
    "    results = model.process(image)\n",
    "    # make image writeable again\n",
    "    image.flags.writeable = True\n",
    "    # convert image back to BGR\n",
    "    image = cv2.cvtColor(image, cv2.COLOR_RGB2BGR)\n",
    "    return image, results"
   ]
  },
  {
   "cell_type": "markdown",
   "id": "1bbb0699",
   "metadata": {},
   "source": [
    "### define draw_landmarks()\n",
    "A function that will draw the MP landmarks over an image"
   ]
  },
  {
   "cell_type": "code",
   "execution_count": 4,
   "id": "abb63296",
   "metadata": {},
   "outputs": [],
   "source": [
    "# draw_landmarks(image, results) will draw the landmark points over the live image\n",
    "# image: the image from the feed we will be drawing on top of\n",
    "# results: the landmark list we found with mediapipe_detection()\n",
    "\n",
    "def draw_landmarks(image, results):\n",
    "    # draw face landmarks & connections\n",
    "    # no longer use FACE_CONNECTIONS.  Rather, use FACEMESH_TESSELATION\n",
    "    mp_drawing.draw_landmarks(image, results.face_landmarks, mp_holistic.FACEMESH_TESSELATION, \n",
    "                             mp_drawing.DrawingSpec(color=(80,110,10), thickness=1, circle_radius=3), \n",
    "                             mp_drawing.DrawingSpec(color=(80,256,121), thickness=1, circle_radius=1)\n",
    "                             )\n",
    "    # draw pose landmarks & connections\n",
    "    mp_drawing.draw_landmarks(image, results.pose_landmarks, mp_holistic.POSE_CONNECTIONS,\n",
    "                             mp_drawing.DrawingSpec(color=(80,22,10), thickness=2, circle_radius=4), \n",
    "                             mp_drawing.DrawingSpec(color=(255,170,75), thickness=2, circle_radius=2)\n",
    "                             )\n",
    "    # draw left hand landmarks & connections\n",
    "    mp_drawing.draw_landmarks(image, results.left_hand_landmarks, mp_holistic.HAND_CONNECTIONS, \n",
    "                             mp_drawing.DrawingSpec(color=(121,22,76), thickness=2, circle_radius=4), \n",
    "                             mp_drawing.DrawingSpec(color=(121,44,250), thickness=2, circle_radius=2)\n",
    "                             )\n",
    "    # draw right hand landmarks & connections\n",
    "    mp_drawing.draw_landmarks(image, results.right_hand_landmarks, mp_holistic.HAND_CONNECTIONS, \n",
    "                             mp_drawing.DrawingSpec(color=(245,117,66), thickness=2, circle_radius=4), \n",
    "                             mp_drawing.DrawingSpec(color=(245,66,230), thickness=2, circle_radius=2)\n",
    "                             )\n",
    "    "
   ]
  },
  {
   "cell_type": "markdown",
   "id": "c247b754",
   "metadata": {},
   "source": [
    "### try a live demonstration of media pipe\n",
    "\n",
    "<span style=\"color: red;\">Change the VideoCapture number 0, 1, or 2.  0 is usually the built-in camera, 1, 2 are for peripherals.</span>"
   ]
  },
  {
   "cell_type": "code",
   "execution_count": 5,
   "id": "27be1ef7",
   "metadata": {},
   "outputs": [
    {
     "name": "stderr",
     "output_type": "stream",
     "text": [
      "INFO: Created TensorFlow Lite XNNPACK delegate for CPU.\n"
     ]
    }
   ],
   "source": [
    "# Use this code to view a live demo of media pipe landmarks mapped to subject\n",
    "\n",
    "cap = cv2.VideoCapture(2) # 0, 1, 2\n",
    "# set the mediapipe model\n",
    "with mp_holistic.Holistic(min_detection_confidence = 0.5, min_tracking_confidence = 0.5) as holistic:\n",
    "    while cap.isOpened():\n",
    "        #read feed\n",
    "        ret, frame = cap.read()\n",
    "        #make detection\n",
    "        image, results = mediapipe_detection(frame, holistic)\n",
    "        #draw landmarks and connections\n",
    "        draw_landmarks(image, results)\n",
    "        # show to screen\n",
    "        cv2.imshow('OpenCV Feed', image)\n",
    "        #break gracefully\n",
    "        if cv2.waitKey(10) & 0xFF == ord('q'):\n",
    "            break\n",
    "    # end the video capture setting\n",
    "    cap.release()\n",
    "    cv2.waitKey(1)\n",
    "    # close the video capture window(s)\n",
    "    cv2.destroyAllWindows()\n",
    "    cv2.waitKey(1)"
   ]
  },
  {
   "cell_type": "markdown",
   "id": "324d8586",
   "metadata": {},
   "source": [
    "## 3. Extract keypoint values\n",
    "### save number of landmarks and dimensions for each body set\n",
    "\n",
    "<span style=\"color: red;\">Check the validity of these numbers periodically, since Google may change them.</span>"
   ]
  },
  {
   "cell_type": "code",
   "execution_count": 6,
   "id": "4f4bceb4",
   "metadata": {},
   "outputs": [],
   "source": [
    "# save the number of mp landmarks for:\n",
    "# facemesh, pose, left hand, right hand\n",
    "# numbers found in MP documentation\n",
    "num_mp_lmks = {\n",
    "    'face' : {'num' : 468, 'dim' : 3}, # dim: x,y,z\n",
    "    'pose' : {'num' : 33, 'dim' : 4}, # dim: x,y,z,visibility\n",
    "    'hand' : {'num' : 21, 'dim' : 3} # dim: x,y,z\n",
    "}"
   ]
  },
  {
   "cell_type": "markdown",
   "id": "01918259",
   "metadata": {},
   "source": [
    "### calculate total number of keypoints for each body set"
   ]
  },
  {
   "cell_type": "code",
   "execution_count": 7,
   "id": "c43807fb",
   "metadata": {},
   "outputs": [
    {
     "data": {
      "text/plain": [
       "{'face': {'num': 468, 'dim': 3, 'total': 1404},\n",
       " 'pose': {'num': 33, 'dim': 4, 'total': 132},\n",
       " 'hand': {'num': 21, 'dim': 3, 'total': 63}}"
      ]
     },
     "execution_count": 7,
     "metadata": {},
     "output_type": "execute_result"
    }
   ],
   "source": [
    "# add total by multiplying number of landmarks w/ their dimensions\n",
    "for v in num_mp_lmks.values():\n",
    "    v['total'] = (v['num'] * v['dim'])\n",
    "num_mp_lmks"
   ]
  },
  {
   "cell_type": "markdown",
   "id": "5694c96a",
   "metadata": {},
   "source": [
    "### calculate final total of all keypoints"
   ]
  },
  {
   "cell_type": "code",
   "execution_count": 8,
   "id": "899f0a07",
   "metadata": {},
   "outputs": [
    {
     "data": {
      "text/plain": [
       "1662"
      ]
     },
     "execution_count": 8,
     "metadata": {},
     "output_type": "execute_result"
    }
   ],
   "source": [
    "num_keypoints =  0\n",
    "for k, v in num_mp_lmks.items():\n",
    "    num_keypoints += v['total']\n",
    "    if k == 'hand':\n",
    "        num_keypoints += v['total'] # add a 2nd hand\n",
    "num_keypoints"
   ]
  },
  {
   "cell_type": "markdown",
   "id": "af35e02a",
   "metadata": {},
   "source": [
    "### define extract_keypoints()\n",
    "This will extract every single keypoint in a video frame"
   ]
  },
  {
   "cell_type": "code",
   "execution_count": 9,
   "id": "8d33325c",
   "metadata": {},
   "outputs": [],
   "source": [
    "# extract_keypoints(results)\n",
    "# returns a single array with every single keypoint value in a frame\n",
    "#results are the media pipe detection results\n",
    "\n",
    "def extract_keypoints(results):\n",
    "    if results.pose_landmarks:\n",
    "        pose = np.array([[res.x, res.y, res.z, res.visibility]\\\n",
    "            for res in results.pose_landmarks.landmark]).flatten()\n",
    "    else:\n",
    "        pose = np.zeros(num_mp_lmks['pose']['total'])\n",
    "    \n",
    "    if results.face_landmarks:\n",
    "        face = np.array([[res.x, res.y, res.z]\\\n",
    "            for res in results.face_landmarks.landmark]).flatten()\n",
    "    else:\n",
    "        face = np.zeros(num_mp_lmks['face']['total'])\n",
    "\n",
    "    if results.left_hand_landmarks:\n",
    "        lhand = np.array([[res.x, res.y, res.z]\\\n",
    "            for res in results.left_hand_landmarks.landmark]).flatten()\n",
    "    else:\n",
    "        lhand = np.zeros(num_mp_lmks['hand']['total'])\n",
    "\n",
    "    if results.right_hand_landmarks:\n",
    "        rhand = np.array([[res.x, res.y, res.z]\\\n",
    "            for res in results.right_hand_landmarks.landmark]).flatten()\n",
    "    else:\n",
    "        rhand = np.zeros(num_mp_lmks['hand']['total'])\n",
    "\n",
    "    return np.concatenate([pose, face, lhand, rhand])"
   ]
  },
  {
   "cell_type": "markdown",
   "id": "dccbe0be",
   "metadata": {},
   "source": [
    "## 4. Set up data collection settings and directories\n",
    "\n",
    "### path to save testing/training data\n",
    "\n",
    "<span style=\"color: red;\">Set up the correct path</span>"
   ]
  },
  {
   "cell_type": "code",
   "execution_count": 10,
   "id": "92d376e2",
   "metadata": {},
   "outputs": [],
   "source": [
    "#path definitions:\n",
    "\n",
    "# path for exported data, numpy arrays\n",
    "DATA_PATH = os.path.join('ASL', 'MP_Data')"
   ]
  },
  {
   "cell_type": "markdown",
   "id": "f694990d",
   "metadata": {},
   "source": [
    "### labels\n",
    "\n",
    "<span style=\"color: red;\">Edit the labels</span>"
   ]
  },
  {
   "cell_type": "code",
   "execution_count": 11,
   "id": "d5f14c3e",
   "metadata": {},
   "outputs": [
    {
     "data": {
      "text/plain": [
       "array(['hello', 'thanks', 'iloveyou', 'neutral', 'not_hotdog'],\n",
       "      dtype='<U10')"
      ]
     },
     "execution_count": 11,
     "metadata": {},
     "output_type": "execute_result"
    }
   ],
   "source": [
    "# ASL actions that we try to detect\n",
    "actions = np.array([\n",
    "    'hello',\n",
    "    'thanks',\n",
    "    'iloveyou',\n",
    "    'neutral',\n",
    "    'not_hotdog'\n",
    "])\n",
    "actions"
   ]
  },
  {
   "cell_type": "markdown",
   "id": "f6cb8e3f",
   "metadata": {},
   "source": [
    "### number of videos per label\n",
    "\n",
    "<span style=\"color: red;\">Edit this number</span>"
   ]
  },
  {
   "cell_type": "code",
   "execution_count": 12,
   "id": "f98925db",
   "metadata": {},
   "outputs": [],
   "source": [
    "# 30 videos worth of data per action\n",
    "num_sequences = 30"
   ]
  },
  {
   "cell_type": "markdown",
   "id": "144cd149",
   "metadata": {},
   "source": [
    "### number of frames per video\n",
    "\n",
    "<span style=\"color: red;\">Edit this number</span>"
   ]
  },
  {
   "cell_type": "code",
   "execution_count": 13,
   "id": "cba2ce41",
   "metadata": {},
   "outputs": [],
   "source": [
    "#video sequences will be 15 frames in length\n",
    "sequence_length = 20"
   ]
  },
  {
   "cell_type": "markdown",
   "id": "ee95a615",
   "metadata": {},
   "source": [
    "### create data folders\n",
    "\n",
    "<span style=\"color: red;\">Run this depending on above changes</span>"
   ]
  },
  {
   "cell_type": "code",
   "execution_count": 14,
   "id": "2200b794",
   "metadata": {},
   "outputs": [],
   "source": [
    "# create folders\n",
    "    # 1 folder per action\n",
    "        # 1 folder per sequence\n",
    "            # 30 frames worth of data will be saved in each sequence folder\n",
    "\n",
    "for action in actions:\n",
    "    for sequence in range(num_sequences):\n",
    "        try:\n",
    "            os.makedirs(os.path.join(DATA_PATH, action, str(sequence)))\n",
    "        except:\n",
    "            pass"
   ]
  },
  {
   "cell_type": "markdown",
   "id": "c81a69cc",
   "metadata": {},
   "source": [
    "## 5. Collect keypoint values for training and testing\n",
    "\n",
    "<span style=\"color: red;\">Run this when you need to collect data</span>\n",
    "\n",
    "<span style=\"color: red;\">Change the VideoCapture number 0, 1, or 2.  0 is usually the built-in camera, 1, 2 are for peripherals.</span>"
   ]
  },
  {
   "cell_type": "code",
   "execution_count": 20,
   "id": "1a3fb3eb",
   "metadata": {},
   "outputs": [],
   "source": [
    "cap = cv2.VideoCapture(2) # 0, 1, 2\n",
    "# set the mediapipe model\n",
    "with mp_holistic.Holistic(min_detection_confidence = 0.5, min_tracking_confidence = 0.5) as holistic:\n",
    "    # loop through actions\n",
    "    for action in actions:\n",
    "        # loop through sequences (aka videos)\n",
    "        for sequence in range(num_sequences):\n",
    "            # loop through video length (aka sequence length)\n",
    "            for frame_num in range(sequence_length):\n",
    "                \n",
    "                #read feed\n",
    "                ret, frame = cap.read()\n",
    "                \n",
    "                #make detection\n",
    "                image, results = mediapipe_detection(frame, holistic)\n",
    "                \n",
    "                #draw landmarks and connections\n",
    "                draw_landmarks(image, results)\n",
    "                \n",
    "                #collection pauses and messaging\n",
    "                if frame_num == 0:\n",
    "                    if sequence == 0:\n",
    "                        cv2.putText(image, ('GET SET FOR {}'.format(action)),\n",
    "                                    (120,200), cv2.FONT_HERSHEY_SIMPLEX, 2.5, (150,0,0), 4, cv2.LINE_AA)\n",
    "                        # show to screen\n",
    "                        cv2.imshow('OpenCV Feed', image)\n",
    "                        cv2.waitKey(2000)\n",
    "                    else:\n",
    "                        cv2.putText(image, ('STARTING {} IN 2 SECONDS!'.format(action)),\n",
    "                                    (120,200), cv2.FONT_HERSHEY_SIMPLEX, 2, (0,150,0), 2, cv2.LINE_AA)\n",
    "                    cv2.putText(image, ('Collecting frames for {} Video Number {}'.format(action, sequence)),\n",
    "                                (30,30), cv2.FONT_HERSHEY_SIMPLEX, 1, (0,0,150), 1, cv2.LINE_AA)\n",
    "                    # show to screen\n",
    "                    cv2.imshow('OpenCV Feed', image)\n",
    "                    cv2.waitKey(2000)\n",
    "                else:\n",
    "                    cv2.putText(image, ('Collecting frames for {} Video Number {}'.format(action, sequence)),\n",
    "                                (30,30), cv2.FONT_HERSHEY_SIMPLEX, 1, (0,0,150), 1, cv2.LINE_AA)\n",
    "                    # show to screen\n",
    "                    cv2.imshow('OpenCV Feed', image)\n",
    "                \n",
    "                #export keypoints\n",
    "                keypoints = extract_keypoints(results)\n",
    "                npy_path = os.path.join(DATA_PATH, action, str(sequence), str(frame_num))\n",
    "                np.save(npy_path, keypoints)\n",
    "                \n",
    "                #break gracefully\n",
    "                if cv2.waitKey(10) & 0xFF == ord('q'):\n",
    "                    break\n",
    "                # end video capture\n",
    "    cap.release()\n",
    "    cv2.waitKey(1)\n",
    "    # close the video capture window(s)\n",
    "    cv2.destroyAllWindows()\n",
    "    cv2.waitKey(1)"
   ]
  },
  {
   "cell_type": "markdown",
   "id": "1d35c18e",
   "metadata": {},
   "source": [
    "### for releasing camera and closing windows\n",
    "\n",
    "<span style=\"color: red;\">Use the following just as needed</span>"
   ]
  },
  {
   "cell_type": "code",
   "execution_count": null,
   "id": "3b3a5370",
   "metadata": {},
   "outputs": [],
   "source": [
    "# use this if you need to clear cv2 windows\n",
    "\n",
    "cap.release()\n",
    "cv2.waitKey(1)\n",
    "# close the video capture window(s)\n",
    "cv2.destroyAllWindows()\n",
    "cv2.waitKey(1)"
   ]
  },
  {
   "cell_type": "markdown",
   "id": "09118563",
   "metadata": {},
   "source": [
    "## 6. Pre-process data and create labels and features\n",
    "\n",
    "### import"
   ]
  },
  {
   "cell_type": "code",
   "execution_count": 15,
   "id": "a2b9a9d9",
   "metadata": {},
   "outputs": [],
   "source": [
    "# import dependencies\n",
    "from sklearn.model_selection import train_test_split\n",
    "#helps us split up data for testing and training\n",
    "\n",
    "from tensorflow.keras.utils import to_categorical\n",
    "# to convert an np array of values to np array of 0s, 1s"
   ]
  },
  {
   "cell_type": "markdown",
   "id": "ec2ab6c0",
   "metadata": {},
   "source": [
    "### create label map"
   ]
  },
  {
   "cell_type": "code",
   "execution_count": 16,
   "id": "d671406f",
   "metadata": {},
   "outputs": [
    {
     "data": {
      "text/plain": [
       "{'hello': 0, 'thanks': 1, 'iloveyou': 2, 'neutral': 3, 'not_hotdog': 4}"
      ]
     },
     "execution_count": 16,
     "metadata": {},
     "output_type": "execute_result"
    }
   ],
   "source": [
    "label_map = {label : num for num, label in enumerate(actions)}\n",
    "label_map"
   ]
  },
  {
   "cell_type": "markdown",
   "id": "950cc5ab",
   "metadata": {},
   "source": [
    "### define data and label arrays\n",
    "* the __sequences array__ holds the __MP data__ for __each video__\n",
    "* the __label array__ holds the __correct labels__ for __each video__"
   ]
  },
  {
   "cell_type": "code",
   "execution_count": 17,
   "id": "65f9747a",
   "metadata": {},
   "outputs": [],
   "source": [
    "sequences, labels = [],[] #empty arrays. Think of sequences as x-data, label as y-data"
   ]
  },
  {
   "cell_type": "markdown",
   "id": "6d5c7b98",
   "metadata": {},
   "source": [
    "### fetch the data and labels"
   ]
  },
  {
   "cell_type": "code",
   "execution_count": 18,
   "id": "ee5954e3",
   "metadata": {},
   "outputs": [],
   "source": [
    "# bring in the saved data from disk\n",
    "for action in actions:\n",
    "    for seq in range(num_sequences):\n",
    "        seq_data = [] # MP data for all of the frames for this sequence\n",
    "        for frame_num in range(sequence_length):\n",
    "            result = np.load(os.path.join(DATA_PATH, action, str(seq), '{}.npy'.format(frame_num)))\n",
    "            seq_data.append(result)\n",
    "        sequences.append(seq_data)\n",
    "        labels.append(label_map[action])"
   ]
  },
  {
   "cell_type": "markdown",
   "id": "09661b12",
   "metadata": {},
   "source": [
    "### define X and y\n",
    "* X axis is the sequences data (as a numpy array)\n",
    "* y axis is the correct labels (as a numpy array)"
   ]
  },
  {
   "cell_type": "code",
   "execution_count": 19,
   "id": "71198a8f",
   "metadata": {},
   "outputs": [],
   "source": [
    "X = np.array(sequences) # make a numpy array from sequences\n",
    "y = to_categorical(labels).astype(int) # labels as binary flag array"
   ]
  },
  {
   "cell_type": "markdown",
   "id": "8a6f1142",
   "metadata": {},
   "source": [
    "### split data / labels into train / test\n",
    "* splitting is done randomly\n",
    "* each time you run you will get a new grouping\n",
    "\n",
    "<span style=\"color: red;\">Decide what percentage you want to be training data</span>"
   ]
  },
  {
   "cell_type": "code",
   "execution_count": 20,
   "id": "8163ba40",
   "metadata": {},
   "outputs": [],
   "source": [
    "# percentage of data should be testing data:\n",
    "test_percent = 10 # %\n",
    "\n",
    "# change to fraction\n",
    "test_percent = test_percent/100\n",
    "\n",
    "# randomly split data into testing and training\n",
    "X_train, X_test, y_train, y_test = train_test_split(X, y, test_size=(test_percent))"
   ]
  },
  {
   "cell_type": "markdown",
   "id": "478fc857",
   "metadata": {},
   "source": [
    "### view labels of test data\n",
    "Rerun the above until you have a nice mixture"
   ]
  },
  {
   "cell_type": "code",
   "execution_count": 21,
   "id": "dec6bc04",
   "metadata": {},
   "outputs": [
    {
     "data": {
      "text/plain": [
       "array([[0, 1, 0, 0, 0],\n",
       "       [0, 0, 0, 1, 0],\n",
       "       [0, 1, 0, 0, 0],\n",
       "       [0, 1, 0, 0, 0],\n",
       "       [0, 0, 1, 0, 0],\n",
       "       [0, 0, 1, 0, 0],\n",
       "       [0, 0, 0, 0, 1],\n",
       "       [0, 0, 1, 0, 0],\n",
       "       [1, 0, 0, 0, 0],\n",
       "       [1, 0, 0, 0, 0],\n",
       "       [0, 0, 1, 0, 0],\n",
       "       [0, 1, 0, 0, 0],\n",
       "       [0, 0, 0, 1, 0],\n",
       "       [0, 0, 0, 1, 0],\n",
       "       [0, 0, 0, 0, 1]])"
      ]
     },
     "execution_count": 21,
     "metadata": {},
     "output_type": "execute_result"
    }
   ],
   "source": [
    "y_test"
   ]
  },
  {
   "cell_type": "markdown",
   "id": "1bbe7456",
   "metadata": {},
   "source": [
    "## 7. Build and train LSTM neural network\n",
    "\n",
    "### import packages"
   ]
  },
  {
   "cell_type": "code",
   "execution_count": 22,
   "id": "1c929ec4",
   "metadata": {},
   "outputs": [],
   "source": [
    "# import required packages\n",
    "from tensorflow.keras.models import Sequential\n",
    "from tensorflow.keras.layers import LSTM, Dense\n",
    "from tensorflow.keras.callbacks import TensorBoard"
   ]
  },
  {
   "cell_type": "markdown",
   "id": "54d9e1b3",
   "metadata": {},
   "source": [
    "### set up log to view with TensorBoard\n",
    "\n",
    "<span style=\"color: red;\">Set up the correct path</span>"
   ]
  },
  {
   "cell_type": "code",
   "execution_count": 23,
   "id": "408a5337",
   "metadata": {},
   "outputs": [],
   "source": [
    "# set up the log path to then view the log with TensorBoard\n",
    "LOG_DIR = os.path.join('ASL', 'logs')\n",
    "tb_callback = TensorBoard(log_dir = LOG_DIR)"
   ]
  },
  {
   "cell_type": "markdown",
   "id": "be4c9c8a",
   "metadata": {},
   "source": [
    "### clear the model if necessary"
   ]
  },
  {
   "cell_type": "code",
   "execution_count": 24,
   "id": "10d444da",
   "metadata": {},
   "outputs": [
    {
     "ename": "NameError",
     "evalue": "name 'model' is not defined",
     "output_type": "error",
     "traceback": [
      "\u001b[0;31m---------------------------------------------------------------------------\u001b[0m",
      "\u001b[0;31mNameError\u001b[0m                                 Traceback (most recent call last)",
      "Cell \u001b[0;32mIn [24], line 2\u001b[0m\n\u001b[1;32m      1\u001b[0m \u001b[38;5;66;03m# now I can delete the model\u001b[39;00m\n\u001b[0;32m----> 2\u001b[0m \u001b[38;5;28;01mdel\u001b[39;00m model\n\u001b[1;32m      4\u001b[0m \u001b[38;5;66;03m# check that it was successfully deleted:\u001b[39;00m\n\u001b[1;32m      5\u001b[0m model\n",
      "\u001b[0;31mNameError\u001b[0m: name 'model' is not defined"
     ]
    }
   ],
   "source": [
    "# now I can delete the model\n",
    "del model\n",
    "\n",
    "# check that it was successfully deleted:\n",
    "model"
   ]
  },
  {
   "cell_type": "markdown",
   "id": "11b7a833",
   "metadata": {},
   "source": [
    "### build or rebuild the model\n",
    "This is the model's shape\n",
    "When [loading a model](#load_model) from disk, make sure to:\n",
    "1. run this model rebuild first\n",
    "2. [compile](#compile_model) the model\n",
    "3. then you can load [load the model](#load_model)"
   ]
  },
  {
   "cell_type": "code",
   "execution_count": 25,
   "id": "b0f1efdc",
   "metadata": {},
   "outputs": [
    {
     "name": "stderr",
     "output_type": "stream",
     "text": [
      "2022-09-21 11:20:25.784972: I tensorflow/core/platform/cpu_feature_guard.cc:193] This TensorFlow binary is optimized with oneAPI Deep Neural Network Library (oneDNN) to use the following CPU instructions in performance-critical operations:  AVX2 FMA\n",
      "To enable them in other operations, rebuild TensorFlow with the appropriate compiler flags.\n"
     ]
    }
   ],
   "source": [
    "# instantiate the Sequential API model\n",
    "model = Sequential()\n",
    "\n",
    "##### NEED TO EDIT THIS SO THAT I CAN DEFINE NUMBER OF SEQUENCES AND NUMBER OF FRAMES VIA VARIABLES #####\n",
    "# creating the LSTM layers\n",
    "# 1st layer: 64 LSTM units, return sequence (True) so next layer can use it\n",
    "# shape of each sequence (video) is 30 frames (sequence_length) by 1662 keypoints (num_keypoints)\n",
    "model.add(LSTM(64, return_sequences=True, activation='relu', input_shape=(sequence_length, num_keypoints)))\n",
    "\n",
    "# 2nd layer: 128 LSTM units\n",
    "model.add(LSTM(128, return_sequences=True, activation='relu'))\n",
    "\n",
    "#3rd layer: 64 LSTM units, won't be returning the sequence\n",
    "model.add(LSTM(64, return_sequences=False, activation='relu'))\n",
    "\n",
    "# creating the Dense layers\n",
    "# 1st layer: 64 Densly connected Neural Network neurons\n",
    "model.add(Dense(64, activation='relu'))\n",
    "\n",
    "#2nd layer: 32 Dense NN neurons\n",
    "model.add(Dense(32, activation='relu'))\n",
    "\n",
    "# create the Actions layer\n",
    "# 3 neural network units (actions.shape = (3,) and so actions.shape[0] = 3)\n",
    "# choosing softmax because all three values in the model will add up to 1\n",
    "model.add(Dense(actions.shape[0], activation='softmax'))"
   ]
  },
  {
   "cell_type": "markdown",
   "id": "7991c375",
   "metadata": {},
   "source": [
    "<a id=\"compile_model\"></a>\n",
    "### compile the model\n",
    "After you have defined the model's shape, you will need to compile the model.\n",
    "\n",
    "When [loading a model](#load_model) from disk, make sure to:\n",
    "1. run the [model rebuild](#model_rebuild) first\n",
    "2. Run this model compiler\n",
    "3. then you can load [load the model](#load_model)"
   ]
  },
  {
   "cell_type": "code",
   "execution_count": 26,
   "id": "b1b03067",
   "metadata": {},
   "outputs": [],
   "source": [
    "model.compile(optimizer='Adam', loss='categorical_crossentropy', metrics=['categorical_accuracy'])"
   ]
  },
  {
   "cell_type": "markdown",
   "id": "91aa5a0e",
   "metadata": {},
   "source": [
    "### train the model\n",
    "\n",
    "<span style=\"color: red;\">WARNING: THIS WILL REWRITE YOUR DATA. Edit the number of epochs</span>"
   ]
  },
  {
   "cell_type": "code",
   "execution_count": 60,
   "id": "541cf3af",
   "metadata": {},
   "outputs": [
    {
     "name": "stdout",
     "output_type": "stream",
     "text": [
      "Epoch 1/500\n",
      "5/5 [==============================] - 3s 53ms/step - loss: 2.3278 - categorical_accuracy: 0.2370\n",
      "Epoch 2/500\n",
      "5/5 [==============================] - 0s 47ms/step - loss: 1.7688 - categorical_accuracy: 0.1481\n",
      "Epoch 3/500\n",
      "5/5 [==============================] - 0s 46ms/step - loss: 1.7541 - categorical_accuracy: 0.2222\n",
      "Epoch 4/500\n",
      "5/5 [==============================] - 0s 45ms/step - loss: 1.6615 - categorical_accuracy: 0.2074\n",
      "Epoch 5/500\n",
      "5/5 [==============================] - 0s 46ms/step - loss: 1.6267 - categorical_accuracy: 0.2889\n",
      "Epoch 6/500\n",
      "5/5 [==============================] - 0s 46ms/step - loss: 1.6099 - categorical_accuracy: 0.1926\n",
      "Epoch 7/500\n",
      "5/5 [==============================] - 0s 45ms/step - loss: 1.4921 - categorical_accuracy: 0.3778\n",
      "Epoch 8/500\n",
      "5/5 [==============================] - 0s 44ms/step - loss: 1.3719 - categorical_accuracy: 0.3778\n",
      "Epoch 9/500\n",
      "5/5 [==============================] - 0s 44ms/step - loss: 1.1794 - categorical_accuracy: 0.4148\n",
      "Epoch 10/500\n",
      "5/5 [==============================] - 0s 45ms/step - loss: 1.2749 - categorical_accuracy: 0.3852\n",
      "Epoch 11/500\n",
      "5/5 [==============================] - 0s 45ms/step - loss: 1.2822 - categorical_accuracy: 0.4370\n",
      "Epoch 12/500\n",
      "5/5 [==============================] - 0s 47ms/step - loss: 1.2727 - categorical_accuracy: 0.3556\n",
      "Epoch 13/500\n",
      "5/5 [==============================] - 0s 45ms/step - loss: 1.1798 - categorical_accuracy: 0.4667\n",
      "Epoch 14/500\n",
      "5/5 [==============================] - 0s 46ms/step - loss: 1.0770 - categorical_accuracy: 0.5111\n",
      "Epoch 15/500\n",
      "5/5 [==============================] - 0s 45ms/step - loss: 0.9977 - categorical_accuracy: 0.5704\n",
      "Epoch 16/500\n",
      "5/5 [==============================] - 0s 47ms/step - loss: 1.0791 - categorical_accuracy: 0.4741\n",
      "Epoch 17/500\n",
      "5/5 [==============================] - 0s 46ms/step - loss: 1.0326 - categorical_accuracy: 0.5852\n",
      "Epoch 18/500\n",
      "5/5 [==============================] - 0s 48ms/step - loss: 0.9662 - categorical_accuracy: 0.5852\n",
      "Epoch 19/500\n",
      "5/5 [==============================] - 0s 50ms/step - loss: 0.9535 - categorical_accuracy: 0.6222\n",
      "Epoch 20/500\n",
      "5/5 [==============================] - 0s 46ms/step - loss: 0.9030 - categorical_accuracy: 0.5407\n",
      "Epoch 21/500\n",
      "5/5 [==============================] - 0s 44ms/step - loss: 0.8857 - categorical_accuracy: 0.5556\n",
      "Epoch 22/500\n",
      "5/5 [==============================] - 0s 48ms/step - loss: 0.7844 - categorical_accuracy: 0.6148\n",
      "Epoch 23/500\n",
      "5/5 [==============================] - 0s 43ms/step - loss: 0.7319 - categorical_accuracy: 0.6963\n",
      "Epoch 24/500\n",
      "5/5 [==============================] - 0s 46ms/step - loss: 0.7722 - categorical_accuracy: 0.6444\n",
      "Epoch 25/500\n",
      "5/5 [==============================] - 0s 45ms/step - loss: 0.7842 - categorical_accuracy: 0.6296\n",
      "Epoch 26/500\n",
      "5/5 [==============================] - 0s 49ms/step - loss: 0.7924 - categorical_accuracy: 0.6444\n",
      "Epoch 27/500\n",
      "5/5 [==============================] - 0s 45ms/step - loss: 0.7291 - categorical_accuracy: 0.6815\n",
      "Epoch 28/500\n",
      "5/5 [==============================] - 0s 48ms/step - loss: 0.7586 - categorical_accuracy: 0.6741\n",
      "Epoch 29/500\n",
      "5/5 [==============================] - 0s 51ms/step - loss: 0.7512 - categorical_accuracy: 0.6889\n",
      "Epoch 30/500\n",
      "5/5 [==============================] - 0s 43ms/step - loss: 0.7296 - categorical_accuracy: 0.6667\n",
      "Epoch 31/500\n",
      "5/5 [==============================] - 0s 42ms/step - loss: 0.7465 - categorical_accuracy: 0.7111\n",
      "Epoch 32/500\n",
      "5/5 [==============================] - 0s 44ms/step - loss: 0.7940 - categorical_accuracy: 0.6074\n",
      "Epoch 33/500\n",
      "5/5 [==============================] - 0s 43ms/step - loss: 0.7317 - categorical_accuracy: 0.6741\n",
      "Epoch 34/500\n",
      "5/5 [==============================] - 0s 45ms/step - loss: 0.7791 - categorical_accuracy: 0.6148\n",
      "Epoch 35/500\n",
      "5/5 [==============================] - 0s 44ms/step - loss: 0.6494 - categorical_accuracy: 0.7259\n",
      "Epoch 36/500\n",
      "5/5 [==============================] - 0s 43ms/step - loss: 0.6750 - categorical_accuracy: 0.6741\n",
      "Epoch 37/500\n",
      "5/5 [==============================] - 0s 47ms/step - loss: 0.6266 - categorical_accuracy: 0.7185\n",
      "Epoch 38/500\n",
      "5/5 [==============================] - 0s 43ms/step - loss: 0.6657 - categorical_accuracy: 0.6519\n",
      "Epoch 39/500\n",
      "5/5 [==============================] - 0s 44ms/step - loss: 0.6207 - categorical_accuracy: 0.7111\n",
      "Epoch 40/500\n",
      "5/5 [==============================] - 0s 42ms/step - loss: 0.6906 - categorical_accuracy: 0.6296\n",
      "Epoch 41/500\n",
      "5/5 [==============================] - 0s 42ms/step - loss: 0.6845 - categorical_accuracy: 0.6296\n",
      "Epoch 42/500\n",
      "5/5 [==============================] - 0s 46ms/step - loss: 0.6535 - categorical_accuracy: 0.6667\n",
      "Epoch 43/500\n",
      "5/5 [==============================] - 0s 45ms/step - loss: 0.5804 - categorical_accuracy: 0.7037\n",
      "Epoch 44/500\n",
      "5/5 [==============================] - 0s 45ms/step - loss: 0.5956 - categorical_accuracy: 0.6815\n",
      "Epoch 45/500\n",
      "5/5 [==============================] - 0s 45ms/step - loss: 0.5711 - categorical_accuracy: 0.7407\n",
      "Epoch 46/500\n",
      "5/5 [==============================] - 0s 53ms/step - loss: 0.6583 - categorical_accuracy: 0.6222\n",
      "Epoch 47/500\n",
      "5/5 [==============================] - 0s 44ms/step - loss: 0.5713 - categorical_accuracy: 0.7407\n",
      "Epoch 48/500\n",
      "5/5 [==============================] - 0s 44ms/step - loss: 1.1253 - categorical_accuracy: 0.5407\n",
      "Epoch 49/500\n",
      "5/5 [==============================] - 0s 44ms/step - loss: 1.2544 - categorical_accuracy: 0.4963\n",
      "Epoch 50/500\n",
      "5/5 [==============================] - 0s 43ms/step - loss: 0.9852 - categorical_accuracy: 0.5481\n",
      "Epoch 51/500\n",
      "5/5 [==============================] - 0s 44ms/step - loss: 0.8514 - categorical_accuracy: 0.7185\n",
      "Epoch 52/500\n",
      "5/5 [==============================] - 0s 43ms/step - loss: 0.7721 - categorical_accuracy: 0.6296\n",
      "Epoch 53/500\n",
      "5/5 [==============================] - 0s 44ms/step - loss: 0.7887 - categorical_accuracy: 0.5926\n",
      "Epoch 54/500\n",
      "5/5 [==============================] - 0s 44ms/step - loss: 0.7346 - categorical_accuracy: 0.6370\n",
      "Epoch 55/500\n",
      "5/5 [==============================] - 0s 46ms/step - loss: 0.6790 - categorical_accuracy: 0.6444\n",
      "Epoch 56/500\n",
      "5/5 [==============================] - 0s 44ms/step - loss: 0.7054 - categorical_accuracy: 0.6889\n",
      "Epoch 57/500\n",
      "5/5 [==============================] - 0s 44ms/step - loss: 0.7140 - categorical_accuracy: 0.5926\n",
      "Epoch 58/500\n",
      "5/5 [==============================] - 0s 44ms/step - loss: 0.6641 - categorical_accuracy: 0.6519\n",
      "Epoch 59/500\n",
      "5/5 [==============================] - 0s 44ms/step - loss: 0.6604 - categorical_accuracy: 0.7185\n",
      "Epoch 60/500\n",
      "5/5 [==============================] - 0s 45ms/step - loss: 0.6334 - categorical_accuracy: 0.7259\n",
      "Epoch 61/500\n",
      "5/5 [==============================] - 0s 45ms/step - loss: 0.6624 - categorical_accuracy: 0.6963\n",
      "Epoch 62/500\n",
      "5/5 [==============================] - 0s 48ms/step - loss: 1.3619 - categorical_accuracy: 0.4963\n",
      "Epoch 63/500\n",
      "5/5 [==============================] - 0s 46ms/step - loss: 1.3478 - categorical_accuracy: 0.4963\n",
      "Epoch 64/500\n",
      "5/5 [==============================] - 0s 46ms/step - loss: 1.0970 - categorical_accuracy: 0.4593\n",
      "Epoch 65/500\n",
      "5/5 [==============================] - 0s 44ms/step - loss: 1.0477 - categorical_accuracy: 0.5259\n",
      "Epoch 66/500\n",
      "5/5 [==============================] - 0s 43ms/step - loss: 0.8763 - categorical_accuracy: 0.5852\n",
      "Epoch 67/500\n",
      "5/5 [==============================] - 0s 46ms/step - loss: 0.8921 - categorical_accuracy: 0.6074\n",
      "Epoch 68/500\n",
      "5/5 [==============================] - 0s 43ms/step - loss: 0.8153 - categorical_accuracy: 0.6148\n",
      "Epoch 69/500\n",
      "5/5 [==============================] - 0s 46ms/step - loss: 0.7674 - categorical_accuracy: 0.6074\n",
      "Epoch 70/500\n",
      "5/5 [==============================] - 0s 48ms/step - loss: 0.7207 - categorical_accuracy: 0.6667\n",
      "Epoch 71/500\n",
      "5/5 [==============================] - 0s 44ms/step - loss: 0.6885 - categorical_accuracy: 0.6741\n",
      "Epoch 72/500\n",
      "5/5 [==============================] - 0s 45ms/step - loss: 0.6546 - categorical_accuracy: 0.7481\n",
      "Epoch 73/500\n",
      "5/5 [==============================] - 0s 46ms/step - loss: 0.6674 - categorical_accuracy: 0.6519\n",
      "Epoch 74/500\n",
      "5/5 [==============================] - 0s 44ms/step - loss: 0.6742 - categorical_accuracy: 0.6593\n",
      "Epoch 75/500\n",
      "5/5 [==============================] - 0s 43ms/step - loss: 0.6838 - categorical_accuracy: 0.6593\n",
      "Epoch 76/500\n",
      "5/5 [==============================] - 0s 45ms/step - loss: 0.6763 - categorical_accuracy: 0.6519\n",
      "Epoch 77/500\n",
      "5/5 [==============================] - 0s 45ms/step - loss: 0.8622 - categorical_accuracy: 0.5926\n",
      "Epoch 78/500\n",
      "5/5 [==============================] - 0s 43ms/step - loss: 0.8005 - categorical_accuracy: 0.6444\n",
      "Epoch 79/500\n",
      "5/5 [==============================] - 0s 43ms/step - loss: 0.6810 - categorical_accuracy: 0.6815\n",
      "Epoch 80/500\n",
      "5/5 [==============================] - 0s 43ms/step - loss: 0.6308 - categorical_accuracy: 0.7407\n",
      "Epoch 81/500\n",
      "5/5 [==============================] - 0s 42ms/step - loss: 0.6279 - categorical_accuracy: 0.6963\n",
      "Epoch 82/500\n",
      "5/5 [==============================] - 0s 43ms/step - loss: 0.5643 - categorical_accuracy: 0.7481\n",
      "Epoch 83/500\n",
      "5/5 [==============================] - 0s 43ms/step - loss: 0.6223 - categorical_accuracy: 0.7556\n",
      "Epoch 84/500\n",
      "5/5 [==============================] - 0s 44ms/step - loss: 0.5578 - categorical_accuracy: 0.7333\n",
      "Epoch 85/500\n",
      "5/5 [==============================] - 0s 46ms/step - loss: 0.5888 - categorical_accuracy: 0.7333\n",
      "Epoch 86/500\n",
      "5/5 [==============================] - 0s 45ms/step - loss: 0.5269 - categorical_accuracy: 0.7259\n",
      "Epoch 87/500\n",
      "5/5 [==============================] - 0s 45ms/step - loss: 0.5647 - categorical_accuracy: 0.7111\n",
      "Epoch 88/500\n",
      "5/5 [==============================] - 0s 44ms/step - loss: 0.5072 - categorical_accuracy: 0.7926\n",
      "Epoch 89/500\n",
      "5/5 [==============================] - 0s 43ms/step - loss: 0.5751 - categorical_accuracy: 0.7926\n",
      "Epoch 90/500\n",
      "5/5 [==============================] - 0s 47ms/step - loss: 0.4964 - categorical_accuracy: 0.7481\n",
      "Epoch 91/500\n",
      "5/5 [==============================] - 0s 42ms/step - loss: 0.5039 - categorical_accuracy: 0.7630\n",
      "Epoch 92/500\n",
      "5/5 [==============================] - 0s 51ms/step - loss: 0.5170 - categorical_accuracy: 0.7407\n",
      "Epoch 93/500\n",
      "5/5 [==============================] - 0s 46ms/step - loss: 0.5163 - categorical_accuracy: 0.7704\n",
      "Epoch 94/500\n",
      "5/5 [==============================] - 0s 45ms/step - loss: 0.5060 - categorical_accuracy: 0.7111\n",
      "Epoch 95/500\n",
      "5/5 [==============================] - 0s 50ms/step - loss: 0.6411 - categorical_accuracy: 0.7556\n",
      "Epoch 96/500\n",
      "5/5 [==============================] - 0s 48ms/step - loss: 0.5248 - categorical_accuracy: 0.7333\n",
      "Epoch 97/500\n",
      "5/5 [==============================] - 0s 44ms/step - loss: 0.5519 - categorical_accuracy: 0.6963\n",
      "Epoch 98/500\n",
      "5/5 [==============================] - 0s 44ms/step - loss: 0.5636 - categorical_accuracy: 0.7481\n",
      "Epoch 99/500\n",
      "5/5 [==============================] - 0s 46ms/step - loss: 0.7356 - categorical_accuracy: 0.7481\n",
      "Epoch 100/500\n",
      "5/5 [==============================] - 0s 43ms/step - loss: 0.7418 - categorical_accuracy: 0.6815\n",
      "Epoch 101/500\n",
      "5/5 [==============================] - 0s 44ms/step - loss: 0.7334 - categorical_accuracy: 0.6593\n",
      "Epoch 102/500\n",
      "5/5 [==============================] - 0s 43ms/step - loss: 0.5961 - categorical_accuracy: 0.7481\n",
      "Epoch 103/500\n",
      "5/5 [==============================] - 0s 43ms/step - loss: 0.5461 - categorical_accuracy: 0.7926\n",
      "Epoch 104/500\n",
      "5/5 [==============================] - 0s 43ms/step - loss: 0.5771 - categorical_accuracy: 0.7481\n",
      "Epoch 105/500\n",
      "5/5 [==============================] - 0s 43ms/step - loss: 0.5032 - categorical_accuracy: 0.8074\n",
      "Epoch 106/500\n",
      "5/5 [==============================] - 0s 43ms/step - loss: 0.4795 - categorical_accuracy: 0.8074\n",
      "Epoch 107/500\n",
      "5/5 [==============================] - 0s 42ms/step - loss: 0.4803 - categorical_accuracy: 0.7926\n",
      "Epoch 108/500\n",
      "5/5 [==============================] - 0s 44ms/step - loss: 0.5159 - categorical_accuracy: 0.7778\n",
      "Epoch 109/500\n",
      "5/5 [==============================] - 0s 43ms/step - loss: 0.4734 - categorical_accuracy: 0.7704\n",
      "Epoch 110/500\n",
      "5/5 [==============================] - 0s 44ms/step - loss: 0.4294 - categorical_accuracy: 0.7852\n",
      "Epoch 111/500\n",
      "5/5 [==============================] - 0s 43ms/step - loss: 0.4959 - categorical_accuracy: 0.7926\n",
      "Epoch 112/500\n",
      "5/5 [==============================] - 0s 44ms/step - loss: 1.0139 - categorical_accuracy: 0.6741\n",
      "Epoch 113/500\n",
      "5/5 [==============================] - 0s 43ms/step - loss: 0.6779 - categorical_accuracy: 0.6296\n",
      "Epoch 114/500\n",
      "5/5 [==============================] - 0s 43ms/step - loss: 0.6250 - categorical_accuracy: 0.6741\n",
      "Epoch 115/500\n",
      "5/5 [==============================] - 0s 43ms/step - loss: 0.5895 - categorical_accuracy: 0.7037\n",
      "Epoch 116/500\n",
      "5/5 [==============================] - 0s 43ms/step - loss: 0.5677 - categorical_accuracy: 0.7111\n",
      "Epoch 117/500\n",
      "5/5 [==============================] - 0s 44ms/step - loss: 0.5274 - categorical_accuracy: 0.7481\n",
      "Epoch 118/500\n",
      "5/5 [==============================] - 0s 43ms/step - loss: 0.5218 - categorical_accuracy: 0.7259\n",
      "Epoch 119/500\n",
      "5/5 [==============================] - 0s 43ms/step - loss: 0.5569 - categorical_accuracy: 0.6889\n",
      "Epoch 120/500\n",
      "5/5 [==============================] - 0s 46ms/step - loss: 0.5462 - categorical_accuracy: 0.8000\n",
      "Epoch 121/500\n",
      "5/5 [==============================] - 0s 47ms/step - loss: 0.5488 - categorical_accuracy: 0.7185\n",
      "Epoch 122/500\n",
      "5/5 [==============================] - 0s 43ms/step - loss: 0.5054 - categorical_accuracy: 0.7926\n",
      "Epoch 123/500\n",
      "5/5 [==============================] - 0s 45ms/step - loss: 0.4899 - categorical_accuracy: 0.7778\n",
      "Epoch 124/500\n",
      "5/5 [==============================] - 0s 43ms/step - loss: 0.4966 - categorical_accuracy: 0.8000\n",
      "Epoch 125/500\n",
      "5/5 [==============================] - 0s 42ms/step - loss: 0.4635 - categorical_accuracy: 0.8148\n",
      "Epoch 126/500\n",
      "5/5 [==============================] - 0s 45ms/step - loss: 0.4586 - categorical_accuracy: 0.7926\n",
      "Epoch 127/500\n",
      "5/5 [==============================] - 0s 44ms/step - loss: 0.4352 - categorical_accuracy: 0.8370\n",
      "Epoch 128/500\n",
      "5/5 [==============================] - 0s 43ms/step - loss: 0.4232 - categorical_accuracy: 0.8667\n",
      "Epoch 129/500\n",
      "5/5 [==============================] - 0s 43ms/step - loss: 0.4612 - categorical_accuracy: 0.7926\n",
      "Epoch 130/500\n",
      "5/5 [==============================] - 0s 44ms/step - loss: 0.4245 - categorical_accuracy: 0.8296\n",
      "Epoch 131/500\n",
      "5/5 [==============================] - 0s 44ms/step - loss: 0.4125 - categorical_accuracy: 0.8222\n",
      "Epoch 132/500\n",
      "5/5 [==============================] - 0s 43ms/step - loss: 0.4289 - categorical_accuracy: 0.7926\n",
      "Epoch 133/500\n",
      "5/5 [==============================] - 0s 42ms/step - loss: 0.5128 - categorical_accuracy: 0.7852\n",
      "Epoch 134/500\n",
      "5/5 [==============================] - 0s 42ms/step - loss: 0.4726 - categorical_accuracy: 0.8222\n",
      "Epoch 135/500\n",
      "5/5 [==============================] - 0s 42ms/step - loss: 0.4494 - categorical_accuracy: 0.8296\n",
      "Epoch 136/500\n",
      "5/5 [==============================] - 0s 42ms/step - loss: 0.4251 - categorical_accuracy: 0.8296\n",
      "Epoch 137/500\n",
      "5/5 [==============================] - 0s 42ms/step - loss: 0.4952 - categorical_accuracy: 0.8000\n",
      "Epoch 138/500\n",
      "5/5 [==============================] - 0s 42ms/step - loss: 0.5949 - categorical_accuracy: 0.7333\n",
      "Epoch 139/500\n",
      "5/5 [==============================] - 0s 42ms/step - loss: 0.4431 - categorical_accuracy: 0.7778\n",
      "Epoch 140/500\n",
      "5/5 [==============================] - 0s 43ms/step - loss: 0.3832 - categorical_accuracy: 0.8148\n",
      "Epoch 141/500\n",
      "5/5 [==============================] - 0s 43ms/step - loss: 0.3863 - categorical_accuracy: 0.8148\n",
      "Epoch 142/500\n",
      "5/5 [==============================] - 0s 44ms/step - loss: 0.4078 - categorical_accuracy: 0.8074\n",
      "Epoch 143/500\n",
      "5/5 [==============================] - 0s 45ms/step - loss: 0.4047 - categorical_accuracy: 0.8222\n",
      "Epoch 144/500\n",
      "5/5 [==============================] - 0s 44ms/step - loss: 0.3897 - categorical_accuracy: 0.8444\n",
      "Epoch 145/500\n",
      "5/5 [==============================] - 0s 43ms/step - loss: 0.3704 - categorical_accuracy: 0.8148\n",
      "Epoch 146/500\n",
      "5/5 [==============================] - 0s 44ms/step - loss: 0.3550 - categorical_accuracy: 0.8519\n",
      "Epoch 147/500\n"
     ]
    },
    {
     "name": "stdout",
     "output_type": "stream",
     "text": [
      "5/5 [==============================] - 0s 43ms/step - loss: 0.3863 - categorical_accuracy: 0.8370\n",
      "Epoch 148/500\n",
      "5/5 [==============================] - 0s 42ms/step - loss: 0.4042 - categorical_accuracy: 0.8074\n",
      "Epoch 149/500\n",
      "5/5 [==============================] - 0s 43ms/step - loss: 0.5268 - categorical_accuracy: 0.7778\n",
      "Epoch 150/500\n",
      "5/5 [==============================] - 0s 43ms/step - loss: 0.4144 - categorical_accuracy: 0.8000\n",
      "Epoch 151/500\n",
      "5/5 [==============================] - 0s 41ms/step - loss: 0.5997 - categorical_accuracy: 0.7259\n",
      "Epoch 152/500\n",
      "5/5 [==============================] - 0s 41ms/step - loss: 0.6212 - categorical_accuracy: 0.6741\n",
      "Epoch 153/500\n",
      "5/5 [==============================] - 0s 40ms/step - loss: 0.4760 - categorical_accuracy: 0.7778\n",
      "Epoch 154/500\n",
      "5/5 [==============================] - 0s 43ms/step - loss: 0.4537 - categorical_accuracy: 0.7852\n",
      "Epoch 155/500\n",
      "5/5 [==============================] - 0s 43ms/step - loss: 0.4408 - categorical_accuracy: 0.8519\n",
      "Epoch 156/500\n",
      "5/5 [==============================] - 0s 43ms/step - loss: 0.3952 - categorical_accuracy: 0.8296\n",
      "Epoch 157/500\n",
      "5/5 [==============================] - 0s 42ms/step - loss: 0.3600 - categorical_accuracy: 0.8519\n",
      "Epoch 158/500\n",
      "5/5 [==============================] - 0s 42ms/step - loss: 0.4732 - categorical_accuracy: 0.7704\n",
      "Epoch 159/500\n",
      "5/5 [==============================] - 0s 43ms/step - loss: 0.5759 - categorical_accuracy: 0.7481\n",
      "Epoch 160/500\n",
      "5/5 [==============================] - 0s 43ms/step - loss: 0.4543 - categorical_accuracy: 0.7926\n",
      "Epoch 161/500\n",
      "5/5 [==============================] - 0s 43ms/step - loss: 0.4407 - categorical_accuracy: 0.8074\n",
      "Epoch 162/500\n",
      "5/5 [==============================] - 0s 42ms/step - loss: 0.4303 - categorical_accuracy: 0.8000\n",
      "Epoch 163/500\n",
      "5/5 [==============================] - 0s 42ms/step - loss: 0.3589 - categorical_accuracy: 0.8667\n",
      "Epoch 164/500\n",
      "5/5 [==============================] - 0s 42ms/step - loss: 0.3783 - categorical_accuracy: 0.8370\n",
      "Epoch 165/500\n",
      "5/5 [==============================] - 0s 43ms/step - loss: 0.3227 - categorical_accuracy: 0.8667\n",
      "Epoch 166/500\n",
      "5/5 [==============================] - 0s 46ms/step - loss: 0.3208 - categorical_accuracy: 0.8370\n",
      "Epoch 167/500\n",
      "5/5 [==============================] - 0s 44ms/step - loss: 0.3143 - categorical_accuracy: 0.8667\n",
      "Epoch 168/500\n",
      "5/5 [==============================] - 0s 44ms/step - loss: 0.2877 - categorical_accuracy: 0.8741\n",
      "Epoch 169/500\n",
      "5/5 [==============================] - 0s 43ms/step - loss: 0.2939 - categorical_accuracy: 0.8815\n",
      "Epoch 170/500\n",
      "5/5 [==============================] - 0s 42ms/step - loss: 0.3294 - categorical_accuracy: 0.8519\n",
      "Epoch 171/500\n",
      "5/5 [==============================] - 0s 43ms/step - loss: 0.3271 - categorical_accuracy: 0.8519\n",
      "Epoch 172/500\n",
      "5/5 [==============================] - 0s 44ms/step - loss: 0.3144 - categorical_accuracy: 0.8815\n",
      "Epoch 173/500\n",
      "5/5 [==============================] - 0s 44ms/step - loss: 0.5414 - categorical_accuracy: 0.7407\n",
      "Epoch 174/500\n",
      "5/5 [==============================] - 0s 45ms/step - loss: 0.3462 - categorical_accuracy: 0.8519\n",
      "Epoch 175/500\n",
      "5/5 [==============================] - 0s 43ms/step - loss: 0.3446 - categorical_accuracy: 0.8741\n",
      "Epoch 176/500\n",
      "5/5 [==============================] - 0s 43ms/step - loss: 0.4454 - categorical_accuracy: 0.8444\n",
      "Epoch 177/500\n",
      "5/5 [==============================] - 0s 40ms/step - loss: 0.4348 - categorical_accuracy: 0.7926\n",
      "Epoch 178/500\n",
      "5/5 [==============================] - 0s 43ms/step - loss: 0.7182 - categorical_accuracy: 0.7037\n",
      "Epoch 179/500\n",
      "5/5 [==============================] - 0s 42ms/step - loss: 0.7339 - categorical_accuracy: 0.6519\n",
      "Epoch 180/500\n",
      "5/5 [==============================] - 0s 44ms/step - loss: 0.5349 - categorical_accuracy: 0.7407\n",
      "Epoch 181/500\n",
      "5/5 [==============================] - 0s 42ms/step - loss: 0.4674 - categorical_accuracy: 0.8222\n",
      "Epoch 182/500\n",
      "5/5 [==============================] - 0s 43ms/step - loss: 0.4633 - categorical_accuracy: 0.8444\n",
      "Epoch 183/500\n",
      "5/5 [==============================] - 0s 42ms/step - loss: 0.4407 - categorical_accuracy: 0.8148\n",
      "Epoch 184/500\n",
      "5/5 [==============================] - 0s 42ms/step - loss: 0.4711 - categorical_accuracy: 0.7704\n",
      "Epoch 185/500\n",
      "5/5 [==============================] - 0s 43ms/step - loss: 0.5831 - categorical_accuracy: 0.7556\n",
      "Epoch 186/500\n",
      "5/5 [==============================] - 0s 43ms/step - loss: 0.4425 - categorical_accuracy: 0.7852\n",
      "Epoch 187/500\n",
      "5/5 [==============================] - 0s 42ms/step - loss: 0.3948 - categorical_accuracy: 0.8444\n",
      "Epoch 188/500\n",
      "5/5 [==============================] - 0s 44ms/step - loss: 0.4159 - categorical_accuracy: 0.8444\n",
      "Epoch 189/500\n",
      "5/5 [==============================] - 0s 46ms/step - loss: 0.3816 - categorical_accuracy: 0.7926\n",
      "Epoch 190/500\n",
      "5/5 [==============================] - 0s 44ms/step - loss: 0.3476 - categorical_accuracy: 0.8815\n",
      "Epoch 191/500\n",
      "5/5 [==============================] - 0s 45ms/step - loss: 0.3221 - categorical_accuracy: 0.8519\n",
      "Epoch 192/500\n",
      "5/5 [==============================] - 0s 44ms/step - loss: 0.3196 - categorical_accuracy: 0.8741\n",
      "Epoch 193/500\n",
      "5/5 [==============================] - 0s 42ms/step - loss: 0.3097 - categorical_accuracy: 0.8593\n",
      "Epoch 194/500\n",
      "5/5 [==============================] - 0s 44ms/step - loss: 0.3055 - categorical_accuracy: 0.8815\n",
      "Epoch 195/500\n",
      "5/5 [==============================] - 0s 45ms/step - loss: 0.2757 - categorical_accuracy: 0.8889\n",
      "Epoch 196/500\n",
      "5/5 [==============================] - 0s 43ms/step - loss: 0.3119 - categorical_accuracy: 0.8741\n",
      "Epoch 197/500\n",
      "5/5 [==============================] - 0s 43ms/step - loss: 0.2485 - categorical_accuracy: 0.8889\n",
      "Epoch 198/500\n",
      "5/5 [==============================] - 0s 43ms/step - loss: 0.2608 - categorical_accuracy: 0.8889\n",
      "Epoch 199/500\n",
      "5/5 [==============================] - 0s 43ms/step - loss: 0.2325 - categorical_accuracy: 0.8963\n",
      "Epoch 200/500\n",
      "5/5 [==============================] - 0s 44ms/step - loss: 0.2120 - categorical_accuracy: 0.9259\n",
      "Epoch 201/500\n",
      "5/5 [==============================] - 0s 43ms/step - loss: 0.3833 - categorical_accuracy: 0.8889\n",
      "Epoch 202/500\n",
      "5/5 [==============================] - 0s 43ms/step - loss: 0.6763 - categorical_accuracy: 0.7556\n",
      "Epoch 203/500\n",
      "5/5 [==============================] - 0s 43ms/step - loss: 0.7435 - categorical_accuracy: 0.7481\n",
      "Epoch 204/500\n",
      "5/5 [==============================] - 0s 42ms/step - loss: 0.5620 - categorical_accuracy: 0.7481\n",
      "Epoch 205/500\n",
      "5/5 [==============================] - 0s 43ms/step - loss: 0.4408 - categorical_accuracy: 0.8296\n",
      "Epoch 206/500\n",
      "5/5 [==============================] - 0s 45ms/step - loss: 0.4480 - categorical_accuracy: 0.8074\n",
      "Epoch 207/500\n",
      "5/5 [==============================] - 0s 42ms/step - loss: 0.4166 - categorical_accuracy: 0.8074\n",
      "Epoch 208/500\n",
      "5/5 [==============================] - 0s 44ms/step - loss: 0.3952 - categorical_accuracy: 0.8667\n",
      "Epoch 209/500\n",
      "5/5 [==============================] - 0s 43ms/step - loss: 0.3658 - categorical_accuracy: 0.8667\n",
      "Epoch 210/500\n",
      "5/5 [==============================] - 0s 48ms/step - loss: 0.3566 - categorical_accuracy: 0.8296\n",
      "Epoch 211/500\n",
      "5/5 [==============================] - 0s 48ms/step - loss: 0.3511 - categorical_accuracy: 0.8667\n",
      "Epoch 212/500\n",
      "5/5 [==============================] - 0s 47ms/step - loss: 0.3185 - categorical_accuracy: 0.8741\n",
      "Epoch 213/500\n",
      "5/5 [==============================] - 0s 44ms/step - loss: 0.3354 - categorical_accuracy: 0.8444\n",
      "Epoch 214/500\n",
      "5/5 [==============================] - 0s 45ms/step - loss: 0.3065 - categorical_accuracy: 0.8815\n",
      "Epoch 215/500\n",
      "5/5 [==============================] - 0s 45ms/step - loss: 0.2851 - categorical_accuracy: 0.8444\n",
      "Epoch 216/500\n",
      "5/5 [==============================] - 0s 44ms/step - loss: 0.4461 - categorical_accuracy: 0.8074\n",
      "Epoch 217/500\n",
      "5/5 [==============================] - 0s 46ms/step - loss: 0.4444 - categorical_accuracy: 0.8148\n",
      "Epoch 218/500\n",
      "5/5 [==============================] - 0s 44ms/step - loss: 0.5342 - categorical_accuracy: 0.8370\n",
      "Epoch 219/500\n",
      "5/5 [==============================] - 0s 44ms/step - loss: 0.3259 - categorical_accuracy: 0.8815\n",
      "Epoch 220/500\n",
      "5/5 [==============================] - 0s 43ms/step - loss: 0.2926 - categorical_accuracy: 0.8963\n",
      "Epoch 221/500\n",
      "5/5 [==============================] - 0s 46ms/step - loss: 0.2844 - categorical_accuracy: 0.8889\n",
      "Epoch 222/500\n",
      "5/5 [==============================] - 0s 44ms/step - loss: 0.2550 - categorical_accuracy: 0.9185\n",
      "Epoch 223/500\n",
      "5/5 [==============================] - 0s 42ms/step - loss: 0.2353 - categorical_accuracy: 0.9333\n",
      "Epoch 224/500\n",
      "5/5 [==============================] - 0s 44ms/step - loss: 0.2454 - categorical_accuracy: 0.8963\n",
      "Epoch 225/500\n",
      "5/5 [==============================] - 0s 44ms/step - loss: 0.2303 - categorical_accuracy: 0.8963\n",
      "Epoch 226/500\n",
      "5/5 [==============================] - 0s 45ms/step - loss: 0.3139 - categorical_accuracy: 0.8519\n",
      "Epoch 227/500\n",
      "5/5 [==============================] - 0s 43ms/step - loss: 0.2667 - categorical_accuracy: 0.9037\n",
      "Epoch 228/500\n",
      "5/5 [==============================] - 0s 46ms/step - loss: 0.2746 - categorical_accuracy: 0.8519\n",
      "Epoch 229/500\n",
      "5/5 [==============================] - 0s 43ms/step - loss: 0.2118 - categorical_accuracy: 0.9185\n",
      "Epoch 230/500\n",
      "5/5 [==============================] - 0s 44ms/step - loss: 0.1893 - categorical_accuracy: 0.9481\n",
      "Epoch 231/500\n",
      "5/5 [==============================] - 0s 44ms/step - loss: 0.2173 - categorical_accuracy: 0.9037\n",
      "Epoch 232/500\n",
      "5/5 [==============================] - 0s 47ms/step - loss: 0.2239 - categorical_accuracy: 0.8889\n",
      "Epoch 233/500\n",
      "5/5 [==============================] - 0s 47ms/step - loss: 0.3182 - categorical_accuracy: 0.8889\n",
      "Epoch 234/500\n",
      "5/5 [==============================] - 0s 44ms/step - loss: 0.5056 - categorical_accuracy: 0.7852\n",
      "Epoch 235/500\n",
      "5/5 [==============================] - 0s 45ms/step - loss: 2.2711 - categorical_accuracy: 0.6815\n",
      "Epoch 236/500\n",
      "5/5 [==============================] - 0s 44ms/step - loss: 2.4477 - categorical_accuracy: 0.2667\n",
      "Epoch 237/500\n",
      "5/5 [==============================] - 0s 42ms/step - loss: 1.0356 - categorical_accuracy: 0.5926\n",
      "Epoch 238/500\n",
      "5/5 [==============================] - 0s 43ms/step - loss: 1.0415 - categorical_accuracy: 0.6296\n",
      "Epoch 239/500\n",
      "5/5 [==============================] - 0s 45ms/step - loss: 1.0224 - categorical_accuracy: 0.5852\n",
      "Epoch 240/500\n",
      "5/5 [==============================] - 0s 43ms/step - loss: 0.9516 - categorical_accuracy: 0.6222\n",
      "Epoch 241/500\n",
      "5/5 [==============================] - 0s 48ms/step - loss: 0.9628 - categorical_accuracy: 0.5704\n",
      "Epoch 242/500\n",
      "5/5 [==============================] - 0s 43ms/step - loss: 0.8084 - categorical_accuracy: 0.6370\n",
      "Epoch 243/500\n",
      "5/5 [==============================] - 0s 43ms/step - loss: 0.7164 - categorical_accuracy: 0.6148\n",
      "Epoch 244/500\n",
      "5/5 [==============================] - 0s 44ms/step - loss: 0.6192 - categorical_accuracy: 0.7481\n",
      "Epoch 245/500\n",
      "5/5 [==============================] - 0s 43ms/step - loss: 0.5772 - categorical_accuracy: 0.7333\n",
      "Epoch 246/500\n",
      "5/5 [==============================] - 0s 42ms/step - loss: 0.5487 - categorical_accuracy: 0.7704\n",
      "Epoch 247/500\n",
      "5/5 [==============================] - 0s 43ms/step - loss: 0.5134 - categorical_accuracy: 0.7704\n",
      "Epoch 248/500\n",
      "5/5 [==============================] - 0s 44ms/step - loss: 0.6317 - categorical_accuracy: 0.7704\n",
      "Epoch 249/500\n",
      "5/5 [==============================] - 0s 43ms/step - loss: 0.5555 - categorical_accuracy: 0.7556\n",
      "Epoch 250/500\n",
      "5/5 [==============================] - 0s 42ms/step - loss: 0.6520 - categorical_accuracy: 0.6741\n",
      "Epoch 251/500\n",
      "5/5 [==============================] - 0s 43ms/step - loss: 0.6113 - categorical_accuracy: 0.7037\n",
      "Epoch 252/500\n",
      "5/5 [==============================] - 0s 44ms/step - loss: 0.5262 - categorical_accuracy: 0.7556\n",
      "Epoch 253/500\n",
      "5/5 [==============================] - 0s 43ms/step - loss: 0.5080 - categorical_accuracy: 0.8148\n",
      "Epoch 254/500\n",
      "5/5 [==============================] - 0s 46ms/step - loss: 0.4404 - categorical_accuracy: 0.7704\n",
      "Epoch 255/500\n",
      "5/5 [==============================] - 0s 49ms/step - loss: 0.4528 - categorical_accuracy: 0.8000\n",
      "Epoch 256/500\n",
      "5/5 [==============================] - 0s 45ms/step - loss: 0.4260 - categorical_accuracy: 0.8148\n",
      "Epoch 257/500\n",
      "5/5 [==============================] - 0s 43ms/step - loss: 0.4050 - categorical_accuracy: 0.8444\n",
      "Epoch 258/500\n",
      "5/5 [==============================] - 0s 43ms/step - loss: 0.3636 - categorical_accuracy: 0.8667\n",
      "Epoch 259/500\n",
      "5/5 [==============================] - 0s 42ms/step - loss: 0.3589 - categorical_accuracy: 0.8296\n",
      "Epoch 260/500\n",
      "5/5 [==============================] - 0s 43ms/step - loss: 0.3358 - categorical_accuracy: 0.8370\n",
      "Epoch 261/500\n",
      "5/5 [==============================] - 0s 43ms/step - loss: 0.4156 - categorical_accuracy: 0.7852\n",
      "Epoch 262/500\n",
      "5/5 [==============================] - 0s 42ms/step - loss: 0.3118 - categorical_accuracy: 0.8519\n",
      "Epoch 263/500\n",
      "5/5 [==============================] - 0s 42ms/step - loss: 0.3479 - categorical_accuracy: 0.8667\n",
      "Epoch 264/500\n",
      "5/5 [==============================] - 0s 45ms/step - loss: 0.3477 - categorical_accuracy: 0.8593\n",
      "Epoch 265/500\n",
      "5/5 [==============================] - 0s 42ms/step - loss: 0.3660 - categorical_accuracy: 0.8667\n",
      "Epoch 266/500\n",
      "5/5 [==============================] - 0s 44ms/step - loss: 0.4109 - categorical_accuracy: 0.8222\n",
      "Epoch 267/500\n",
      "5/5 [==============================] - 0s 43ms/step - loss: 0.3620 - categorical_accuracy: 0.8370\n",
      "Epoch 268/500\n",
      "5/5 [==============================] - 0s 43ms/step - loss: 0.3091 - categorical_accuracy: 0.8667\n",
      "Epoch 269/500\n",
      "5/5 [==============================] - 0s 44ms/step - loss: 0.3224 - categorical_accuracy: 0.8593\n",
      "Epoch 270/500\n",
      "5/5 [==============================] - 0s 43ms/step - loss: 0.2862 - categorical_accuracy: 0.8593\n",
      "Epoch 271/500\n",
      "5/5 [==============================] - 0s 45ms/step - loss: 0.2510 - categorical_accuracy: 0.8815\n",
      "Epoch 272/500\n",
      "5/5 [==============================] - 0s 43ms/step - loss: 0.2261 - categorical_accuracy: 0.8889\n",
      "Epoch 273/500\n",
      "5/5 [==============================] - 0s 43ms/step - loss: 0.2602 - categorical_accuracy: 0.8815\n",
      "Epoch 274/500\n",
      "5/5 [==============================] - 0s 44ms/step - loss: 0.2777 - categorical_accuracy: 0.8519\n",
      "Epoch 275/500\n",
      "5/5 [==============================] - 0s 44ms/step - loss: 0.2929 - categorical_accuracy: 0.8593\n",
      "Epoch 276/500\n",
      "5/5 [==============================] - 0s 45ms/step - loss: 0.2518 - categorical_accuracy: 0.8815\n",
      "Epoch 277/500\n",
      "5/5 [==============================] - 0s 47ms/step - loss: 0.2382 - categorical_accuracy: 0.8889\n",
      "Epoch 278/500\n",
      "5/5 [==============================] - 0s 43ms/step - loss: 0.2353 - categorical_accuracy: 0.8889\n",
      "Epoch 279/500\n",
      "5/5 [==============================] - 0s 43ms/step - loss: 0.2214 - categorical_accuracy: 0.9037\n",
      "Epoch 280/500\n",
      "5/5 [==============================] - 0s 45ms/step - loss: 0.2247 - categorical_accuracy: 0.8741\n",
      "Epoch 281/500\n",
      "5/5 [==============================] - 0s 44ms/step - loss: 0.2085 - categorical_accuracy: 0.9037\n",
      "Epoch 282/500\n",
      "5/5 [==============================] - 0s 45ms/step - loss: 0.3826 - categorical_accuracy: 0.8370\n",
      "Epoch 283/500\n",
      "5/5 [==============================] - 0s 48ms/step - loss: 0.2701 - categorical_accuracy: 0.8889\n",
      "Epoch 284/500\n",
      "5/5 [==============================] - 0s 47ms/step - loss: 0.2050 - categorical_accuracy: 0.8889\n",
      "Epoch 285/500\n",
      "5/5 [==============================] - 0s 44ms/step - loss: 0.2553 - categorical_accuracy: 0.8667\n",
      "Epoch 286/500\n",
      "5/5 [==============================] - 0s 42ms/step - loss: 0.2112 - categorical_accuracy: 0.9111\n",
      "Epoch 287/500\n",
      "5/5 [==============================] - 0s 43ms/step - loss: 0.1868 - categorical_accuracy: 0.9111\n",
      "Epoch 288/500\n",
      "5/5 [==============================] - 0s 44ms/step - loss: 0.2103 - categorical_accuracy: 0.9111\n",
      "Epoch 289/500\n",
      "5/5 [==============================] - 0s 44ms/step - loss: 0.3155 - categorical_accuracy: 0.8815\n",
      "Epoch 290/500\n",
      "5/5 [==============================] - 0s 45ms/step - loss: 0.4122 - categorical_accuracy: 0.8148\n",
      "Epoch 291/500\n",
      "5/5 [==============================] - 0s 44ms/step - loss: 0.3563 - categorical_accuracy: 0.8444\n",
      "Epoch 292/500\n",
      "5/5 [==============================] - 0s 44ms/step - loss: 0.2946 - categorical_accuracy: 0.8889\n",
      "Epoch 293/500\n"
     ]
    },
    {
     "name": "stdout",
     "output_type": "stream",
     "text": [
      "5/5 [==============================] - 0s 43ms/step - loss: 0.2526 - categorical_accuracy: 0.9111\n",
      "Epoch 294/500\n",
      "5/5 [==============================] - 0s 43ms/step - loss: 0.2151 - categorical_accuracy: 0.8963\n",
      "Epoch 295/500\n",
      "5/5 [==============================] - 0s 43ms/step - loss: 0.2016 - categorical_accuracy: 0.9259\n",
      "Epoch 296/500\n",
      "5/5 [==============================] - 0s 42ms/step - loss: 0.1779 - categorical_accuracy: 0.9185\n",
      "Epoch 297/500\n",
      "5/5 [==============================] - 0s 41ms/step - loss: 0.2021 - categorical_accuracy: 0.9259\n",
      "Epoch 298/500\n",
      "5/5 [==============================] - 0s 44ms/step - loss: 0.1778 - categorical_accuracy: 0.9185\n",
      "Epoch 299/500\n",
      "5/5 [==============================] - 0s 49ms/step - loss: 0.1780 - categorical_accuracy: 0.8963\n",
      "Epoch 300/500\n",
      "5/5 [==============================] - 0s 45ms/step - loss: 0.3058 - categorical_accuracy: 0.8667\n",
      "Epoch 301/500\n",
      "5/5 [==============================] - 0s 43ms/step - loss: 0.2316 - categorical_accuracy: 0.9037\n",
      "Epoch 302/500\n",
      "5/5 [==============================] - 0s 42ms/step - loss: 0.2009 - categorical_accuracy: 0.9185\n",
      "Epoch 303/500\n",
      "5/5 [==============================] - 0s 42ms/step - loss: 0.1933 - categorical_accuracy: 0.9185\n",
      "Epoch 304/500\n",
      "5/5 [==============================] - 0s 44ms/step - loss: 0.1874 - categorical_accuracy: 0.9259\n",
      "Epoch 305/500\n",
      "5/5 [==============================] - 0s 44ms/step - loss: 0.2538 - categorical_accuracy: 0.8741\n",
      "Epoch 306/500\n",
      "5/5 [==============================] - 0s 44ms/step - loss: 0.4214 - categorical_accuracy: 0.8815\n",
      "Epoch 307/500\n",
      "5/5 [==============================] - 0s 44ms/step - loss: 0.7199 - categorical_accuracy: 0.7556\n",
      "Epoch 308/500\n",
      "5/5 [==============================] - 0s 43ms/step - loss: 0.4302 - categorical_accuracy: 0.8519\n",
      "Epoch 309/500\n",
      "5/5 [==============================] - 0s 43ms/step - loss: 0.3169 - categorical_accuracy: 0.8815\n",
      "Epoch 310/500\n",
      "5/5 [==============================] - 0s 44ms/step - loss: 0.2983 - categorical_accuracy: 0.8815\n",
      "Epoch 311/500\n",
      "5/5 [==============================] - 0s 44ms/step - loss: 0.2899 - categorical_accuracy: 0.8889\n",
      "Epoch 312/500\n",
      "5/5 [==============================] - 0s 43ms/step - loss: 0.2756 - categorical_accuracy: 0.8741\n",
      "Epoch 313/500\n",
      "5/5 [==============================] - 0s 44ms/step - loss: 0.2853 - categorical_accuracy: 0.8815\n",
      "Epoch 314/500\n",
      "5/5 [==============================] - 0s 43ms/step - loss: 0.2183 - categorical_accuracy: 0.9333\n",
      "Epoch 315/500\n",
      "5/5 [==============================] - 0s 45ms/step - loss: 0.2236 - categorical_accuracy: 0.9037\n",
      "Epoch 316/500\n",
      "5/5 [==============================] - 0s 45ms/step - loss: 0.1777 - categorical_accuracy: 0.9185\n",
      "Epoch 317/500\n",
      "5/5 [==============================] - 0s 45ms/step - loss: 0.1818 - categorical_accuracy: 0.9333\n",
      "Epoch 318/500\n",
      "5/5 [==============================] - 0s 46ms/step - loss: 0.3060 - categorical_accuracy: 0.8741\n",
      "Epoch 319/500\n",
      "5/5 [==============================] - 0s 44ms/step - loss: 0.5179 - categorical_accuracy: 0.8593\n",
      "Epoch 320/500\n",
      "5/5 [==============================] - 0s 47ms/step - loss: 0.3111 - categorical_accuracy: 0.9185\n",
      "Epoch 321/500\n",
      "5/5 [==============================] - 0s 49ms/step - loss: 0.2461 - categorical_accuracy: 0.9111\n",
      "Epoch 322/500\n",
      "5/5 [==============================] - 0s 48ms/step - loss: 0.2264 - categorical_accuracy: 0.9407\n",
      "Epoch 323/500\n",
      "5/5 [==============================] - 0s 45ms/step - loss: 0.2064 - categorical_accuracy: 0.9111\n",
      "Epoch 324/500\n",
      "5/5 [==============================] - 0s 44ms/step - loss: 0.2461 - categorical_accuracy: 0.9407\n",
      "Epoch 325/500\n",
      "5/5 [==============================] - 0s 46ms/step - loss: 0.2930 - categorical_accuracy: 0.9037\n",
      "Epoch 326/500\n",
      "5/5 [==============================] - 0s 47ms/step - loss: 0.2572 - categorical_accuracy: 0.9037\n",
      "Epoch 327/500\n",
      "5/5 [==============================] - 0s 45ms/step - loss: 0.2984 - categorical_accuracy: 0.8741\n",
      "Epoch 328/500\n",
      "5/5 [==============================] - 0s 47ms/step - loss: 0.2943 - categorical_accuracy: 0.8889\n",
      "Epoch 329/500\n",
      "5/5 [==============================] - 0s 47ms/step - loss: 0.2831 - categorical_accuracy: 0.8593\n",
      "Epoch 330/500\n",
      "5/5 [==============================] - 0s 44ms/step - loss: 0.2281 - categorical_accuracy: 0.9259\n",
      "Epoch 331/500\n",
      "5/5 [==============================] - 0s 44ms/step - loss: 0.1900 - categorical_accuracy: 0.9333\n",
      "Epoch 332/500\n",
      "5/5 [==============================] - 0s 44ms/step - loss: 0.1855 - categorical_accuracy: 0.9259\n",
      "Epoch 333/500\n",
      "5/5 [==============================] - 0s 45ms/step - loss: 0.2033 - categorical_accuracy: 0.9111\n",
      "Epoch 334/500\n",
      "5/5 [==============================] - 0s 44ms/step - loss: 0.1509 - categorical_accuracy: 0.9481\n",
      "Epoch 335/500\n",
      "5/5 [==============================] - 0s 44ms/step - loss: 0.1563 - categorical_accuracy: 0.9185\n",
      "Epoch 336/500\n",
      "5/5 [==============================] - 0s 43ms/step - loss: 0.2287 - categorical_accuracy: 0.9111\n",
      "Epoch 337/500\n",
      "5/5 [==============================] - 0s 42ms/step - loss: 0.2381 - categorical_accuracy: 0.8741\n",
      "Epoch 338/500\n",
      "5/5 [==============================] - 0s 44ms/step - loss: 0.1813 - categorical_accuracy: 0.9185\n",
      "Epoch 339/500\n",
      "5/5 [==============================] - 0s 46ms/step - loss: 0.2050 - categorical_accuracy: 0.8889\n",
      "Epoch 340/500\n",
      "5/5 [==============================] - 0s 47ms/step - loss: 0.1327 - categorical_accuracy: 0.9556\n",
      "Epoch 341/500\n",
      "5/5 [==============================] - 0s 44ms/step - loss: 0.1345 - categorical_accuracy: 0.9333\n",
      "Epoch 342/500\n",
      "5/5 [==============================] - 0s 46ms/step - loss: 0.1236 - categorical_accuracy: 0.9407\n",
      "Epoch 343/500\n",
      "5/5 [==============================] - 0s 46ms/step - loss: 0.1874 - categorical_accuracy: 0.9185\n",
      "Epoch 344/500\n",
      "5/5 [==============================] - 0s 42ms/step - loss: 0.2681 - categorical_accuracy: 0.9259\n",
      "Epoch 345/500\n",
      "5/5 [==============================] - 0s 42ms/step - loss: 0.1899 - categorical_accuracy: 0.9259\n",
      "Epoch 346/500\n",
      "5/5 [==============================] - 0s 42ms/step - loss: 0.2056 - categorical_accuracy: 0.9407\n",
      "Epoch 347/500\n",
      "5/5 [==============================] - 0s 43ms/step - loss: 0.2722 - categorical_accuracy: 0.8963\n",
      "Epoch 348/500\n",
      "5/5 [==============================] - 0s 43ms/step - loss: 0.1986 - categorical_accuracy: 0.9481\n",
      "Epoch 349/500\n",
      "5/5 [==============================] - 0s 43ms/step - loss: 0.1634 - categorical_accuracy: 0.9259\n",
      "Epoch 350/500\n",
      "5/5 [==============================] - 0s 43ms/step - loss: 0.1311 - categorical_accuracy: 0.9630\n",
      "Epoch 351/500\n",
      "5/5 [==============================] - 0s 43ms/step - loss: 0.1244 - categorical_accuracy: 0.9481\n",
      "Epoch 352/500\n",
      "5/5 [==============================] - 0s 43ms/step - loss: 0.1175 - categorical_accuracy: 0.9481\n",
      "Epoch 353/500\n",
      "5/5 [==============================] - 0s 43ms/step - loss: 0.0845 - categorical_accuracy: 0.9778\n",
      "Epoch 354/500\n",
      "5/5 [==============================] - 0s 42ms/step - loss: 0.1239 - categorical_accuracy: 0.9630\n",
      "Epoch 355/500\n",
      "5/5 [==============================] - 0s 44ms/step - loss: 0.3354 - categorical_accuracy: 0.8741\n",
      "Epoch 356/500\n",
      "5/5 [==============================] - 0s 42ms/step - loss: 0.3373 - categorical_accuracy: 0.8815\n",
      "Epoch 357/500\n",
      "5/5 [==============================] - 0s 44ms/step - loss: 0.2905 - categorical_accuracy: 0.9111\n",
      "Epoch 358/500\n",
      "5/5 [==============================] - 0s 44ms/step - loss: 0.2200 - categorical_accuracy: 0.9111\n",
      "Epoch 359/500\n",
      "5/5 [==============================] - 0s 43ms/step - loss: 0.2222 - categorical_accuracy: 0.9333\n",
      "Epoch 360/500\n",
      "5/5 [==============================] - 0s 44ms/step - loss: 0.2329 - categorical_accuracy: 0.9111\n",
      "Epoch 361/500\n",
      "5/5 [==============================] - 0s 44ms/step - loss: 0.1811 - categorical_accuracy: 0.9407\n",
      "Epoch 362/500\n",
      "5/5 [==============================] - 0s 44ms/step - loss: 0.1107 - categorical_accuracy: 0.9778\n",
      "Epoch 363/500\n",
      "5/5 [==============================] - 0s 45ms/step - loss: 0.1948 - categorical_accuracy: 0.9037\n",
      "Epoch 364/500\n",
      "5/5 [==============================] - 0s 45ms/step - loss: 0.1366 - categorical_accuracy: 0.9630\n",
      "Epoch 365/500\n",
      "5/5 [==============================] - 0s 49ms/step - loss: 0.1018 - categorical_accuracy: 0.9630\n",
      "Epoch 366/500\n",
      "5/5 [==============================] - 0s 49ms/step - loss: 0.0801 - categorical_accuracy: 0.9704\n",
      "Epoch 367/500\n",
      "5/5 [==============================] - 0s 47ms/step - loss: 0.0625 - categorical_accuracy: 0.9778\n",
      "Epoch 368/500\n",
      "5/5 [==============================] - 0s 43ms/step - loss: 0.0607 - categorical_accuracy: 0.9704\n",
      "Epoch 369/500\n",
      "5/5 [==============================] - 0s 44ms/step - loss: 0.1575 - categorical_accuracy: 0.9481\n",
      "Epoch 370/500\n",
      "5/5 [==============================] - 0s 44ms/step - loss: 0.2111 - categorical_accuracy: 0.9259\n",
      "Epoch 371/500\n",
      "5/5 [==============================] - 0s 45ms/step - loss: 0.2616 - categorical_accuracy: 0.8889\n",
      "Epoch 372/500\n",
      "5/5 [==============================] - 0s 45ms/step - loss: 0.1870 - categorical_accuracy: 0.9185\n",
      "Epoch 373/500\n",
      "5/5 [==============================] - 0s 44ms/step - loss: 0.1928 - categorical_accuracy: 0.9333\n",
      "Epoch 374/500\n",
      "5/5 [==============================] - 0s 45ms/step - loss: 0.1431 - categorical_accuracy: 0.9333\n",
      "Epoch 375/500\n",
      "5/5 [==============================] - 0s 44ms/step - loss: 0.1712 - categorical_accuracy: 0.9407\n",
      "Epoch 376/500\n",
      "5/5 [==============================] - 0s 45ms/step - loss: 0.3353 - categorical_accuracy: 0.8444\n",
      "Epoch 377/500\n",
      "5/5 [==============================] - 0s 44ms/step - loss: 0.2686 - categorical_accuracy: 0.9185\n",
      "Epoch 378/500\n",
      "5/5 [==============================] - 0s 44ms/step - loss: 0.4316 - categorical_accuracy: 0.8222\n",
      "Epoch 379/500\n",
      "5/5 [==============================] - 0s 43ms/step - loss: 0.3113 - categorical_accuracy: 0.8519\n",
      "Epoch 380/500\n",
      "5/5 [==============================] - 0s 43ms/step - loss: 0.1718 - categorical_accuracy: 0.9481\n",
      "Epoch 381/500\n",
      "5/5 [==============================] - 0s 43ms/step - loss: 0.1193 - categorical_accuracy: 0.9704\n",
      "Epoch 382/500\n",
      "5/5 [==============================] - 0s 42ms/step - loss: 0.1253 - categorical_accuracy: 0.9407\n",
      "Epoch 383/500\n",
      "5/5 [==============================] - 0s 43ms/step - loss: 0.1339 - categorical_accuracy: 0.9556\n",
      "Epoch 384/500\n",
      "5/5 [==============================] - 0s 43ms/step - loss: 0.1085 - categorical_accuracy: 0.9778\n",
      "Epoch 385/500\n",
      "5/5 [==============================] - 0s 44ms/step - loss: 0.1202 - categorical_accuracy: 0.9556\n",
      "Epoch 386/500\n",
      "5/5 [==============================] - 0s 46ms/step - loss: 0.1202 - categorical_accuracy: 0.9407\n",
      "Epoch 387/500\n",
      "5/5 [==============================] - 0s 48ms/step - loss: 0.1976 - categorical_accuracy: 0.9259\n",
      "Epoch 388/500\n",
      "5/5 [==============================] - 0s 44ms/step - loss: 0.2260 - categorical_accuracy: 0.8963\n",
      "Epoch 389/500\n",
      "5/5 [==============================] - 0s 44ms/step - loss: 0.2707 - categorical_accuracy: 0.9259\n",
      "Epoch 390/500\n",
      "5/5 [==============================] - 0s 43ms/step - loss: 0.1740 - categorical_accuracy: 0.9407\n",
      "Epoch 391/500\n",
      "5/5 [==============================] - 0s 44ms/step - loss: 0.1202 - categorical_accuracy: 0.9778\n",
      "Epoch 392/500\n",
      "5/5 [==============================] - 0s 43ms/step - loss: 0.1064 - categorical_accuracy: 0.9630\n",
      "Epoch 393/500\n",
      "5/5 [==============================] - 0s 43ms/step - loss: 0.0875 - categorical_accuracy: 0.9778\n",
      "Epoch 394/500\n",
      "5/5 [==============================] - 0s 44ms/step - loss: 0.0743 - categorical_accuracy: 0.9852\n",
      "Epoch 395/500\n",
      "5/5 [==============================] - 0s 44ms/step - loss: 0.0656 - categorical_accuracy: 0.9926\n",
      "Epoch 396/500\n",
      "5/5 [==============================] - 0s 44ms/step - loss: 0.0515 - categorical_accuracy: 0.9852\n",
      "Epoch 397/500\n",
      "5/5 [==============================] - 0s 44ms/step - loss: 0.0575 - categorical_accuracy: 0.9852\n",
      "Epoch 398/500\n",
      "5/5 [==============================] - 0s 44ms/step - loss: 0.0349 - categorical_accuracy: 0.9852\n",
      "Epoch 399/500\n",
      "5/5 [==============================] - 0s 43ms/step - loss: 0.0171 - categorical_accuracy: 1.0000\n",
      "Epoch 400/500\n",
      "5/5 [==============================] - 0s 44ms/step - loss: 0.0186 - categorical_accuracy: 1.0000\n",
      "Epoch 401/500\n",
      "5/5 [==============================] - 0s 43ms/step - loss: 0.0165 - categorical_accuracy: 1.0000\n",
      "Epoch 402/500\n",
      "5/5 [==============================] - 0s 44ms/step - loss: 0.0201 - categorical_accuracy: 1.0000\n",
      "Epoch 403/500\n",
      "5/5 [==============================] - 0s 42ms/step - loss: 0.0327 - categorical_accuracy: 0.9852\n",
      "Epoch 404/500\n",
      "5/5 [==============================] - 0s 43ms/step - loss: 0.0650 - categorical_accuracy: 0.9630\n",
      "Epoch 405/500\n",
      "5/5 [==============================] - 0s 43ms/step - loss: 0.0840 - categorical_accuracy: 0.9630\n",
      "Epoch 406/500\n",
      "5/5 [==============================] - 0s 43ms/step - loss: 0.0522 - categorical_accuracy: 0.9704\n",
      "Epoch 407/500\n",
      "5/5 [==============================] - 0s 45ms/step - loss: 0.1301 - categorical_accuracy: 0.9704\n",
      "Epoch 408/500\n",
      "5/5 [==============================] - 0s 42ms/step - loss: 0.0716 - categorical_accuracy: 0.9852\n",
      "Epoch 409/500\n",
      "5/5 [==============================] - 0s 46ms/step - loss: 0.2186 - categorical_accuracy: 0.9185\n",
      "Epoch 410/500\n",
      "5/5 [==============================] - 0s 45ms/step - loss: 0.6046 - categorical_accuracy: 0.8000\n",
      "Epoch 411/500\n",
      "5/5 [==============================] - 0s 44ms/step - loss: 0.3373 - categorical_accuracy: 0.8815\n",
      "Epoch 412/500\n",
      "5/5 [==============================] - 0s 45ms/step - loss: 0.2290 - categorical_accuracy: 0.9037\n",
      "Epoch 413/500\n",
      "5/5 [==============================] - 0s 43ms/step - loss: 0.2513 - categorical_accuracy: 0.8815\n",
      "Epoch 414/500\n",
      "5/5 [==============================] - 0s 44ms/step - loss: 0.2902 - categorical_accuracy: 0.8667\n",
      "Epoch 415/500\n",
      "5/5 [==============================] - 0s 44ms/step - loss: 0.2169 - categorical_accuracy: 0.9185\n",
      "Epoch 416/500\n",
      "5/5 [==============================] - 0s 43ms/step - loss: 0.2085 - categorical_accuracy: 0.9111\n",
      "Epoch 417/500\n",
      "5/5 [==============================] - 0s 45ms/step - loss: 0.1772 - categorical_accuracy: 0.9259\n",
      "Epoch 418/500\n",
      "5/5 [==============================] - 0s 44ms/step - loss: 0.1758 - categorical_accuracy: 0.9259\n",
      "Epoch 419/500\n",
      "5/5 [==============================] - 0s 44ms/step - loss: 0.1461 - categorical_accuracy: 0.9481\n",
      "Epoch 420/500\n",
      "5/5 [==============================] - 0s 43ms/step - loss: 0.1322 - categorical_accuracy: 0.9556\n",
      "Epoch 421/500\n",
      "5/5 [==============================] - 0s 43ms/step - loss: 0.1584 - categorical_accuracy: 0.9556\n",
      "Epoch 422/500\n",
      "5/5 [==============================] - 0s 43ms/step - loss: 0.1331 - categorical_accuracy: 0.9630\n",
      "Epoch 423/500\n",
      "5/5 [==============================] - 0s 44ms/step - loss: 0.1901 - categorical_accuracy: 0.9259\n",
      "Epoch 424/500\n",
      "5/5 [==============================] - 0s 43ms/step - loss: 0.1953 - categorical_accuracy: 0.9259\n",
      "Epoch 425/500\n",
      "5/5 [==============================] - 0s 44ms/step - loss: 0.2573 - categorical_accuracy: 0.9111\n",
      "Epoch 426/500\n",
      "5/5 [==============================] - 0s 43ms/step - loss: 0.2737 - categorical_accuracy: 0.8963\n",
      "Epoch 427/500\n",
      "5/5 [==============================] - 0s 43ms/step - loss: 0.2142 - categorical_accuracy: 0.9185\n",
      "Epoch 428/500\n",
      "5/5 [==============================] - 0s 43ms/step - loss: 0.2002 - categorical_accuracy: 0.9333\n",
      "Epoch 429/500\n",
      "5/5 [==============================] - 0s 42ms/step - loss: 0.1158 - categorical_accuracy: 0.9556\n",
      "Epoch 430/500\n",
      "5/5 [==============================] - 0s 43ms/step - loss: 0.1361 - categorical_accuracy: 0.9481\n",
      "Epoch 431/500\n",
      "5/5 [==============================] - 0s 45ms/step - loss: 0.1406 - categorical_accuracy: 0.9407\n",
      "Epoch 432/500\n",
      "5/5 [==============================] - 0s 45ms/step - loss: 0.1042 - categorical_accuracy: 0.9556\n",
      "Epoch 433/500\n",
      "5/5 [==============================] - 0s 41ms/step - loss: 0.0934 - categorical_accuracy: 0.9630\n",
      "Epoch 434/500\n",
      "5/5 [==============================] - 0s 42ms/step - loss: 0.1329 - categorical_accuracy: 0.9481\n",
      "Epoch 435/500\n",
      "5/5 [==============================] - 0s 44ms/step - loss: 0.1303 - categorical_accuracy: 0.9704\n",
      "Epoch 436/500\n",
      "5/5 [==============================] - 0s 43ms/step - loss: 0.0835 - categorical_accuracy: 0.9778\n",
      "Epoch 437/500\n",
      "5/5 [==============================] - 0s 44ms/step - loss: 0.0897 - categorical_accuracy: 0.9704\n",
      "Epoch 438/500\n",
      "5/5 [==============================] - 0s 42ms/step - loss: 0.0837 - categorical_accuracy: 0.9630\n",
      "Epoch 439/500\n"
     ]
    },
    {
     "name": "stdout",
     "output_type": "stream",
     "text": [
      "5/5 [==============================] - 0s 43ms/step - loss: 0.0772 - categorical_accuracy: 0.9704\n",
      "Epoch 440/500\n",
      "5/5 [==============================] - 0s 43ms/step - loss: 0.1096 - categorical_accuracy: 0.9407\n",
      "Epoch 441/500\n",
      "5/5 [==============================] - 0s 48ms/step - loss: 0.0706 - categorical_accuracy: 0.9778\n",
      "Epoch 442/500\n",
      "5/5 [==============================] - 0s 45ms/step - loss: 0.0529 - categorical_accuracy: 0.9778\n",
      "Epoch 443/500\n",
      "5/5 [==============================] - 0s 42ms/step - loss: 0.0930 - categorical_accuracy: 0.9556\n",
      "Epoch 444/500\n",
      "5/5 [==============================] - 0s 47ms/step - loss: 0.1312 - categorical_accuracy: 0.9630\n",
      "Epoch 445/500\n",
      "5/5 [==============================] - 0s 44ms/step - loss: 0.1347 - categorical_accuracy: 0.9259\n",
      "Epoch 446/500\n",
      "5/5 [==============================] - 0s 45ms/step - loss: 0.1106 - categorical_accuracy: 0.9630\n",
      "Epoch 447/500\n",
      "5/5 [==============================] - 0s 43ms/step - loss: 0.1646 - categorical_accuracy: 0.9481\n",
      "Epoch 448/500\n",
      "5/5 [==============================] - 0s 43ms/step - loss: 0.0815 - categorical_accuracy: 0.9630\n",
      "Epoch 449/500\n",
      "5/5 [==============================] - 0s 43ms/step - loss: 0.0731 - categorical_accuracy: 0.9704\n",
      "Epoch 450/500\n",
      "5/5 [==============================] - 0s 44ms/step - loss: 0.0647 - categorical_accuracy: 0.9778\n",
      "Epoch 451/500\n",
      "5/5 [==============================] - 0s 44ms/step - loss: 0.0550 - categorical_accuracy: 0.9778\n",
      "Epoch 452/500\n",
      "5/5 [==============================] - 0s 44ms/step - loss: 0.0516 - categorical_accuracy: 0.9852\n",
      "Epoch 453/500\n",
      "5/5 [==============================] - 0s 43ms/step - loss: 0.0481 - categorical_accuracy: 0.9852\n",
      "Epoch 454/500\n",
      "5/5 [==============================] - 0s 43ms/step - loss: 0.0504 - categorical_accuracy: 0.9778\n",
      "Epoch 455/500\n",
      "5/5 [==============================] - 0s 41ms/step - loss: 0.0571 - categorical_accuracy: 0.9778\n",
      "Epoch 456/500\n",
      "5/5 [==============================] - 0s 45ms/step - loss: 0.0397 - categorical_accuracy: 0.9704\n",
      "Epoch 457/500\n",
      "5/5 [==============================] - 0s 47ms/step - loss: 0.0327 - categorical_accuracy: 0.9778\n",
      "Epoch 458/500\n",
      "5/5 [==============================] - 0s 44ms/step - loss: 0.0385 - categorical_accuracy: 0.9852\n",
      "Epoch 459/500\n",
      "5/5 [==============================] - 0s 47ms/step - loss: 0.0323 - categorical_accuracy: 0.9852\n",
      "Epoch 460/500\n",
      "5/5 [==============================] - 0s 44ms/step - loss: 0.0381 - categorical_accuracy: 0.9778\n",
      "Epoch 461/500\n",
      "5/5 [==============================] - 0s 43ms/step - loss: 0.0398 - categorical_accuracy: 0.9926\n",
      "Epoch 462/500\n",
      "5/5 [==============================] - 0s 46ms/step - loss: 0.0430 - categorical_accuracy: 0.9852\n",
      "Epoch 463/500\n",
      "5/5 [==============================] - 0s 45ms/step - loss: 0.0448 - categorical_accuracy: 0.9852\n",
      "Epoch 464/500\n",
      "5/5 [==============================] - 0s 46ms/step - loss: 0.1768 - categorical_accuracy: 0.9556\n",
      "Epoch 465/500\n",
      "5/5 [==============================] - 0s 44ms/step - loss: 0.1237 - categorical_accuracy: 0.9556\n",
      "Epoch 466/500\n",
      "5/5 [==============================] - 0s 45ms/step - loss: 0.2358 - categorical_accuracy: 0.9259\n",
      "Epoch 467/500\n",
      "5/5 [==============================] - 0s 44ms/step - loss: 0.3662 - categorical_accuracy: 0.8963\n",
      "Epoch 468/500\n",
      "5/5 [==============================] - 0s 44ms/step - loss: 0.2179 - categorical_accuracy: 0.9185\n",
      "Epoch 469/500\n",
      "5/5 [==============================] - 0s 44ms/step - loss: 0.4259 - categorical_accuracy: 0.8593\n",
      "Epoch 470/500\n",
      "5/5 [==============================] - 0s 44ms/step - loss: 0.1569 - categorical_accuracy: 0.9407\n",
      "Epoch 471/500\n",
      "5/5 [==============================] - 0s 42ms/step - loss: 0.8548 - categorical_accuracy: 0.7037\n",
      "Epoch 472/500\n",
      "5/5 [==============================] - 0s 43ms/step - loss: 0.4509 - categorical_accuracy: 0.8148\n",
      "Epoch 473/500\n",
      "5/5 [==============================] - 0s 43ms/step - loss: 0.3354 - categorical_accuracy: 0.8444\n",
      "Epoch 474/500\n",
      "5/5 [==============================] - 0s 43ms/step - loss: 0.3061 - categorical_accuracy: 0.9037\n",
      "Epoch 475/500\n",
      "5/5 [==============================] - 0s 44ms/step - loss: 0.2146 - categorical_accuracy: 0.9407\n",
      "Epoch 476/500\n",
      "5/5 [==============================] - 0s 48ms/step - loss: 0.2783 - categorical_accuracy: 0.8741\n",
      "Epoch 477/500\n",
      "5/5 [==============================] - 0s 44ms/step - loss: 0.2063 - categorical_accuracy: 0.9333\n",
      "Epoch 478/500\n",
      "5/5 [==============================] - 0s 46ms/step - loss: 0.1657 - categorical_accuracy: 0.9630\n",
      "Epoch 479/500\n",
      "5/5 [==============================] - 0s 47ms/step - loss: 0.1263 - categorical_accuracy: 0.9852\n",
      "Epoch 480/500\n",
      "5/5 [==============================] - 0s 44ms/step - loss: 0.0995 - categorical_accuracy: 0.9778\n",
      "Epoch 481/500\n",
      "5/5 [==============================] - 0s 47ms/step - loss: 0.0873 - categorical_accuracy: 0.9778\n",
      "Epoch 482/500\n",
      "5/5 [==============================] - 0s 46ms/step - loss: 0.0801 - categorical_accuracy: 0.9778\n",
      "Epoch 483/500\n",
      "5/5 [==============================] - 0s 47ms/step - loss: 0.0685 - categorical_accuracy: 0.9704\n",
      "Epoch 484/500\n",
      "5/5 [==============================] - 0s 46ms/step - loss: 0.0719 - categorical_accuracy: 0.9704\n",
      "Epoch 485/500\n",
      "5/5 [==============================] - 0s 55ms/step - loss: 0.1227 - categorical_accuracy: 0.9481\n",
      "Epoch 486/500\n",
      "5/5 [==============================] - 0s 48ms/step - loss: 0.0861 - categorical_accuracy: 0.9630\n",
      "Epoch 487/500\n",
      "5/5 [==============================] - 0s 46ms/step - loss: 0.1534 - categorical_accuracy: 0.9481\n",
      "Epoch 488/500\n",
      "5/5 [==============================] - 0s 44ms/step - loss: 0.0587 - categorical_accuracy: 0.9926\n",
      "Epoch 489/500\n",
      "5/5 [==============================] - 0s 48ms/step - loss: 0.0912 - categorical_accuracy: 0.9704\n",
      "Epoch 490/500\n",
      "5/5 [==============================] - 0s 46ms/step - loss: 0.0649 - categorical_accuracy: 0.9778\n",
      "Epoch 491/500\n",
      "5/5 [==============================] - 0s 46ms/step - loss: 0.0632 - categorical_accuracy: 0.9778\n",
      "Epoch 492/500\n",
      "5/5 [==============================] - 0s 46ms/step - loss: 0.0460 - categorical_accuracy: 0.9852\n",
      "Epoch 493/500\n",
      "5/5 [==============================] - 0s 46ms/step - loss: 0.0469 - categorical_accuracy: 0.9852\n",
      "Epoch 494/500\n",
      "5/5 [==============================] - 0s 49ms/step - loss: 0.0440 - categorical_accuracy: 0.9778\n",
      "Epoch 495/500\n",
      "5/5 [==============================] - 0s 48ms/step - loss: 0.0409 - categorical_accuracy: 0.9778\n",
      "Epoch 496/500\n",
      "5/5 [==============================] - 0s 52ms/step - loss: 0.0388 - categorical_accuracy: 0.9778\n",
      "Epoch 497/500\n",
      "5/5 [==============================] - 0s 51ms/step - loss: 0.0318 - categorical_accuracy: 0.9852\n",
      "Epoch 498/500\n",
      "5/5 [==============================] - 0s 45ms/step - loss: 0.0376 - categorical_accuracy: 0.9852\n",
      "Epoch 499/500\n",
      "5/5 [==============================] - 0s 46ms/step - loss: 0.0300 - categorical_accuracy: 0.9852\n",
      "Epoch 500/500\n",
      "5/5 [==============================] - 0s 47ms/step - loss: 0.0288 - categorical_accuracy: 0.9926\n"
     ]
    },
    {
     "data": {
      "text/plain": [
       "<keras.callbacks.History at 0x15eb67280>"
      ]
     },
     "execution_count": 60,
     "metadata": {},
     "output_type": "execute_result"
    }
   ],
   "source": [
    "num_epochs = 500\n",
    "model.fit(X_train, y_train, epochs=num_epochs, callbacks=[tb_callback])"
   ]
  },
  {
   "cell_type": "markdown",
   "id": "af6387f3",
   "metadata": {},
   "source": [
    "### view the model summary"
   ]
  },
  {
   "cell_type": "code",
   "execution_count": 52,
   "id": "37eb2017",
   "metadata": {},
   "outputs": [
    {
     "name": "stdout",
     "output_type": "stream",
     "text": [
      "Model: \"sequential_1\"\n",
      "_________________________________________________________________\n",
      " Layer (type)                Output Shape              Param #   \n",
      "=================================================================\n",
      " lstm_3 (LSTM)               (None, 20, 64)            442112    \n",
      "                                                                 \n",
      " lstm_4 (LSTM)               (None, 20, 128)           98816     \n",
      "                                                                 \n",
      " lstm_5 (LSTM)               (None, 64)                49408     \n",
      "                                                                 \n",
      " dense_3 (Dense)             (None, 64)                4160      \n",
      "                                                                 \n",
      " dense_4 (Dense)             (None, 32)                2080      \n",
      "                                                                 \n",
      " dense_5 (Dense)             (None, 5)                 165       \n",
      "                                                                 \n",
      "=================================================================\n",
      "Total params: 596,741\n",
      "Trainable params: 596,741\n",
      "Non-trainable params: 0\n",
      "_________________________________________________________________\n"
     ]
    }
   ],
   "source": [
    "model.summary()"
   ]
  },
  {
   "cell_type": "markdown",
   "id": "12009864",
   "metadata": {},
   "source": [
    "## 8. Make predictions\n",
    "Make __predictions__ on __x_test__ and __compare__ them to the __correct answers__ in __y_test__\n",
    "### run a prediction on some data"
   ]
  },
  {
   "cell_type": "code",
   "execution_count": 40,
   "id": "483242a5",
   "metadata": {},
   "outputs": [
    {
     "name": "stdout",
     "output_type": "stream",
     "text": [
      "1/1 [==============================] - 0s 29ms/step\n"
     ]
    }
   ],
   "source": [
    "# X_test is our test data\n",
    "# y_test is the correct labels for X_test\n",
    "\n",
    "# use the model to predict what our test data is\n",
    "prediction_results = model.predict(X_test)"
   ]
  },
  {
   "cell_type": "markdown",
   "id": "1c89a832",
   "metadata": {},
   "source": [
    "### view the predictions"
   ]
  },
  {
   "cell_type": "code",
   "execution_count": 68,
   "id": "5a1b6d5b",
   "metadata": {},
   "outputs": [
    {
     "name": "stdout",
     "output_type": "stream",
     "text": [
      "thanks\n",
      "neutral\n",
      "thanks\n",
      "thanks\n",
      "iloveyou\n",
      "iloveyou\n",
      "not_hotdog\n",
      "iloveyou\n",
      "hello\n",
      "hello\n",
      "iloveyou\n",
      "thanks\n",
      "neutral\n",
      "neutral\n",
      "not_hotdog\n"
     ]
    }
   ],
   "source": [
    "# view the prediction results\n",
    "for i in range(len(prediction_results)):\n",
    "    print(actions[np.argmax(prediction_results[i])])"
   ]
  },
  {
   "cell_type": "markdown",
   "id": "233a378a",
   "metadata": {},
   "source": [
    "### view the actual labels"
   ]
  },
  {
   "cell_type": "code",
   "execution_count": 30,
   "id": "9fac05ec",
   "metadata": {},
   "outputs": [
    {
     "data": {
      "text/plain": [
       "array([[0, 1, 0, 0, 0],\n",
       "       [0, 0, 0, 1, 0],\n",
       "       [0, 1, 0, 0, 0],\n",
       "       [0, 1, 0, 0, 0],\n",
       "       [0, 0, 1, 0, 0],\n",
       "       [0, 0, 1, 0, 0],\n",
       "       [0, 0, 0, 0, 1],\n",
       "       [0, 0, 1, 0, 0],\n",
       "       [1, 0, 0, 0, 0],\n",
       "       [1, 0, 0, 0, 0],\n",
       "       [0, 0, 1, 0, 0],\n",
       "       [0, 1, 0, 0, 0],\n",
       "       [0, 0, 0, 1, 0],\n",
       "       [0, 0, 0, 1, 0],\n",
       "       [0, 0, 0, 0, 1]])"
      ]
     },
     "execution_count": 30,
     "metadata": {},
     "output_type": "execute_result"
    }
   ],
   "source": [
    "# match our predictions with the actual labels:\n",
    "y_test"
   ]
  },
  {
   "cell_type": "markdown",
   "id": "b757fd5a",
   "metadata": {},
   "source": [
    "### let's remind ourselves of our labels"
   ]
  },
  {
   "cell_type": "code",
   "execution_count": 31,
   "id": "c0804323",
   "metadata": {},
   "outputs": [
    {
     "data": {
      "text/plain": [
       "array(['hello', 'thanks', 'iloveyou', 'neutral', 'not_hotdog'],\n",
       "      dtype='<U10')"
      ]
     },
     "execution_count": 31,
     "metadata": {},
     "output_type": "execute_result"
    }
   ],
   "source": [
    "# remind ourselves of the actions\n",
    "actions"
   ]
  },
  {
   "cell_type": "markdown",
   "id": "62156b15",
   "metadata": {},
   "source": [
    "## 9. Save your model (aka \"weights\")\n",
    "\n",
    "### save to disk\n",
    "\n",
    "* <span style=\"color: red;\">Name your model</span>\n",
    "\n",
    "* <span style=\"color: red;\">Define your file path</span>"
   ]
  },
  {
   "cell_type": "code",
   "execution_count": 95,
   "id": "eb6d4c1b",
   "metadata": {},
   "outputs": [],
   "source": [
    "# save the model I trained\n",
    "model_name = 'model_4'\n",
    "model.save(os.path.join('ASL', '{}.h5'.format(model_name)))"
   ]
  },
  {
   "cell_type": "markdown",
   "id": "e8ad63cc",
   "metadata": {},
   "source": [
    "### delete your model\n",
    "\n",
    "<span style=\"color: red;\">You should do this first before you re-train or load another model</span>"
   ]
  },
  {
   "cell_type": "code",
   "execution_count": 15,
   "id": "8012754d",
   "metadata": {},
   "outputs": [
    {
     "ename": "NameError",
     "evalue": "name 'model' is not defined",
     "output_type": "error",
     "traceback": [
      "\u001b[0;31m---------------------------------------------------------------------------\u001b[0m",
      "\u001b[0;31mNameError\u001b[0m                                 Traceback (most recent call last)",
      "Cell \u001b[0;32mIn [15], line 2\u001b[0m\n\u001b[1;32m      1\u001b[0m \u001b[38;5;66;03m# now I can delete the model\u001b[39;00m\n\u001b[0;32m----> 2\u001b[0m \u001b[38;5;28;01mdel\u001b[39;00m model\n\u001b[1;32m      4\u001b[0m \u001b[38;5;66;03m# check that it was successfully deleted:\u001b[39;00m\n\u001b[1;32m      5\u001b[0m model\n",
      "\u001b[0;31mNameError\u001b[0m: name 'model' is not defined"
     ]
    }
   ],
   "source": [
    "# now I can delete the model\n",
    "del model\n",
    "\n",
    "# check that it was successfully deleted:\n",
    "model"
   ]
  },
  {
   "cell_type": "markdown",
   "id": "d058f0ed",
   "metadata": {},
   "source": [
    "<a id=\"load_model\"></a>\n",
    "### loading a saved model:\n",
    "\n",
    "<span style=\"color: red;\">Make sure to follow these steps in order</span>\n",
    "\n",
    "1. run the [model rebuild](#model_rebuild)\n",
    "2. [compile](#compile) the data\n",
    "3. reload the saved model\n",
    "\n",
    "* <span style=\"color: red;\">Set saved model name</span>\n",
    "\n",
    "* <span style=\"color: red;\">Define the model's file path</span>"
   ]
  },
  {
   "cell_type": "code",
   "execution_count": 27,
   "id": "0aa3e471",
   "metadata": {},
   "outputs": [
    {
     "data": {
      "text/plain": [
       "<keras.engine.sequential.Sequential at 0x1531b40a0>"
      ]
     },
     "execution_count": 27,
     "metadata": {},
     "output_type": "execute_result"
    }
   ],
   "source": [
    "saved_model_name = 'model_4'\n",
    "model.load_weights(os.path.join('ASL', '{}.h5'.format(saved_model_name)))\n",
    "\n",
    "# check that it was successfully loaded:\n",
    "model"
   ]
  },
  {
   "cell_type": "markdown",
   "id": "c12282bb",
   "metadata": {},
   "source": [
    "## 10. Evaluation using confusion matrix and accuracy"
   ]
  },
  {
   "cell_type": "code",
   "execution_count": null,
   "id": "f83cc359",
   "metadata": {},
   "outputs": [],
   "source": [
    "### TBD ###"
   ]
  },
  {
   "cell_type": "markdown",
   "id": "01c7a233",
   "metadata": {},
   "source": [
    "## 11. Test in Real Time\n",
    "\n",
    "<span style=\"color: red;\">Change the VideoCapture number 0, 1, or 2.  0 is usually the built-in camera, 1, 2 are for peripherals.</span>"
   ]
  },
  {
   "cell_type": "code",
   "execution_count": 64,
   "id": "2c5dd38c",
   "metadata": {},
   "outputs": [
    {
     "data": {
      "text/plain": [
       "array([[[ 0.44161165,  0.4515655 , -0.58797657, ...,  0.        ,\n",
       "          0.        ,  0.        ],\n",
       "        [ 0.45950827,  0.45006561, -0.7378093 , ...,  0.        ,\n",
       "          0.        ,  0.        ],\n",
       "        [ 0.47285843,  0.44745991, -0.7632789 , ...,  0.        ,\n",
       "          0.        ,  0.        ],\n",
       "        ...,\n",
       "        [ 0.61488849,  0.48622227, -0.64671773, ...,  0.        ,\n",
       "          0.        ,  0.        ],\n",
       "        [ 0.61275399,  0.48479342, -0.64826834, ...,  0.        ,\n",
       "          0.        ,  0.        ],\n",
       "        [ 0.61145371,  0.48418015, -0.63951069, ...,  0.        ,\n",
       "          0.        ,  0.        ]]])"
      ]
     },
     "execution_count": 64,
     "metadata": {},
     "output_type": "execute_result"
    }
   ],
   "source": [
    "np.expand_dims(X_test[0], axis=0)"
   ]
  },
  {
   "cell_type": "code",
   "execution_count": 65,
   "id": "85d1000a",
   "metadata": {},
   "outputs": [
    {
     "name": "stdout",
     "output_type": "stream",
     "text": [
      "1/1 [==============================] - 0s 20ms/step\n"
     ]
    },
    {
     "data": {
      "text/plain": [
       "array([[4.2356127e-21, 0.0000000e+00, 0.0000000e+00, 1.0000000e+00,\n",
       "        0.0000000e+00]], dtype=float32)"
      ]
     },
     "execution_count": 65,
     "metadata": {},
     "output_type": "execute_result"
    }
   ],
   "source": [
    "model.predict(np.expand_dims(X_test[0], axis=0))"
   ]
  },
  {
   "cell_type": "code",
   "execution_count": 98,
   "id": "90b94bba",
   "metadata": {},
   "outputs": [
    {
     "ename": "error",
     "evalue": "OpenCV(4.6.0) /Users/runner/work/opencv-python/opencv-python/opencv/modules/imgproc/src/color.cpp:182: error: (-215:Assertion failed) !_src.empty() in function 'cvtColor'\n",
     "output_type": "error",
     "traceback": [
      "\u001b[0;31m---------------------------------------------------------------------------\u001b[0m",
      "\u001b[0;31merror\u001b[0m                                     Traceback (most recent call last)",
      "Cell \u001b[0;32mIn [98], line 15\u001b[0m\n\u001b[1;32m     12\u001b[0m ret, frame \u001b[38;5;241m=\u001b[39m cap\u001b[38;5;241m.\u001b[39mread()\n\u001b[1;32m     14\u001b[0m \u001b[38;5;66;03m#make detection\u001b[39;00m\n\u001b[0;32m---> 15\u001b[0m image, results \u001b[38;5;241m=\u001b[39m \u001b[43mmediapipe_detection\u001b[49m\u001b[43m(\u001b[49m\u001b[43mframe\u001b[49m\u001b[43m,\u001b[49m\u001b[43m \u001b[49m\u001b[43mholistic\u001b[49m\u001b[43m)\u001b[49m\n\u001b[1;32m     17\u001b[0m \u001b[38;5;66;03m#draw landmarks and connections\u001b[39;00m\n\u001b[1;32m     18\u001b[0m draw_landmarks(image, results)\n",
      "Cell \u001b[0;32mIn [3], line 7\u001b[0m, in \u001b[0;36mmediapipe_detection\u001b[0;34m(image, model)\u001b[0m\n\u001b[1;32m      5\u001b[0m \u001b[38;5;28;01mdef\u001b[39;00m \u001b[38;5;21mmediapipe_detection\u001b[39m(image, model):\n\u001b[1;32m      6\u001b[0m     \u001b[38;5;66;03m# convert color from BGR (cv) to RGB (for mp detection)\u001b[39;00m\n\u001b[0;32m----> 7\u001b[0m     image \u001b[38;5;241m=\u001b[39m \u001b[43mcv2\u001b[49m\u001b[38;5;241;43m.\u001b[39;49m\u001b[43mcvtColor\u001b[49m\u001b[43m(\u001b[49m\u001b[43mimage\u001b[49m\u001b[43m,\u001b[49m\u001b[43m \u001b[49m\u001b[43mcv2\u001b[49m\u001b[38;5;241;43m.\u001b[39;49m\u001b[43mCOLOR_BGR2RGB\u001b[49m\u001b[43m)\u001b[49m\n\u001b[1;32m      8\u001b[0m     \u001b[38;5;66;03m# make image unwriteable to save memory\u001b[39;00m\n\u001b[1;32m      9\u001b[0m     image\u001b[38;5;241m.\u001b[39mflags\u001b[38;5;241m.\u001b[39mwriteable \u001b[38;5;241m=\u001b[39m \u001b[38;5;28;01mFalse\u001b[39;00m\n",
      "\u001b[0;31merror\u001b[0m: OpenCV(4.6.0) /Users/runner/work/opencv-python/opencv-python/opencv/modules/imgproc/src/color.cpp:182: error: (-215:Assertion failed) !_src.empty() in function 'cvtColor'\n"
     ]
    }
   ],
   "source": [
    "# 1. Three new detection variables\n",
    "sequence = [] #to collect our 30 frames. Once we get 30 frames we will start predicting\n",
    "sentence = \"\" #prediction results\n",
    "threshold = 0.4 #render results only if above a certain threshold\n",
    "\n",
    "cap = cv2.VideoCapture(2) # 2 is for logitech (near right USB-C port)\n",
    "# set the mediapipe model\n",
    "with mp_holistic.Holistic(min_detection_confidence = 0.5, min_tracking_confidence = 0.5) as holistic:\n",
    "    while cap.isOpened():\n",
    "        \n",
    "        #read feed\n",
    "        ret, frame = cap.read()\n",
    "        \n",
    "        #make detection\n",
    "        image, results = mediapipe_detection(frame, holistic)\n",
    "        \n",
    "        #draw landmarks and connections\n",
    "        draw_landmarks(image, results)\n",
    "        \n",
    "        # 2. Prediction logic\n",
    "        keypoints = extract_keypoints(results)\n",
    "        sequence.append(keypoints)\n",
    "        sequence = sequence[-30:]\n",
    "        \n",
    "        if len(sequence) == 30:\n",
    "            prediction_results = model.predict(np.expand_dims(sequence, axis=0))[0]\n",
    "            #print(actions[np.argmax(prediction_results)])\n",
    "            #predictions.append(np.argmax(res))\n",
    "\n",
    "                     \n",
    "        #3. Viz logic\n",
    "        if prediction_results[np.argmax(prediction_results)] > threshold:\n",
    "            action = actions[np.argmax(prediction_results)]\n",
    "            if sentence != action and action != 'not_hotdog':\n",
    "                sentence = action\n",
    "        \n",
    "        cv2.rectangle(image, (100,100), (500,200), (245, 17, 16), -1)\n",
    "        cv2.putText(image, ' {}'.format(sentence), (105,175),\n",
    "                   cv2.FONT_HERSHEY_SIMPLEX, 2.5, (255, 255, 255), 4, cv2.LINE_AA)\n",
    "        \n",
    "        # show to screen\n",
    "        cv2.imshow('OpenCV Feed', image)\n",
    "        \n",
    "        #break gracefully\n",
    "        if cv2.waitKey(10) & 0xFF == ord('q'):\n",
    "            break\n",
    "            \n",
    "    # end the video capture setting\n",
    "    cap.release()\n",
    "    cv2.waitKey(1)\n",
    "    # close the video capture window(s)\n",
    "    cv2.destroyAllWindows()\n",
    "    cv2.waitKey(1)"
   ]
  },
  {
   "cell_type": "code",
   "execution_count": 97,
   "id": "53b16c90",
   "metadata": {},
   "outputs": [
    {
     "data": {
      "text/plain": [
       "-1"
      ]
     },
     "execution_count": 97,
     "metadata": {},
     "output_type": "execute_result"
    }
   ],
   "source": [
    "# end the video capture setting\n",
    "cap.release()\n",
    "cv2.waitKey(1)\n",
    "# close the video capture window(s)\n",
    "cv2.destroyAllWindows()\n",
    "cv2.waitKey(1)"
   ]
  },
  {
   "cell_type": "code",
   "execution_count": 94,
   "id": "14873118",
   "metadata": {},
   "outputs": [
    {
     "data": {
      "text/plain": [
       "<keras.engine.sequential.Sequential at 0x1531b40a0>"
      ]
     },
     "execution_count": 94,
     "metadata": {},
     "output_type": "execute_result"
    }
   ],
   "source": [
    "model"
   ]
  },
  {
   "cell_type": "code",
   "execution_count": null,
   "id": "7005dafe",
   "metadata": {},
   "outputs": [],
   "source": []
  },
  {
   "cell_type": "code",
   "execution_count": null,
   "id": "66d814e9",
   "metadata": {},
   "outputs": [],
   "source": []
  }
 ],
 "metadata": {
  "kernelspec": {
   "display_name": "TFODCourse",
   "language": "python",
   "name": "tfodcourse"
  },
  "language_info": {
   "codemirror_mode": {
    "name": "ipython",
    "version": 3
   },
   "file_extension": ".py",
   "mimetype": "text/x-python",
   "name": "python",
   "nbconvert_exporter": "python",
   "pygments_lexer": "ipython3",
   "version": "3.9.13"
  }
 },
 "nbformat": 4,
 "nbformat_minor": 5
}
