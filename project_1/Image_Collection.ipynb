{
 "cells": [
  {
   "cell_type": "code",
   "execution_count": 1,
   "id": "9013a278",
   "metadata": {},
   "outputs": [
    {
     "name": "stdout",
     "output_type": "stream",
     "text": [
      "Python 3.9.13\r\n"
     ]
    }
   ],
   "source": [
    "# check my python version.  Should be 3.9.13\n",
    "!python --version"
   ]
  },
  {
   "cell_type": "markdown",
   "id": "24ac4b42",
   "metadata": {},
   "source": [
    "# Image Collection\n",
    "## 1. Import Dependencies\n",
    "\n",
    "* __opencv__ (open computer vision)\n",
    "* __uuid__ (unique identifier) -- for naming without collisions\n",
    "* __os__ (operating system) -- great for file paths compatible with linux, mac, windows\n",
    "* __time__ -- to take breaks between image capture\n",
    "\n",
    "### Install packages"
   ]
  },
  {
   "cell_type": "code",
   "execution_count": 2,
   "id": "52779ce1",
   "metadata": {},
   "outputs": [
    {
     "name": "stdout",
     "output_type": "stream",
     "text": [
      "Collecting opencv-python\n",
      "  Using cached opencv_python-4.6.0.66-cp36-abi3-macosx_10_15_x86_64.whl (46.4 MB)\n",
      "Collecting numpy>=1.19.3\n",
      "  Downloading numpy-1.23.3-cp39-cp39-macosx_10_9_x86_64.whl (18.1 MB)\n",
      "\u001b[2K     \u001b[90m━━━━━━━━━━━━━━━━━━━━━━━━━━━━━━━━━━━━━━━━\u001b[0m \u001b[32m18.1/18.1 MB\u001b[0m \u001b[31m2.7 MB/s\u001b[0m eta \u001b[36m0:00:00\u001b[0m00:01\u001b[0m00:01\u001b[0m\n",
      "\u001b[?25hInstalling collected packages: numpy, opencv-python\n",
      "Successfully installed numpy-1.23.3 opencv-python-4.6.0.66\n"
     ]
    }
   ],
   "source": [
    "!pip install --upgrade opencv-python"
   ]
  },
  {
   "cell_type": "markdown",
   "id": "d914a0fb",
   "metadata": {},
   "source": [
    "### Import"
   ]
  },
  {
   "cell_type": "code",
   "execution_count": 3,
   "id": "041d28bf",
   "metadata": {},
   "outputs": [],
   "source": [
    "import cv2\n",
    "import uuid\n",
    "import os\n",
    "import time"
   ]
  },
  {
   "cell_type": "markdown",
   "id": "4ab12dff",
   "metadata": {},
   "source": [
    "## 2. Define Images to Collect\n",
    "\n",
    "* whatever the label is named here it should match folder name\n",
    "* change this based on your project and images you want to take\n",
    "* scale number_images up for better results"
   ]
  },
  {
   "cell_type": "code",
   "execution_count": 4,
   "id": "a60e85f1",
   "metadata": {},
   "outputs": [
    {
     "name": "stdout",
     "output_type": "stream",
     "text": [
      "['thumbsup', 'thumbsdown', 'thankyou', 'livelong']\n"
     ]
    }
   ],
   "source": [
    "labels = ['thumbsup', 'thumbsdown', 'thankyou', 'livelong']\n",
    "number_images = 5 #how many images for each label\n",
    "print(labels)"
   ]
  },
  {
   "cell_type": "markdown",
   "id": "fbe7b662",
   "metadata": {},
   "source": [
    "## 3. Set Up Folders\n",
    "\n",
    "We need a folder to collect our images in.  We will put it into Tensorflow > workspace > images\n",
    "\n",
    "`Tensorflow/workspace/images/collected_images`\n",
    "\n",
    "We will create this path using the __os__ library so that it will generate a string with the correct slashes based on our own OS."
   ]
  },
  {
   "cell_type": "code",
   "execution_count": 5,
   "id": "678eb9b0",
   "metadata": {},
   "outputs": [
    {
     "name": "stdout",
     "output_type": "stream",
     "text": [
      "Tensorflow/workspace/images/collected_images\n"
     ]
    }
   ],
   "source": [
    "IMAGES_PATH = os.path.join('Tensorflow',\n",
    "                          'workspace',\n",
    "                          'images',\n",
    "                          'collected_images')\n",
    "print(IMAGES_PATH)"
   ]
  },
  {
   "cell_type": "markdown",
   "id": "132dfb69",
   "metadata": {},
   "source": [
    "### create the folders\n",
    "\n",
    "* Mac/Linux ('posix') require the __-p__ flag to generate parent directories as necessary\n",
    "* Windows ('nt') doesn't use __-p__\n",
    "* Therefore create folders based on OS"
   ]
  },
  {
   "cell_type": "code",
   "execution_count": 6,
   "id": "5a24d441",
   "metadata": {},
   "outputs": [
    {
     "name": "stdout",
     "output_type": "stream",
     "text": [
      "posix\n"
     ]
    }
   ],
   "source": [
    "# to see which os I am running on:\n",
    "print(os.name)"
   ]
  },
  {
   "cell_type": "code",
   "execution_count": 6,
   "id": "dde1299c",
   "metadata": {},
   "outputs": [],
   "source": [
    "# make collected_images folder\n",
    "if not os.path.exists(IMAGES_PATH):\n",
    "    if os.name == 'posix':\n",
    "        !mkdir -p {IMAGES_PATH}\n",
    "    elif os.name == 'nt':\n",
    "        !mkdir {IMAGES_PATH}"
   ]
  },
  {
   "cell_type": "code",
   "execution_count": 7,
   "id": "4b7c1355",
   "metadata": {},
   "outputs": [],
   "source": [
    "#make a folder for each label\n",
    "for label in labels:\n",
    "    path = os.path.join(IMAGES_PATH, label)\n",
    "    if not os.path.exists(path):\n",
    "        !mkdir {path}"
   ]
  },
  {
   "cell_type": "markdown",
   "id": "3afb17e7",
   "metadata": {},
   "source": [
    "## 4. Capture Images\n",
    "\n",
    "1. Define function to capture images\n",
    "2. Define function to release the camera and close it."
   ]
  },
  {
   "cell_type": "code",
   "execution_count": 9,
   "id": "a95bc4e6",
   "metadata": {},
   "outputs": [],
   "source": [
    "def captureImages(labels_list, number_images_int):\n",
    "    # begin camera capture\n",
    "    cap = cv2.VideoCapture(0)\n",
    "    # loop through labels\n",
    "    for label in labels_list:\n",
    "        #print a confirmation re label\n",
    "        print('Get ready to collect images for', label)\n",
    "        #wait 5 sec to get into position\n",
    "        time.sleep(5)\n",
    "        #loop through the image numbers\n",
    "        for img_num in range(number_images_int):\n",
    "            #print confirmation about image number\n",
    "            print('capturing image', img_num)\n",
    "            #get the current frame\n",
    "            ret, frame = cap.read()\n",
    "            #create a unique image name with path\n",
    "            img_name_with_path = os.path.join(\n",
    "                IMAGES_PATH,\n",
    "                label,\n",
    "                label + '.{}.jpg'.format(str(uuid.uuid1()))\n",
    "            )\n",
    "            #write the frame to disk\n",
    "            cv2.imwrite(img_name_with_path, frame)\n",
    "            #show the frame\n",
    "            cv2.imshow('frame', frame)\n",
    "            #wait two sec before the next image number\n",
    "            time.sleep(2)\n",
    "            #listen for a wait key ('q') to break\n",
    "            if cv2.waitKey(1) & 0xFF == ord('q'):\n",
    "                break\n",
    "    #release the camera capture\n",
    "    cap.release()\n",
    "    cv2.waitKey(1)\n",
    "    #close out all image windows\n",
    "    cv2.destroyAllWindows()      \n",
    "    cv2.waitKey(1)\n",
    "    \n",
    "def releaseCamera():\n",
    "    cap.release()\n",
    "    cv2.waitKey(1)\n",
    "    #close out any image windows\n",
    "    cv2.destroyAllWindows()      \n",
    "    cv2.waitKey(1)"
   ]
  },
  {
   "cell_type": "markdown",
   "id": "5ae62d33",
   "metadata": {},
   "source": [
    "To __capture images__:\n",
    "1. run captureImages()"
   ]
  },
  {
   "cell_type": "code",
   "execution_count": 10,
   "id": "fb4d695e",
   "metadata": {},
   "outputs": [
    {
     "name": "stdout",
     "output_type": "stream",
     "text": [
      "[/Users/build/sandbox/BuildRepos/Sol-Windows-1/External/VirtualMonitor-macOS/MersiveRelayCam/RelayPlugin/VtcComLib/VtcComLib.cpp] initializer()\n",
      "[/Users/build/sandbox/BuildRepos/Sol-Windows-1/External/VirtualMonitor-macOS/MersiveRelayCam/RelayPlugin/avCam/avCam/avCamLib.mm] initializer()\n",
      "\t09-07-2022  19:12:22.605 @@@@===RelayStream:: set kCMIOStreamPropertyFormatDescription sub=2vuy w=1280 h=720\n",
      "\t09-07-2022  19:12:22.278 LocalCamera::passResolution set resolution to 1280x720\n",
      "\t09-07-2022  19:12:22.877 Local Camera start, ret=0\n",
      "Get ready to collect images for thumbsup\n",
      "capturing image 0\n",
      "capturing image 1\n",
      "capturing image 2\n",
      "capturing image 3\n",
      "capturing image 4\n",
      "Get ready to collect images for thumbsdown\n",
      "capturing image 0\n",
      "capturing image 1\n",
      "capturing image 2\n",
      "capturing image 3\n",
      "capturing image 4\n",
      "Get ready to collect images for thankyou\n",
      "capturing image 0\n",
      "capturing image 1\n",
      "capturing image 2\n",
      "capturing image 3\n",
      "capturing image 4\n",
      "Get ready to collect images for livelong\n",
      "capturing image 0\n",
      "capturing image 1\n",
      "capturing image 2\n",
      "capturing image 3\n",
      "capturing image 4\n"
     ]
    }
   ],
   "source": [
    "captureImages(labels, number_images)"
   ]
  },
  {
   "cell_type": "markdown",
   "id": "dfe1d694",
   "metadata": {},
   "source": [
    "To __stop the camera capture__ prematurely:\n",
    "1. press stop (interrupt the kernel) in Jupyter Notebook\n",
    "2. run releaseCamera()"
   ]
  },
  {
   "cell_type": "code",
   "execution_count": 43,
   "id": "adf25662",
   "metadata": {},
   "outputs": [],
   "source": [
    "releaseCamera()"
   ]
  },
  {
   "cell_type": "code",
   "execution_count": null,
   "id": "78ebd726",
   "metadata": {},
   "outputs": [],
   "source": []
  }
 ],
 "metadata": {
  "kernelspec": {
   "display_name": "TFODCourse",
   "language": "python",
   "name": "tfodcourse"
  },
  "language_info": {
   "codemirror_mode": {
    "name": "ipython",
    "version": 3
   },
   "file_extension": ".py",
   "mimetype": "text/x-python",
   "name": "python",
   "nbconvert_exporter": "python",
   "pygments_lexer": "ipython3",
   "version": "3.9.13"
  }
 },
 "nbformat": 4,
 "nbformat_minor": 5
}
