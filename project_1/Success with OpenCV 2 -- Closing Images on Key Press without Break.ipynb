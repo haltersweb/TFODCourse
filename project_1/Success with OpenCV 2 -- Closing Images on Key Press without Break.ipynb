{
 "cells": [
  {
   "cell_type": "markdown",
   "id": "35e5c6b0",
   "metadata": {},
   "source": [
    "# Success closing images using any key (not break)\n",
    "\n",
    "* Open images using cv2\n",
    "* Close image frame(s):\n",
    "    * manually\n",
    "* The Py process shown in the dock is just the kernal that's already running\n",
    "* Seems OK to keep the py process in the dock\n",
    "* Py being an alias is OK on venv\n",
    "* Re-opening keeps the same Py alias open (rather than starting a second one)\n",
    "* I am able to keep working in Jupyter kernel as long as I don't Force Close.\n",
    "* This solution uses any key when frame is in focus to close\n",
    "* code block won't resolve until process is ended with a key press\n",
    "* if you see spinner cursor, just move your mouse.  It disappears.\n",
    "\n",
    "## Understanding waitKey\n",
    "\n",
    "* waitKey(0) is important here.  It keeps waiting without moving on to the next command line until ESC or other key is pressed.\n",
    "* waitKey(1) must be used after destroyWindow() / destroyAllWindows() to complete closing\n",
    "* waitKey(ms) waits for defined milliseconds before moving on\n",
    "\n",
    "## Documentation\n",
    "[Top 5 inevitable methods for beginners in OpenCV using Python](https://medium.com/analytics-vidhya/top-5-inevitable-methods-for-beginners-in-opencv-using-python-9ff8e7ddb5ae)"
   ]
  },
  {
   "cell_type": "code",
   "execution_count": 1,
   "id": "45b2ce47",
   "metadata": {},
   "outputs": [],
   "source": [
    "import cv2"
   ]
  },
  {
   "cell_type": "code",
   "execution_count": 2,
   "id": "02acc171",
   "metadata": {},
   "outputs": [],
   "source": [
    "def show_img():\n",
    "    my_img = cv2.imread('plant.jpeg', 0)\n",
    "    cv2.imshow('foo', my_img) # show the plant image in \"foo\" frame\n",
    "    cv2.waitKey(0) # wait indefinitely until I press any key (frame must be in focus)\n",
    "    print('OK.  I\\'ve waited long enough')\n",
    "    cv2.destroyAllWindows() #close all frames\n",
    "    cv2.waitKey(1)"
   ]
  },
  {
   "cell_type": "code",
   "execution_count": 3,
   "id": "3fa9e775",
   "metadata": {},
   "outputs": [
    {
     "name": "stdout",
     "output_type": "stream",
     "text": [
      "OK.  I've waited long enough\n"
     ]
    }
   ],
   "source": [
    "show_img() # show both images and keep them open until I click any key"
   ]
  },
  {
   "cell_type": "code",
   "execution_count": null,
   "id": "83bb417c",
   "metadata": {},
   "outputs": [],
   "source": []
  }
 ],
 "metadata": {
  "kernelspec": {
   "display_name": "Python 3 (ipykernel)",
   "language": "python",
   "name": "python3"
  },
  "language_info": {
   "codemirror_mode": {
    "name": "ipython",
    "version": 3
   },
   "file_extension": ".py",
   "mimetype": "text/x-python",
   "name": "python",
   "nbconvert_exporter": "python",
   "pygments_lexer": "ipython3",
   "version": "3.9.13"
  }
 },
 "nbformat": 4,
 "nbformat_minor": 5
}
